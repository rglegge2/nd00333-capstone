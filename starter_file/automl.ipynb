{
 "cells": [
  {
   "cell_type": "markdown",
   "metadata": {},
   "source": [
    "# Automated ML\n",
    "\n",
    "TODO: Import Dependencies. In the cell below, import all the dependencies that you will need to complete the project."
   ]
  },
  {
   "cell_type": "code",
   "execution_count": 31,
   "metadata": {
    "gather": {
     "logged": 1598423888013
    },
    "jupyter": {
     "outputs_hidden": false,
     "source_hidden": false
    },
    "nteract": {
     "transient": {
      "deleting": false
     }
    }
   },
   "outputs": [
    {
     "name": "stdout",
     "output_type": "stream",
     "text": [
      "SDK version: 1.42.0\n"
     ]
    }
   ],
   "source": [
    "# !pip install opendatasets\n",
    "import opendatasets\n",
    "\n",
    "import logging\n",
    "import os\n",
    "import csv\n",
    "\n",
    "from matplotlib import pyplot as plt\n",
    "import numpy as np\n",
    "import pandas as pd\n",
    "from sklearn import datasets\n",
    "import pkg_resources\n",
    "import azureml.core\n",
    "from azureml.core.experiment import Experiment\n",
    "from azureml.core.workspace import Workspace\n",
    "from azureml.train.automl import AutoMLConfig\n",
    "from azureml.core.dataset import Dataset\n",
    "from azureml.core.datastore import Datastore\n",
    "\n",
    "from azureml.pipeline.steps import AutoMLStep\n",
    "\n",
    "# Check core SDK version number\n",
    "print(\"SDK version:\", azureml.core.VERSION)"
   ]
  },
  {
   "cell_type": "markdown",
   "metadata": {},
   "source": [
    "## Dataset\n",
    "\n",
    "### Overview\n",
    "The dataset that will be used for this project is the Credit Card Churn Prediction dataset from Kaggle. According to Kaggle, the goal of the dataset is to identify the cause of customer attrition from a consumer credit card bank. The dataset and additional information can be found here: https://www.kaggle.com/datasets/anwarsan/credit-card-bank-churn.\n",
    "\n",
    "To create the Dataset for this project, the data was first downloaded from Kaggle using the opendatasets package and entering my username and API KEy when prompted. The dataset contains two Naive Bayes Classifier fields which the uploader suggested to be deleted and not be considered for analysis; as such, I read the csv to a pandas Dataframe and dropped the two columns before proceeding. Once the dataset was cleaned, I proceeded to register the Dataframe as a TabularDataset in the Workspace's Datastore for use in this experiment."
   ]
  },
  {
   "cell_type": "code",
   "execution_count": 61,
   "metadata": {},
   "outputs": [],
   "source": [
    "# Download the dataset from Kaggle. This will prompt user input for a username and API Key.\n",
    "# opendatasets.download('https://www.kaggle.com/datasets/anwarsan/credit-card-bank-churn')\n",
    "\n",
    "# Clean the dataset. Need to drop last two columns that are from someone else's analysis and should not be included as predictors.\n",
    "df = pd.read_csv('credit-card-bank-churn/credit_card_churn.csv')\n",
    "df = df.drop(['CLIENTNUM', 'Naive_Bayes_Classifier_Attrition_Flag_Card_Category_Contacts_Count_12_mon_Dependent_count_Education_Level_Months_Inactive_12_mon_1', 'Naive_Bayes_Classifier_Attrition_Flag_Card_Category_Contacts_Count_12_mon_Dependent_count_Education_Level_Months_Inactive_12_mon_2'], axis=1)"
   ]
  },
  {
   "cell_type": "code",
   "execution_count": 62,
   "metadata": {
    "gather": {
     "logged": 1598423890461
    },
    "jupyter": {
     "outputs_hidden": false,
     "source_hidden": false
    },
    "nteract": {
     "transient": {
      "deleting": false
     }
    }
   },
   "outputs": [
    {
     "name": "stdout",
     "output_type": "stream",
     "text": [
      "Dataset with key: credit_card_churn not found in Workspace.\n",
      "Validating arguments.\n",
      "Arguments validated.\n",
      "Successfully obtained datastore reference and path.\n",
      "Uploading file to managed-dataset/a78a4549-7e05-47d3-9f86-17498c328ea8/\n",
      "Successfully uploaded file to datastore.\n",
      "Creating and registering a new dataset.\n",
      "Successfully created and registered a new dataset.\n"
     ]
    },
    {
     "data": {
      "text/html": [
       "<div>\n",
       "<style scoped>\n",
       "    .dataframe tbody tr th:only-of-type {\n",
       "        vertical-align: middle;\n",
       "    }\n",
       "\n",
       "    .dataframe tbody tr th {\n",
       "        vertical-align: top;\n",
       "    }\n",
       "\n",
       "    .dataframe thead th {\n",
       "        text-align: right;\n",
       "    }\n",
       "</style>\n",
       "<table border=\"1\" class=\"dataframe\">\n",
       "  <thead>\n",
       "    <tr style=\"text-align: right;\">\n",
       "      <th></th>\n",
       "      <th>Customer_Age</th>\n",
       "      <th>Dependent_count</th>\n",
       "      <th>Months_on_book</th>\n",
       "      <th>Total_Relationship_Count</th>\n",
       "      <th>Months_Inactive_12_mon</th>\n",
       "      <th>Contacts_Count_12_mon</th>\n",
       "      <th>Credit_Limit</th>\n",
       "      <th>Total_Revolving_Bal</th>\n",
       "      <th>Avg_Open_To_Buy</th>\n",
       "      <th>Total_Amt_Chng_Q4_Q1</th>\n",
       "      <th>Total_Trans_Amt</th>\n",
       "      <th>Total_Trans_Ct</th>\n",
       "      <th>Total_Ct_Chng_Q4_Q1</th>\n",
       "      <th>Avg_Utilization_Ratio</th>\n",
       "    </tr>\n",
       "  </thead>\n",
       "  <tbody>\n",
       "    <tr>\n",
       "      <th>count</th>\n",
       "      <td>10127.00</td>\n",
       "      <td>10127.00</td>\n",
       "      <td>10127.00</td>\n",
       "      <td>10127.00</td>\n",
       "      <td>10127.00</td>\n",
       "      <td>10127.00</td>\n",
       "      <td>10127.00</td>\n",
       "      <td>10127.00</td>\n",
       "      <td>10127.00</td>\n",
       "      <td>10127.00</td>\n",
       "      <td>10127.00</td>\n",
       "      <td>10127.00</td>\n",
       "      <td>10127.00</td>\n",
       "      <td>10127.00</td>\n",
       "    </tr>\n",
       "    <tr>\n",
       "      <th>mean</th>\n",
       "      <td>46.33</td>\n",
       "      <td>2.35</td>\n",
       "      <td>35.93</td>\n",
       "      <td>3.81</td>\n",
       "      <td>2.34</td>\n",
       "      <td>2.46</td>\n",
       "      <td>8631.95</td>\n",
       "      <td>1162.81</td>\n",
       "      <td>7469.14</td>\n",
       "      <td>0.76</td>\n",
       "      <td>4404.09</td>\n",
       "      <td>64.86</td>\n",
       "      <td>0.71</td>\n",
       "      <td>0.27</td>\n",
       "    </tr>\n",
       "    <tr>\n",
       "      <th>std</th>\n",
       "      <td>8.02</td>\n",
       "      <td>1.30</td>\n",
       "      <td>7.99</td>\n",
       "      <td>1.55</td>\n",
       "      <td>1.01</td>\n",
       "      <td>1.11</td>\n",
       "      <td>9088.78</td>\n",
       "      <td>814.99</td>\n",
       "      <td>9090.69</td>\n",
       "      <td>0.22</td>\n",
       "      <td>3397.13</td>\n",
       "      <td>23.47</td>\n",
       "      <td>0.24</td>\n",
       "      <td>0.28</td>\n",
       "    </tr>\n",
       "    <tr>\n",
       "      <th>min</th>\n",
       "      <td>26.00</td>\n",
       "      <td>0.00</td>\n",
       "      <td>13.00</td>\n",
       "      <td>1.00</td>\n",
       "      <td>0.00</td>\n",
       "      <td>0.00</td>\n",
       "      <td>1438.30</td>\n",
       "      <td>0.00</td>\n",
       "      <td>3.00</td>\n",
       "      <td>0.00</td>\n",
       "      <td>510.00</td>\n",
       "      <td>10.00</td>\n",
       "      <td>0.00</td>\n",
       "      <td>0.00</td>\n",
       "    </tr>\n",
       "    <tr>\n",
       "      <th>25%</th>\n",
       "      <td>41.00</td>\n",
       "      <td>1.00</td>\n",
       "      <td>31.00</td>\n",
       "      <td>3.00</td>\n",
       "      <td>2.00</td>\n",
       "      <td>2.00</td>\n",
       "      <td>2555.00</td>\n",
       "      <td>359.00</td>\n",
       "      <td>1324.50</td>\n",
       "      <td>0.63</td>\n",
       "      <td>2155.50</td>\n",
       "      <td>45.00</td>\n",
       "      <td>0.58</td>\n",
       "      <td>0.02</td>\n",
       "    </tr>\n",
       "    <tr>\n",
       "      <th>50%</th>\n",
       "      <td>46.00</td>\n",
       "      <td>2.00</td>\n",
       "      <td>36.00</td>\n",
       "      <td>4.00</td>\n",
       "      <td>2.00</td>\n",
       "      <td>2.00</td>\n",
       "      <td>4549.00</td>\n",
       "      <td>1276.00</td>\n",
       "      <td>3474.00</td>\n",
       "      <td>0.74</td>\n",
       "      <td>3899.00</td>\n",
       "      <td>67.00</td>\n",
       "      <td>0.70</td>\n",
       "      <td>0.18</td>\n",
       "    </tr>\n",
       "    <tr>\n",
       "      <th>75%</th>\n",
       "      <td>52.00</td>\n",
       "      <td>3.00</td>\n",
       "      <td>40.00</td>\n",
       "      <td>5.00</td>\n",
       "      <td>3.00</td>\n",
       "      <td>3.00</td>\n",
       "      <td>11067.50</td>\n",
       "      <td>1784.00</td>\n",
       "      <td>9859.00</td>\n",
       "      <td>0.86</td>\n",
       "      <td>4741.00</td>\n",
       "      <td>81.00</td>\n",
       "      <td>0.82</td>\n",
       "      <td>0.50</td>\n",
       "    </tr>\n",
       "    <tr>\n",
       "      <th>max</th>\n",
       "      <td>73.00</td>\n",
       "      <td>5.00</td>\n",
       "      <td>56.00</td>\n",
       "      <td>6.00</td>\n",
       "      <td>6.00</td>\n",
       "      <td>6.00</td>\n",
       "      <td>34516.00</td>\n",
       "      <td>2517.00</td>\n",
       "      <td>34516.00</td>\n",
       "      <td>3.40</td>\n",
       "      <td>18484.00</td>\n",
       "      <td>139.00</td>\n",
       "      <td>3.71</td>\n",
       "      <td>1.00</td>\n",
       "    </tr>\n",
       "  </tbody>\n",
       "</table>\n",
       "</div>"
      ],
      "text/plain": [
       "       Customer_Age  Dependent_count  Months_on_book  \\\n",
       "count      10127.00         10127.00        10127.00   \n",
       "mean          46.33             2.35           35.93   \n",
       "std            8.02             1.30            7.99   \n",
       "min           26.00             0.00           13.00   \n",
       "25%           41.00             1.00           31.00   \n",
       "50%           46.00             2.00           36.00   \n",
       "75%           52.00             3.00           40.00   \n",
       "max           73.00             5.00           56.00   \n",
       "\n",
       "       Total_Relationship_Count  Months_Inactive_12_mon  \\\n",
       "count                  10127.00                10127.00   \n",
       "mean                       3.81                    2.34   \n",
       "std                        1.55                    1.01   \n",
       "min                        1.00                    0.00   \n",
       "25%                        3.00                    2.00   \n",
       "50%                        4.00                    2.00   \n",
       "75%                        5.00                    3.00   \n",
       "max                        6.00                    6.00   \n",
       "\n",
       "       Contacts_Count_12_mon  Credit_Limit  Total_Revolving_Bal  \\\n",
       "count               10127.00      10127.00             10127.00   \n",
       "mean                    2.46       8631.95              1162.81   \n",
       "std                     1.11       9088.78               814.99   \n",
       "min                     0.00       1438.30                 0.00   \n",
       "25%                     2.00       2555.00               359.00   \n",
       "50%                     2.00       4549.00              1276.00   \n",
       "75%                     3.00      11067.50              1784.00   \n",
       "max                     6.00      34516.00              2517.00   \n",
       "\n",
       "       Avg_Open_To_Buy  Total_Amt_Chng_Q4_Q1  Total_Trans_Amt  Total_Trans_Ct  \\\n",
       "count         10127.00              10127.00         10127.00        10127.00   \n",
       "mean           7469.14                  0.76          4404.09           64.86   \n",
       "std            9090.69                  0.22          3397.13           23.47   \n",
       "min               3.00                  0.00           510.00           10.00   \n",
       "25%            1324.50                  0.63          2155.50           45.00   \n",
       "50%            3474.00                  0.74          3899.00           67.00   \n",
       "75%            9859.00                  0.86          4741.00           81.00   \n",
       "max           34516.00                  3.40         18484.00          139.00   \n",
       "\n",
       "       Total_Ct_Chng_Q4_Q1  Avg_Utilization_Ratio  \n",
       "count             10127.00               10127.00  \n",
       "mean                  0.71                   0.27  \n",
       "std                   0.24                   0.28  \n",
       "min                   0.00                   0.00  \n",
       "25%                   0.58                   0.02  \n",
       "50%                   0.70                   0.18  \n",
       "75%                   0.82                   0.50  \n",
       "max                   3.71                   1.00  "
      ]
     },
     "execution_count": 62,
     "metadata": {},
     "output_type": "execute_result"
    }
   ],
   "source": [
    "ws = Workspace.from_config()\n",
    "\n",
    "# choose a name for experiment\n",
    "experiment_name = 'capstone-experiment'\n",
    "experiment=Experiment(ws, experiment_name)\n",
    "\n",
    "found = False\n",
    "key = \"credit_card_churn\"\n",
    "description_text = \"Credit Card Churn Prediction dataset for Machine Learning Engineer with Microsoft Azure\"\n",
    "\n",
    "if key in ws.datasets.keys():\n",
    "    print(f'Dataset with key: {key} found in Workspace.')\n",
    "    found = True\n",
    "    dataset = ws.datasets[key]\n",
    "\n",
    "if not found:\n",
    "    print(f'Dataset with key: {key} not found in Workspace.')\n",
    "    # Get the Datastore where the Dataset will be registered\n",
    "    datastore = Datastore.get(ws, 'workspaceblobstore')\n",
    "    dataset = Dataset.Tabular.register_pandas_dataframe(dataframe=df, target=datastore, name=key, description=description_text)\n",
    "\n",
    "df = dataset.to_pandas_dataframe()\n",
    "df.describe()"
   ]
  },
  {
   "cell_type": "code",
   "execution_count": 63,
   "metadata": {},
   "outputs": [
    {
     "data": {
      "text/html": [
       "<div>\n",
       "<style scoped>\n",
       "    .dataframe tbody tr th:only-of-type {\n",
       "        vertical-align: middle;\n",
       "    }\n",
       "\n",
       "    .dataframe tbody tr th {\n",
       "        vertical-align: top;\n",
       "    }\n",
       "\n",
       "    .dataframe thead th {\n",
       "        text-align: right;\n",
       "    }\n",
       "</style>\n",
       "<table border=\"1\" class=\"dataframe\">\n",
       "  <thead>\n",
       "    <tr style=\"text-align: right;\">\n",
       "      <th></th>\n",
       "      <th>Attrition_Flag</th>\n",
       "      <th>Customer_Age</th>\n",
       "      <th>Gender</th>\n",
       "      <th>Dependent_count</th>\n",
       "      <th>Education_Level</th>\n",
       "      <th>Marital_Status</th>\n",
       "      <th>Income_Category</th>\n",
       "      <th>Card_Category</th>\n",
       "      <th>Months_on_book</th>\n",
       "      <th>Total_Relationship_Count</th>\n",
       "      <th>Months_Inactive_12_mon</th>\n",
       "      <th>Contacts_Count_12_mon</th>\n",
       "      <th>Credit_Limit</th>\n",
       "      <th>Total_Revolving_Bal</th>\n",
       "      <th>Avg_Open_To_Buy</th>\n",
       "      <th>Total_Amt_Chng_Q4_Q1</th>\n",
       "      <th>Total_Trans_Amt</th>\n",
       "      <th>Total_Trans_Ct</th>\n",
       "      <th>Total_Ct_Chng_Q4_Q1</th>\n",
       "      <th>Avg_Utilization_Ratio</th>\n",
       "    </tr>\n",
       "  </thead>\n",
       "  <tbody>\n",
       "    <tr>\n",
       "      <th>0</th>\n",
       "      <td>Existing Customer</td>\n",
       "      <td>45</td>\n",
       "      <td>M</td>\n",
       "      <td>3</td>\n",
       "      <td>High School</td>\n",
       "      <td>Married</td>\n",
       "      <td>$60K - $80K</td>\n",
       "      <td>Blue</td>\n",
       "      <td>39</td>\n",
       "      <td>5</td>\n",
       "      <td>1</td>\n",
       "      <td>3</td>\n",
       "      <td>12691.00</td>\n",
       "      <td>777</td>\n",
       "      <td>11914.00</td>\n",
       "      <td>1.33</td>\n",
       "      <td>1144</td>\n",
       "      <td>42</td>\n",
       "      <td>1.62</td>\n",
       "      <td>0.06</td>\n",
       "    </tr>\n",
       "    <tr>\n",
       "      <th>1</th>\n",
       "      <td>Existing Customer</td>\n",
       "      <td>49</td>\n",
       "      <td>F</td>\n",
       "      <td>5</td>\n",
       "      <td>Graduate</td>\n",
       "      <td>Single</td>\n",
       "      <td>Less than $40K</td>\n",
       "      <td>Blue</td>\n",
       "      <td>44</td>\n",
       "      <td>6</td>\n",
       "      <td>1</td>\n",
       "      <td>2</td>\n",
       "      <td>8256.00</td>\n",
       "      <td>864</td>\n",
       "      <td>7392.00</td>\n",
       "      <td>1.54</td>\n",
       "      <td>1291</td>\n",
       "      <td>33</td>\n",
       "      <td>3.71</td>\n",
       "      <td>0.10</td>\n",
       "    </tr>\n",
       "    <tr>\n",
       "      <th>2</th>\n",
       "      <td>Existing Customer</td>\n",
       "      <td>51</td>\n",
       "      <td>M</td>\n",
       "      <td>3</td>\n",
       "      <td>Graduate</td>\n",
       "      <td>Married</td>\n",
       "      <td>$80K - $120K</td>\n",
       "      <td>Blue</td>\n",
       "      <td>36</td>\n",
       "      <td>4</td>\n",
       "      <td>1</td>\n",
       "      <td>0</td>\n",
       "      <td>3418.00</td>\n",
       "      <td>0</td>\n",
       "      <td>3418.00</td>\n",
       "      <td>2.59</td>\n",
       "      <td>1887</td>\n",
       "      <td>20</td>\n",
       "      <td>2.33</td>\n",
       "      <td>0.00</td>\n",
       "    </tr>\n",
       "    <tr>\n",
       "      <th>3</th>\n",
       "      <td>Existing Customer</td>\n",
       "      <td>40</td>\n",
       "      <td>F</td>\n",
       "      <td>4</td>\n",
       "      <td>High School</td>\n",
       "      <td>Unknown</td>\n",
       "      <td>Less than $40K</td>\n",
       "      <td>Blue</td>\n",
       "      <td>34</td>\n",
       "      <td>3</td>\n",
       "      <td>4</td>\n",
       "      <td>1</td>\n",
       "      <td>3313.00</td>\n",
       "      <td>2517</td>\n",
       "      <td>796.00</td>\n",
       "      <td>1.41</td>\n",
       "      <td>1171</td>\n",
       "      <td>20</td>\n",
       "      <td>2.33</td>\n",
       "      <td>0.76</td>\n",
       "    </tr>\n",
       "    <tr>\n",
       "      <th>4</th>\n",
       "      <td>Existing Customer</td>\n",
       "      <td>40</td>\n",
       "      <td>M</td>\n",
       "      <td>3</td>\n",
       "      <td>Uneducated</td>\n",
       "      <td>Married</td>\n",
       "      <td>$60K - $80K</td>\n",
       "      <td>Blue</td>\n",
       "      <td>21</td>\n",
       "      <td>5</td>\n",
       "      <td>1</td>\n",
       "      <td>0</td>\n",
       "      <td>4716.00</td>\n",
       "      <td>0</td>\n",
       "      <td>4716.00</td>\n",
       "      <td>2.17</td>\n",
       "      <td>816</td>\n",
       "      <td>28</td>\n",
       "      <td>2.50</td>\n",
       "      <td>0.00</td>\n",
       "    </tr>\n",
       "  </tbody>\n",
       "</table>\n",
       "</div>"
      ],
      "text/plain": [
       "      Attrition_Flag  Customer_Age Gender  Dependent_count Education_Level  \\\n",
       "0  Existing Customer            45      M                3     High School   \n",
       "1  Existing Customer            49      F                5        Graduate   \n",
       "2  Existing Customer            51      M                3        Graduate   \n",
       "3  Existing Customer            40      F                4     High School   \n",
       "4  Existing Customer            40      M                3      Uneducated   \n",
       "\n",
       "  Marital_Status Income_Category Card_Category  Months_on_book  \\\n",
       "0        Married     $60K - $80K          Blue              39   \n",
       "1         Single  Less than $40K          Blue              44   \n",
       "2        Married    $80K - $120K          Blue              36   \n",
       "3        Unknown  Less than $40K          Blue              34   \n",
       "4        Married     $60K - $80K          Blue              21   \n",
       "\n",
       "   Total_Relationship_Count  Months_Inactive_12_mon  Contacts_Count_12_mon  \\\n",
       "0                         5                       1                      3   \n",
       "1                         6                       1                      2   \n",
       "2                         4                       1                      0   \n",
       "3                         3                       4                      1   \n",
       "4                         5                       1                      0   \n",
       "\n",
       "   Credit_Limit  Total_Revolving_Bal  Avg_Open_To_Buy  Total_Amt_Chng_Q4_Q1  \\\n",
       "0      12691.00                  777         11914.00                  1.33   \n",
       "1       8256.00                  864          7392.00                  1.54   \n",
       "2       3418.00                    0          3418.00                  2.59   \n",
       "3       3313.00                 2517           796.00                  1.41   \n",
       "4       4716.00                    0          4716.00                  2.17   \n",
       "\n",
       "   Total_Trans_Amt  Total_Trans_Ct  Total_Ct_Chng_Q4_Q1  Avg_Utilization_Ratio  \n",
       "0             1144              42                 1.62                   0.06  \n",
       "1             1291              33                 3.71                   0.10  \n",
       "2             1887              20                 2.33                   0.00  \n",
       "3             1171              20                 2.33                   0.76  \n",
       "4              816              28                 2.50                   0.00  "
      ]
     },
     "execution_count": 63,
     "metadata": {},
     "output_type": "execute_result"
    }
   ],
   "source": [
    "dataset.take(5).to_pandas_dataframe()"
   ]
  },
  {
   "cell_type": "markdown",
   "metadata": {},
   "source": [
    "## AutoML Configuration\n",
    "\n",
    "TODO: Explain why you chose the automl settings and cofiguration you used below."
   ]
  },
  {
   "cell_type": "code",
   "execution_count": 64,
   "metadata": {},
   "outputs": [
    {
     "name": "stdout",
     "output_type": "stream",
     "text": [
      "Found existing cluster with name: compute-cluster, will use it\n",
      "Succeeded.....................................................................................................................\n",
      "AmlCompute wait for completion finished\n",
      "\n",
      "Wait timeout has been reached\n",
      "Current provisioning state of AmlCompute is \"Succeeded\" and current node count is \"0\"\n"
     ]
    }
   ],
   "source": [
    "from azureml.core.compute import AmlCompute, ComputeTarget\n",
    "from azureml.core.compute_target import ComputeTargetException\n",
    "\n",
    "# The name of the CPU cluster to use\n",
    "amlcompute_cluster_name = \"compute-cluster\"\n",
    "\n",
    "# Verify that the cluster does not exist already\n",
    "try:\n",
    "    compute_target = ComputeTarget(workspace=ws, name=amlcompute_cluster_name)\n",
    "    print(f'Found existing cluster with name: {amlcompute_cluster_name}, will use it')\n",
    "except ComputeTargetException:\n",
    "    print(f'Compute cluster with name: {amlcompute_cluster_name} not found, will create it')\n",
    "    compute_config = AmlCompute.provisioning_configuration(vm_size='STANDARD_DS3_V2', max_nodes=4)\n",
    "    compute_target = ComputeTarget.create(ws, amlcompute_cluster_name, compute_config)\n",
    "\n",
    "compute_target.wait_for_completion(show_output=True, min_node_count=1, timeout_in_minutes=10)"
   ]
  },
  {
   "cell_type": "code",
   "execution_count": 65,
   "metadata": {
    "gather": {
     "logged": 1598429217746
    },
    "jupyter": {
     "outputs_hidden": false,
     "source_hidden": false
    },
    "nteract": {
     "transient": {
      "deleting": false
     }
    }
   },
   "outputs": [],
   "source": [
    "automl_settings = {\n",
    "    \"experiment_timeout_minutes\": 30,\n",
    "    \"max_concurrent_iterations\": 5,\n",
    "    \"primary_metric\" : 'AUC_weighted'\n",
    "}\n",
    "\n",
    "automl_config = AutoMLConfig(\n",
    "    compute_target=compute_target,\n",
    "    task='classification',\n",
    "    training_data=dataset,\n",
    "    enable_early_stopping=True,\n",
    "    featurization='auto',\n",
    "    debug_log='automl_errors.log',\n",
    "    label_column_name='Attrition_Flag',\n",
    "    n_cross_validations=5,\n",
    "    **automl_settings\n",
    ")"
   ]
  },
  {
   "cell_type": "code",
   "execution_count": 66,
   "metadata": {
    "gather": {
     "logged": 1598431107951
    },
    "jupyter": {
     "outputs_hidden": false,
     "source_hidden": false
    },
    "nteract": {
     "transient": {
      "deleting": false
     }
    }
   },
   "outputs": [
    {
     "name": "stdout",
     "output_type": "stream",
     "text": [
      "Submitting remote run.\n"
     ]
    },
    {
     "data": {
      "text/html": [
       "<table style=\"width:100%\"><tr><th>Experiment</th><th>Id</th><th>Type</th><th>Status</th><th>Details Page</th><th>Docs Page</th></tr><tr><td>capstone-experiment</td><td>AutoML_e6d0077b-24a2-498d-8d1d-b5f1f7de0369</td><td>automl</td><td>NotStarted</td><td><a href=\"https://ml.azure.com/runs/AutoML_e6d0077b-24a2-498d-8d1d-b5f1f7de0369?wsid=/subscriptions/d7f39349-a66b-446e-aba6-0053c2cf1c11/resourcegroups/aml-quickstarts-203771/workspaces/quick-starts-ws-203771&amp;tid=660b3398-b80e-49d2-bc5b-ac1dc93b5254\" target=\"_blank\" rel=\"noopener\">Link to Azure Machine Learning studio</a></td><td><a href=\"https://docs.microsoft.com/en-us/python/api/overview/azure/ml/intro?view=azure-ml-py\" target=\"_blank\" rel=\"noopener\">Link to Documentation</a></td></tr></table>"
      ],
      "text/plain": [
       "<IPython.core.display.HTML object>"
      ]
     },
     "metadata": {},
     "output_type": "display_data"
    }
   ],
   "source": [
    "# TODO: Submit your experiment\n",
    "remote_run = experiment.submit(automl_config)"
   ]
  },
  {
   "cell_type": "markdown",
   "metadata": {},
   "source": [
    "## Run Details\n",
    "\n",
    "OPTIONAL: Write about the different models trained and their performance. Why do you think some models did better than others?\n",
    "\n",
    "TODO: In the cell below, use the `RunDetails` widget to show the different experiments."
   ]
  },
  {
   "cell_type": "code",
   "execution_count": 67,
   "metadata": {
    "gather": {
     "logged": 1598431121770
    },
    "jupyter": {
     "outputs_hidden": false,
     "source_hidden": false
    },
    "nteract": {
     "transient": {
      "deleting": false
     }
    }
   },
   "outputs": [
    {
     "data": {
      "application/vnd.jupyter.widget-view+json": {
       "model_id": "65d0bdf40739467aa0a281fcf01d60b4",
       "version_major": 2,
       "version_minor": 0
      },
      "text/plain": [
       "_AutoMLWidget(widget_settings={'childWidgetDisplay': 'popup', 'send_telemetry': False, 'log_level': 'INFO', 's…"
      ]
     },
     "metadata": {},
     "output_type": "display_data"
    },
    {
     "data": {
      "application/aml.mini.widget.v1": "{\"status\": \"Completed\", \"workbench_run_details_uri\": \"https://ml.azure.com/runs/AutoML_e6d0077b-24a2-498d-8d1d-b5f1f7de0369?wsid=/subscriptions/d7f39349-a66b-446e-aba6-0053c2cf1c11/resourcegroups/aml-quickstarts-203771/workspaces/quick-starts-ws-203771&tid=660b3398-b80e-49d2-bc5b-ac1dc93b5254\", \"run_id\": \"AutoML_e6d0077b-24a2-498d-8d1d-b5f1f7de0369\", \"run_properties\": {\"run_id\": \"AutoML_e6d0077b-24a2-498d-8d1d-b5f1f7de0369\", \"created_utc\": \"2022-08-09T03:12:28.680336Z\", \"properties\": {\"num_iterations\": \"1000\", \"training_type\": \"TrainFull\", \"acquisition_function\": \"EI\", \"primary_metric\": \"AUC_weighted\", \"train_split\": \"0\", \"acquisition_parameter\": \"0\", \"num_cross_validation\": \"5\", \"target\": \"compute-cluster\", \"AMLSettingsJsonString\": \"{\\\"path\\\":null,\\\"name\\\":\\\"capstone-experiment\\\",\\\"subscription_id\\\":\\\"d7f39349-a66b-446e-aba6-0053c2cf1c11\\\",\\\"resource_group\\\":\\\"aml-quickstarts-203771\\\",\\\"workspace_name\\\":\\\"quick-starts-ws-203771\\\",\\\"region\\\":\\\"southcentralus\\\",\\\"compute_target\\\":\\\"compute-cluster\\\",\\\"spark_service\\\":null,\\\"azure_service\\\":\\\"remote\\\",\\\"many_models\\\":false,\\\"pipeline_fetch_max_batch_size\\\":1,\\\"enable_batch_run\\\":true,\\\"enable_run_restructure\\\":false,\\\"start_auxiliary_runs_before_parent_complete\\\":false,\\\"enable_code_generation\\\":true,\\\"iterations\\\":1000,\\\"primary_metric\\\":\\\"AUC_weighted\\\",\\\"task_type\\\":\\\"classification\\\",\\\"positive_label\\\":null,\\\"data_script\\\":null,\\\"test_size\\\":0.0,\\\"test_include_predictions_only\\\":false,\\\"validation_size\\\":0.0,\\\"n_cross_validations\\\":5,\\\"y_min\\\":null,\\\"y_max\\\":null,\\\"num_classes\\\":null,\\\"featurization\\\":\\\"auto\\\",\\\"_ignore_package_version_incompatibilities\\\":false,\\\"is_timeseries\\\":false,\\\"max_cores_per_iteration\\\":1,\\\"max_concurrent_iterations\\\":5,\\\"iteration_timeout_minutes\\\":null,\\\"mem_in_mb\\\":null,\\\"enforce_time_on_windows\\\":false,\\\"experiment_timeout_minutes\\\":30,\\\"experiment_exit_score\\\":null,\\\"partition_column_names\\\":null,\\\"whitelist_models\\\":null,\\\"blacklist_algos\\\":[\\\"TensorFlowLinearClassifier\\\",\\\"TensorFlowDNN\\\"],\\\"supported_models\\\":[\\\"LightGBM\\\",\\\"AveragedPerceptronClassifier\\\",\\\"DecisionTree\\\",\\\"TensorFlowDNN\\\",\\\"XGBoostClassifier\\\",\\\"LogisticRegression\\\",\\\"KNN\\\",\\\"TensorFlowLinearClassifier\\\",\\\"BernoulliNaiveBayes\\\",\\\"SVM\\\",\\\"ExtremeRandomTrees\\\",\\\"GradientBoosting\\\",\\\"SGD\\\",\\\"MultinomialNaiveBayes\\\",\\\"TabnetClassifier\\\",\\\"LinearSVM\\\",\\\"RandomForest\\\"],\\\"private_models\\\":[],\\\"auto_blacklist\\\":true,\\\"blacklist_samples_reached\\\":false,\\\"exclude_nan_labels\\\":true,\\\"verbosity\\\":20,\\\"_debug_log\\\":\\\"azureml_automl.log\\\",\\\"show_warnings\\\":false,\\\"model_explainability\\\":true,\\\"service_url\\\":null,\\\"sdk_url\\\":null,\\\"sdk_packages\\\":null,\\\"enable_onnx_compatible_models\\\":false,\\\"enable_split_onnx_featurizer_estimator_models\\\":false,\\\"vm_type\\\":\\\"STANDARD_DS3_V2\\\",\\\"telemetry_verbosity\\\":20,\\\"send_telemetry\\\":true,\\\"enable_dnn\\\":false,\\\"scenario\\\":\\\"SDK-1.13.0\\\",\\\"environment_label\\\":null,\\\"save_mlflow\\\":false,\\\"enable_categorical_indicators\\\":false,\\\"force_text_dnn\\\":false,\\\"enable_feature_sweeping\\\":true,\\\"enable_early_stopping\\\":true,\\\"early_stopping_n_iters\\\":10,\\\"arguments\\\":null,\\\"dataset_id\\\":\\\"117c76a5-fccc-43d9-b0dc-48d0f2046f3d\\\",\\\"hyperdrive_config\\\":null,\\\"validation_dataset_id\\\":null,\\\"run_source\\\":null,\\\"metrics\\\":null,\\\"enable_metric_confidence\\\":false,\\\"enable_ensembling\\\":true,\\\"enable_stack_ensembling\\\":true,\\\"ensemble_iterations\\\":15,\\\"enable_tf\\\":false,\\\"enable_subsampling\\\":null,\\\"subsample_seed\\\":null,\\\"enable_nimbusml\\\":false,\\\"enable_streaming\\\":false,\\\"force_streaming\\\":false,\\\"track_child_runs\\\":true,\\\"allowed_private_models\\\":[],\\\"label_column_name\\\":\\\"Attrition_Flag\\\",\\\"weight_column_name\\\":null,\\\"cv_split_column_names\\\":null,\\\"enable_local_managed\\\":false,\\\"_local_managed_run_id\\\":null,\\\"cost_mode\\\":1,\\\"lag_length\\\":0,\\\"metric_operation\\\":\\\"maximize\\\",\\\"preprocess\\\":true}\", \"DataPrepJsonString\": \"{\\\\\\\"training_data\\\\\\\": {\\\\\\\"datasetId\\\\\\\": \\\\\\\"117c76a5-fccc-43d9-b0dc-48d0f2046f3d\\\\\\\"}, \\\\\\\"datasets\\\\\\\": 0}\", \"EnableSubsampling\": null, \"runTemplate\": \"AutoML\", \"azureml.runsource\": \"automl\", \"display_task_type\": \"classification\", \"dependencies_versions\": \"{\\\"azureml-widgets\\\": \\\"1.42.0\\\", \\\"azureml-training-tabular\\\": \\\"1.42.0\\\", \\\"azureml-train\\\": \\\"1.42.0\\\", \\\"azureml-train-restclients-hyperdrive\\\": \\\"1.42.0\\\", \\\"azureml-train-core\\\": \\\"1.42.0\\\", \\\"azureml-train-automl\\\": \\\"1.42.0\\\", \\\"azureml-train-automl-runtime\\\": \\\"1.42.0\\\", \\\"azureml-train-automl-client\\\": \\\"1.42.0\\\", \\\"azureml-tensorboard\\\": \\\"1.42.0\\\", \\\"azureml-telemetry\\\": \\\"1.42.0\\\", \\\"azureml-sdk\\\": \\\"1.42.0\\\", \\\"azureml-samples\\\": \\\"0+unknown\\\", \\\"azureml-responsibleai\\\": \\\"1.42.0\\\", \\\"azureml-pipeline\\\": \\\"1.42.0\\\", \\\"azureml-pipeline-steps\\\": \\\"1.42.0\\\", \\\"azureml-pipeline-core\\\": \\\"1.42.0\\\", \\\"azureml-opendatasets\\\": \\\"1.42.0\\\", \\\"azureml-mlflow\\\": \\\"1.42.0\\\", \\\"azureml-interpret\\\": \\\"1.42.0\\\", \\\"azureml-inference-server-http\\\": \\\"0.4.13\\\", \\\"azureml-explain-model\\\": \\\"1.42.0\\\", \\\"azureml-defaults\\\": \\\"1.42.0\\\", \\\"azureml-dataset-runtime\\\": \\\"1.42.0\\\", \\\"azureml-dataprep\\\": \\\"4.0.1\\\", \\\"azureml-dataprep-rslex\\\": \\\"2.6.1\\\", \\\"azureml-dataprep-native\\\": \\\"38.0.0\\\", \\\"azureml-datadrift\\\": \\\"1.42.0\\\", \\\"azureml-core\\\": \\\"1.42.0\\\", \\\"azureml-contrib-services\\\": \\\"1.42.0\\\", \\\"azureml-contrib-server\\\": \\\"1.42.0\\\", \\\"azureml-contrib-reinforcementlearning\\\": \\\"1.42.0\\\", \\\"azureml-contrib-pipeline-steps\\\": \\\"1.42.0\\\", \\\"azureml-contrib-notebook\\\": \\\"1.42.0\\\", \\\"azureml-contrib-fairness\\\": \\\"1.42.0\\\", \\\"azureml-contrib-dataset\\\": \\\"1.42.0\\\", \\\"azureml-contrib-automl-pipeline-steps\\\": \\\"1.42.0\\\", \\\"azureml-cli-common\\\": \\\"1.42.0\\\", \\\"azureml-automl-runtime\\\": \\\"1.42.0\\\", \\\"azureml-automl-dnn-nlp\\\": \\\"1.42.0\\\", \\\"azureml-automl-core\\\": \\\"1.42.0\\\", \\\"azureml-accel-models\\\": \\\"1.42.0\\\"}\", \"_aml_system_scenario_identification\": \"Remote.Parent\", \"ClientType\": \"SDK\", \"environment_cpu_name\": \"AzureML-AutoML\", \"environment_cpu_label\": \"prod\", \"environment_gpu_name\": \"AzureML-AutoML-GPU\", \"environment_gpu_label\": \"prod\", \"root_attribution\": \"automl\", \"attribution\": \"AutoML\", \"Orchestrator\": \"AutoML\", \"CancelUri\": \"https://southcentralus.api.azureml.ms/jasmine/v1.0/subscriptions/d7f39349-a66b-446e-aba6-0053c2cf1c11/resourceGroups/aml-quickstarts-203771/providers/Microsoft.MachineLearningServices/workspaces/quick-starts-ws-203771/experimentids/a19700c3-bf83-437e-b4cd-43af0a8eda10/cancel/AutoML_e6d0077b-24a2-498d-8d1d-b5f1f7de0369\", \"ClientSdkVersion\": \"1.43.0.post1\", \"snapshotId\": \"00000000-0000-0000-0000-000000000000\", \"SetupRunId\": \"AutoML_e6d0077b-24a2-498d-8d1d-b5f1f7de0369_setup\", \"SetupRunContainerId\": \"dcid.AutoML_e6d0077b-24a2-498d-8d1d-b5f1f7de0369_setup\", \"FeaturizationRunJsonPath\": \"featurizer_container.json\", \"FeaturizationRunId\": \"AutoML_e6d0077b-24a2-498d-8d1d-b5f1f7de0369_featurize\", \"ProblemInfoJsonString\": \"{\\\"dataset_num_categorical\\\": 0, \\\"is_sparse\\\": true, \\\"subsampling\\\": false, \\\"has_extra_col\\\": true, \\\"dataset_classes\\\": 2, \\\"dataset_features\\\": 153, \\\"dataset_samples\\\": 10127, \\\"single_frequency_class_detected\\\": false}\", \"ModelExplainRunId\": \"AutoML_e6d0077b-24a2-498d-8d1d-b5f1f7de0369_ModelExplain\"}, \"tags\": {\"model_explain_run\": \"best_run\", \"_aml_system_automl_run_workspace_id\": \"977980a2-7f04-4e9e-a8e0-cff9d5813fab\", \"_aml_system_azureml.automlComponent\": \"AutoML\", \"pipeline_id\": \"\", \"score\": \"\", \"predicted_cost\": \"\", \"fit_time\": \"\", \"training_percent\": \"\", \"iteration\": \"\", \"run_preprocessor\": \"\", \"run_algorithm\": \"\", \"dynamic_allowlisting_iterations\": \"<24>;<30>;<35>;\", \"_aml_system_azureml.automl_early_exit_message\": \"No scores improved over last 10 iterations, so experiment stopped early. This early stopping behavior can be disabled by setting enable_early_stopping = False in AutoMLConfig for notebook/python SDK runs.\", \"automl_best_child_run_id\": \"AutoML_e6d0077b-24a2-498d-8d1d-b5f1f7de0369_38\", \"model_explain_best_run_child_id\": \"AutoML_e6d0077b-24a2-498d-8d1d-b5f1f7de0369_38\"}, \"end_time_utc\": \"2022-08-09T03:25:25.686528Z\", \"status\": \"Completed\", \"log_files\": {}, \"log_groups\": [], \"run_duration\": \"0:12:57\", \"run_number\": \"1660014748\", \"run_queued_details\": {\"status\": \"Completed\", \"details\": null}}, \"child_runs\": [{\"run_id\": \"AutoML_e6d0077b-24a2-498d-8d1d-b5f1f7de0369_setup\", \"run_number\": 1660014760, \"metric\": null, \"status\": \"Completed\", \"run_type\": \"azureml.scriptrun\", \"training_percent\": null, \"start_time\": \"2022-08-09T03:14:06.190926Z\", \"end_time\": \"2022-08-09T03:15:21.971148Z\", \"created_time\": \"2022-08-09T03:12:40.493254Z\", \"created_time_dt\": \"2022-08-09T03:12:40.493254Z\", \"duration\": \"0:02:41\", \"iteration\": null, \"goal\": null, \"run_name\": \"Completed\", \"run_properties\": null}, {\"run_id\": \"AutoML_e6d0077b-24a2-498d-8d1d-b5f1f7de0369_featurize\", \"run_number\": 1660014922, \"metric\": null, \"status\": \"Completed\", \"run_type\": \"automl.featurization\", \"training_percent\": null, \"start_time\": \"2022-08-09T03:15:22.687004Z\", \"end_time\": \"2022-08-09T03:17:48.924884Z\", \"created_time\": \"2022-08-09T03:15:22.345334Z\", \"created_time_dt\": \"2022-08-09T03:15:22.345334Z\", \"duration\": \"0:02:26\", \"iteration\": null, \"goal\": null, \"run_name\": \"Completed\", \"run_properties\": null}, {\"run_id\": \"AutoML_e6d0077b-24a2-498d-8d1d-b5f1f7de0369_0\", \"run_number\": 1660015070, \"metric\": null, \"status\": \"Completed\", \"run_type\": null, \"training_percent\": \"100\", \"start_time\": \"2022-08-09T03:18:05.064816Z\", \"end_time\": \"2022-08-09T03:18:20.287036Z\", \"created_time\": \"2022-08-09T03:17:50.441147Z\", \"created_time_dt\": \"2022-08-09T03:17:50.441147Z\", \"duration\": \"0:00:29\", \"iteration\": \"0\", \"goal\": \"AUC_weighted_max\", \"run_name\": \"MaxAbsScaler, LightGBM\", \"run_properties\": \"copy=True\", \"primary_metric\": 0.99268389, \"best_metric\": 0.99268389}, {\"run_id\": \"AutoML_e6d0077b-24a2-498d-8d1d-b5f1f7de0369_worker_0\", \"run_number\": 1660015071, \"metric\": null, \"status\": \"Completed\", \"run_type\": \"azureml.scriptrun\", \"training_percent\": null, \"start_time\": \"2022-08-09T03:17:56.784486Z\", \"end_time\": \"2022-08-09T03:19:13.644486Z\", \"created_time\": \"2022-08-09T03:17:51.579779Z\", \"created_time_dt\": \"2022-08-09T03:17:51.579779Z\", \"duration\": \"0:01:22\", \"iteration\": null, \"goal\": null, \"run_name\": \"Completed\", \"run_properties\": null}, {\"run_id\": \"AutoML_e6d0077b-24a2-498d-8d1d-b5f1f7de0369_5\", \"run_number\": 1660015072, \"metric\": null, \"status\": \"Completed\", \"run_type\": null, \"training_percent\": \"100\", \"start_time\": \"2022-08-09T03:19:44.217793Z\", \"end_time\": \"2022-08-09T03:19:56.301056Z\", \"created_time\": \"2022-08-09T03:17:52.134079Z\", \"created_time_dt\": \"2022-08-09T03:17:52.134079Z\", \"duration\": \"0:02:04\", \"iteration\": \"5\", \"goal\": \"AUC_weighted_max\", \"run_name\": \"SparseNormalizer, XGBoostClassifier\", \"run_properties\": \"copy=True, norm='max'\", \"primary_metric\": 0.93943102, \"best_metric\": 0.99268389}, {\"run_id\": \"AutoML_e6d0077b-24a2-498d-8d1d-b5f1f7de0369_worker_1\", \"run_number\": 1660015073, \"metric\": null, \"status\": \"Completed\", \"run_type\": \"azureml.scriptrun\", \"training_percent\": null, \"start_time\": \"2022-08-09T03:19:21.554502Z\", \"end_time\": \"2022-08-09T03:20:41.521465Z\", \"created_time\": \"2022-08-09T03:17:53.10553Z\", \"created_time_dt\": \"2022-08-09T03:17:53.10553Z\", \"duration\": \"0:02:48\", \"iteration\": null, \"goal\": null, \"run_name\": \"Completed\", \"run_properties\": null}, {\"run_id\": \"AutoML_e6d0077b-24a2-498d-8d1d-b5f1f7de0369_worker_2\", \"run_number\": 1660015074, \"metric\": null, \"status\": \"Completed\", \"run_type\": \"azureml.scriptrun\", \"training_percent\": null, \"start_time\": \"2022-08-09T03:19:33.46228Z\", \"end_time\": \"2022-08-09T03:21:49.607934Z\", \"created_time\": \"2022-08-09T03:17:54.522384Z\", \"created_time_dt\": \"2022-08-09T03:17:54.522384Z\", \"duration\": \"0:03:55\", \"iteration\": null, \"goal\": null, \"run_name\": \"Completed\", \"run_properties\": null}, {\"run_id\": \"AutoML_e6d0077b-24a2-498d-8d1d-b5f1f7de0369_worker_3\", \"run_number\": 1660015075, \"metric\": null, \"status\": \"Completed\", \"run_type\": \"azureml.scriptrun\", \"training_percent\": null, \"start_time\": \"2022-08-09T03:19:33.693187Z\", \"end_time\": \"2022-08-09T03:22:02.894049Z\", \"created_time\": \"2022-08-09T03:17:55.858537Z\", \"created_time_dt\": \"2022-08-09T03:17:55.858537Z\", \"duration\": \"0:04:07\", \"iteration\": null, \"goal\": null, \"run_name\": \"Completed\", \"run_properties\": null}, {\"run_id\": \"AutoML_e6d0077b-24a2-498d-8d1d-b5f1f7de0369_17\", \"run_number\": 1660015076, \"metric\": null, \"status\": \"Completed\", \"run_type\": null, \"training_percent\": \"100\", \"start_time\": \"2022-08-09T03:20:58.537369Z\", \"end_time\": \"2022-08-09T03:22:10.211123Z\", \"created_time\": \"2022-08-09T03:17:56.28763Z\", \"created_time_dt\": \"2022-08-09T03:17:56.28763Z\", \"duration\": \"0:04:13\", \"iteration\": \"17\", \"goal\": \"AUC_weighted_max\", \"run_name\": \"StandardScalerWrapper, ExtremeRandomTrees\", \"run_properties\": \"copy=True, with_mean=False, with_std=True\", \"primary_metric\": 0.95312521, \"best_metric\": 0.99268389}, {\"run_id\": \"AutoML_e6d0077b-24a2-498d-8d1d-b5f1f7de0369_worker_4\", \"run_number\": 1660015077, \"metric\": null, \"status\": \"Completed\", \"run_type\": \"azureml.scriptrun\", \"training_percent\": null, \"start_time\": \"2022-08-09T03:19:41.784345Z\", \"end_time\": \"2022-08-09T03:22:49.039366Z\", \"created_time\": \"2022-08-09T03:17:57.235433Z\", \"created_time_dt\": \"2022-08-09T03:17:57.235433Z\", \"duration\": \"0:04:51\", \"iteration\": null, \"goal\": null, \"run_name\": \"Completed\", \"run_properties\": null}, {\"run_id\": \"AutoML_e6d0077b-24a2-498d-8d1d-b5f1f7de0369_20\", \"run_number\": 1660015307, \"metric\": null, \"status\": \"Completed\", \"run_type\": \"azureml.scriptrun\", \"training_percent\": \"100\", \"start_time\": \"2022-08-09T03:21:53.245695Z\", \"end_time\": \"2022-08-09T03:22:17.746697Z\", \"created_time\": \"2022-08-09T03:21:47.390125Z\", \"created_time_dt\": \"2022-08-09T03:21:47.390125Z\", \"duration\": \"0:00:30\", \"iteration\": \"20\", \"goal\": \"AUC_weighted_max\", \"run_name\": \"MaxAbsScaler, LogisticRegression\", \"run_properties\": \"copy=True\", \"primary_metric\": 0.94161373, \"best_metric\": 0.99268389}, {\"run_id\": \"AutoML_e6d0077b-24a2-498d-8d1d-b5f1f7de0369_22\", \"run_number\": 1660015333, \"metric\": null, \"status\": \"Completed\", \"run_type\": \"azureml.scriptrun\", \"training_percent\": \"100\", \"start_time\": \"2022-08-09T03:22:21.226707Z\", \"end_time\": \"2022-08-09T03:22:54.438575Z\", \"created_time\": \"2022-08-09T03:22:13.146903Z\", \"created_time_dt\": \"2022-08-09T03:22:13.146903Z\", \"duration\": \"0:00:41\", \"iteration\": \"22\", \"goal\": \"AUC_weighted_max\", \"run_name\": \"StandardScalerWrapper, XGBoostClassifier\", \"run_properties\": \"copy=True, with_mean=False, with_std=False\", \"primary_metric\": 0.99164432, \"best_metric\": 0.99268389}, {\"run_id\": \"AutoML_e6d0077b-24a2-498d-8d1d-b5f1f7de0369_25\", \"run_number\": 1660015349, \"metric\": null, \"status\": \"Completed\", \"run_type\": \"azureml.scriptrun\", \"training_percent\": \"100\", \"start_time\": \"2022-08-09T03:22:35.456502Z\", \"end_time\": \"2022-08-09T03:23:00.599288Z\", \"created_time\": \"2022-08-09T03:22:29.815038Z\", \"created_time_dt\": \"2022-08-09T03:22:29.815038Z\", \"duration\": \"0:00:30\", \"iteration\": \"25\", \"goal\": \"AUC_weighted_max\", \"run_name\": \"SparseNormalizer, XGBoostClassifier\", \"run_properties\": \"copy=True, norm='max'\", \"primary_metric\": 0.93885366, \"best_metric\": 0.99268389}, {\"run_id\": \"AutoML_e6d0077b-24a2-498d-8d1d-b5f1f7de0369_27\", \"run_number\": 1660015370, \"metric\": null, \"status\": \"Completed\", \"run_type\": \"azureml.scriptrun\", \"training_percent\": \"100\", \"start_time\": \"2022-08-09T03:22:56.703742Z\", \"end_time\": \"2022-08-09T03:23:22.651006Z\", \"created_time\": \"2022-08-09T03:22:50.499072Z\", \"created_time_dt\": \"2022-08-09T03:22:50.499072Z\", \"duration\": \"0:00:32\", \"iteration\": \"27\", \"goal\": \"AUC_weighted_max\", \"run_name\": \"StandardScalerWrapper, LightGBM\", \"run_properties\": \"copy=True, with_mean=False, with_std=False\", \"primary_metric\": 0.98122674, \"best_metric\": 0.99268389}, {\"run_id\": \"AutoML_e6d0077b-24a2-498d-8d1d-b5f1f7de0369_28\", \"run_number\": 1660015375, \"metric\": null, \"status\": \"Completed\", \"run_type\": \"azureml.scriptrun\", \"training_percent\": \"100\", \"start_time\": \"2022-08-09T03:23:08.85726Z\", \"end_time\": \"2022-08-09T03:23:34.790182Z\", \"created_time\": \"2022-08-09T03:22:55.790596Z\", \"created_time_dt\": \"2022-08-09T03:22:55.790596Z\", \"duration\": \"0:00:38\", \"iteration\": \"28\", \"goal\": \"AUC_weighted_max\", \"run_name\": \"StandardScalerWrapper, LightGBM\", \"run_properties\": \"copy=True, with_mean=False, with_std=True\", \"primary_metric\": 0.98471007, \"best_metric\": 0.99268389}, {\"run_id\": \"AutoML_e6d0077b-24a2-498d-8d1d-b5f1f7de0369_29\", \"run_number\": 1660015382, \"metric\": null, \"status\": \"Completed\", \"run_type\": \"azureml.scriptrun\", \"training_percent\": \"100\", \"start_time\": \"2022-08-09T03:23:27.147351Z\", \"end_time\": \"2022-08-09T03:23:52.196293Z\", \"created_time\": \"2022-08-09T03:23:02.172876Z\", \"created_time_dt\": \"2022-08-09T03:23:02.172876Z\", \"duration\": \"0:00:50\", \"iteration\": \"29\", \"goal\": \"AUC_weighted_max\", \"run_name\": \"StandardScalerWrapper, LightGBM\", \"run_properties\": \"copy=True, with_mean=False, with_std=True\", \"primary_metric\": 0.97832665, \"best_metric\": 0.99268389}, {\"run_id\": \"AutoML_e6d0077b-24a2-498d-8d1d-b5f1f7de0369_30\", \"run_number\": 1660015401, \"metric\": null, \"status\": \"Completed\", \"run_type\": \"azureml.scriptrun\", \"training_percent\": \"100\", \"start_time\": \"2022-08-09T03:23:30.177308Z\", \"end_time\": \"2022-08-09T03:23:58.616481Z\", \"created_time\": \"2022-08-09T03:23:21.978305Z\", \"created_time_dt\": \"2022-08-09T03:23:21.978305Z\", \"duration\": \"0:00:36\", \"iteration\": \"30\", \"goal\": \"AUC_weighted_max\", \"run_name\": \"StandardScalerWrapper, LightGBM\", \"run_properties\": \"copy=True, with_mean=False, with_std=False\", \"primary_metric\": 0.98756354, \"best_metric\": 0.99268389}, {\"run_id\": \"AutoML_e6d0077b-24a2-498d-8d1d-b5f1f7de0369_31\", \"run_number\": 1660015404, \"metric\": null, \"status\": \"Completed\", \"run_type\": \"azureml.scriptrun\", \"training_percent\": \"100\", \"start_time\": \"2022-08-09T03:23:35.995554Z\", \"end_time\": \"2022-08-09T03:24:07.746829Z\", \"created_time\": \"2022-08-09T03:23:24.348085Z\", \"created_time_dt\": \"2022-08-09T03:23:24.348085Z\", \"duration\": \"0:00:43\", \"iteration\": \"31\", \"goal\": \"AUC_weighted_max\", \"run_name\": \"StandardScalerWrapper, XGBoostClassifier\", \"run_properties\": \"copy=True, with_mean=False, with_std=False\", \"primary_metric\": 0.99017175, \"best_metric\": 0.99268389}, {\"run_id\": \"AutoML_e6d0077b-24a2-498d-8d1d-b5f1f7de0369_32\", \"run_number\": 1660015410, \"metric\": null, \"status\": \"Completed\", \"run_type\": \"azureml.scriptrun\", \"training_percent\": \"100\", \"start_time\": \"2022-08-09T03:23:42.502551Z\", \"end_time\": \"2022-08-09T03:24:09.263409Z\", \"created_time\": \"2022-08-09T03:23:30.816252Z\", \"created_time_dt\": \"2022-08-09T03:23:30.816252Z\", \"duration\": \"0:00:38\", \"iteration\": \"32\", \"goal\": \"AUC_weighted_max\", \"run_name\": \"MaxAbsScaler, LogisticRegression\", \"run_properties\": \"copy=True\", \"primary_metric\": 0.94134407, \"best_metric\": 0.99268389}, {\"run_id\": \"AutoML_e6d0077b-24a2-498d-8d1d-b5f1f7de0369_33\", \"run_number\": 1660015416, \"metric\": null, \"status\": \"Completed\", \"run_type\": \"azureml.scriptrun\", \"training_percent\": \"100\", \"start_time\": \"2022-08-09T03:24:00.587169Z\", \"end_time\": \"2022-08-09T03:24:21.483481Z\", \"created_time\": \"2022-08-09T03:23:36.402022Z\", \"created_time_dt\": \"2022-08-09T03:23:36.402022Z\", \"duration\": \"0:00:45\", \"iteration\": \"33\", \"goal\": \"AUC_weighted_max\", \"run_name\": \"MaxAbsScaler, LightGBM\", \"run_properties\": \"copy=True\", \"primary_metric\": 0.95510609, \"best_metric\": 0.99268389}, {\"run_id\": \"AutoML_e6d0077b-24a2-498d-8d1d-b5f1f7de0369_34\", \"run_number\": 1660015433, \"metric\": null, \"status\": \"Canceled\", \"run_type\": \"azureml.scriptrun\", \"training_percent\": \"100\", \"start_time\": \"2022-08-09T03:24:06.595225Z\", \"end_time\": \"2022-08-09T03:24:22.151213Z\", \"created_time\": \"2022-08-09T03:23:53.719145Z\", \"created_time_dt\": \"2022-08-09T03:23:53.719145Z\", \"duration\": \"0:00:28\", \"iteration\": \"34\", \"goal\": \"AUC_weighted_max\", \"run_name\": \"StandardScalerWrapper, LightGBM\", \"run_properties\": \"copy=True, with_mean=False, with_std=False\"}, {\"run_id\": \"AutoML_e6d0077b-24a2-498d-8d1d-b5f1f7de0369_35\", \"run_number\": 1660015441, \"metric\": null, \"status\": \"Canceled\", \"run_type\": \"azureml.scriptrun\", \"training_percent\": \"100\", \"start_time\": \"2022-08-09T03:24:15.394589Z\", \"end_time\": \"2022-08-09T03:24:22.173818Z\", \"created_time\": \"2022-08-09T03:24:01.101404Z\", \"created_time_dt\": \"2022-08-09T03:24:01.101404Z\", \"duration\": \"0:00:21\", \"iteration\": \"35\", \"goal\": null, \"run_name\": \"MaxAbsScaler, LightGBM\", \"run_properties\": null}, {\"run_id\": \"AutoML_e6d0077b-24a2-498d-8d1d-b5f1f7de0369_36\", \"run_number\": 1660015449, \"metric\": null, \"status\": \"Canceled\", \"run_type\": \"azureml.scriptrun\", \"training_percent\": \"100\", \"start_time\": \"2022-08-09T03:24:16.725465Z\", \"end_time\": \"2022-08-09T03:24:22.210727Z\", \"created_time\": \"2022-08-09T03:24:09.688001Z\", \"created_time_dt\": \"2022-08-09T03:24:09.688001Z\", \"duration\": \"0:00:12\", \"iteration\": \"36\", \"goal\": null, \"run_name\": \"Canceled\", \"run_properties\": null}, {\"run_id\": \"AutoML_e6d0077b-24a2-498d-8d1d-b5f1f7de0369_37\", \"run_number\": 1660015451, \"metric\": null, \"status\": \"Canceled\", \"run_type\": \"azureml.scriptrun\", \"training_percent\": \"100\", \"start_time\": \"2022-08-09T03:24:21.968889Z\", \"end_time\": \"2022-08-09T03:24:22.168932Z\", \"created_time\": \"2022-08-09T03:24:11.70991Z\", \"created_time_dt\": \"2022-08-09T03:24:11.70991Z\", \"duration\": \"0:00:10\", \"iteration\": \"37\", \"goal\": null, \"run_name\": \"Canceled\", \"run_properties\": null}, {\"run_id\": \"AutoML_e6d0077b-24a2-498d-8d1d-b5f1f7de0369_39\", \"run_number\": 1660015462, \"metric\": null, \"status\": \"Completed\", \"run_type\": \"azureml.scriptrun\", \"training_percent\": \"100\", \"start_time\": \"2022-08-09T03:24:28.526824Z\", \"end_time\": \"2022-08-09T03:25:23.707152Z\", \"created_time\": \"2022-08-09T03:24:22.807104Z\", \"created_time_dt\": \"2022-08-09T03:24:22.807104Z\", \"duration\": \"0:01:00\", \"iteration\": \"39\", \"goal\": \"AUC_weighted_max\", \"run_name\": \"StackEnsemble\", \"run_properties\": \"base_learners=[('0', Pipeline(memory=None, steps=[('maxabsscaler', MaxAbsScaler(copy=True\", \"primary_metric\": 0.99256429, \"best_metric\": 0.99268389}], \"children_metrics\": {\"categories\": [0], \"series\": {\"f1_score_micro\": [{\"categories\": [\"0\", \"5\", \"17\", \"20\", \"22\", \"25\", \"27\", \"28\", \"29\", \"30\", \"31\", \"32\", \"33\", \"39\"], \"mode\": \"markers\", \"name\": \"f1_score_micro\", \"stepped\": false, \"type\": \"scatter\", \"data\": [0.9701788843796084, 0.9169534325375063, 0.8792343972798069, 0.9177440434840897, 0.9681048103055343, 0.9161641378133645, 0.94717126735159, 0.9543791451866476, 0.9436159555409308, 0.9599089856556129, 0.9672162626595006, 0.9173491767516117, 0.9141901453938308, 0.9709686178445638]}, {\"categories\": [\"0\", \"5\", \"17\", \"20\", \"22\", \"25\", \"27\", \"28\", \"29\", \"30\", \"31\", \"32\", \"33\", \"39\"], \"mode\": \"lines\", \"name\": \"f1_score_micro_max\", \"stepped\": true, \"type\": \"scatter\", \"data\": [0.9701788843796084, 0.9701788843796084, 0.9701788843796084, 0.9701788843796084, 0.9701788843796084, 0.9701788843796084, 0.9701788843796084, 0.9701788843796084, 0.9701788843796084, 0.9701788843796084, 0.9701788843796084, 0.9701788843796084, 0.9701788843796084, 0.9709686178445638]}], \"matthews_correlation\": [{\"categories\": [\"0\", \"5\", \"17\", \"20\", \"22\", \"25\", \"27\", \"28\", \"29\", \"30\", \"31\", \"32\", \"33\", \"39\"], \"mode\": \"markers\", \"name\": \"matthews_correlation\", \"stepped\": false, \"type\": \"scatter\", \"data\": [0.8875948422969296, 0.6623082826233616, 0.6581575396919879, 0.6792158525261608, 0.879491151330005, 0.6576792589169185, 0.7946811744796538, 0.8263416012987372, 0.7799358972378059, 0.8486454056186311, 0.8766396215526415, 0.6773784165467978, 0.6527679902582673, 0.8904271117031639]}, {\"categories\": [\"0\", \"5\", \"17\", \"20\", \"22\", \"25\", \"27\", \"28\", \"29\", \"30\", \"31\", \"32\", \"33\", \"39\"], \"mode\": \"lines\", \"name\": \"matthews_correlation_max\", \"stepped\": true, \"type\": \"scatter\", \"data\": [0.8875948422969296, 0.8875948422969296, 0.8875948422969296, 0.8875948422969296, 0.8875948422969296, 0.8875948422969296, 0.8875948422969296, 0.8875948422969296, 0.8875948422969296, 0.8875948422969296, 0.8875948422969296, 0.8875948422969296, 0.8875948422969296, 0.8904271117031639]}], \"precision_score_weighted\": [{\"categories\": [\"0\", \"5\", \"17\", \"20\", \"22\", \"25\", \"27\", \"28\", \"29\", \"30\", \"31\", \"32\", \"33\", \"39\"], \"mode\": \"markers\", \"name\": \"precision_score_weighted\", \"stepped\": false, \"type\": \"scatter\", \"data\": [0.9699142308890295, 0.9138189730721885, 0.914680972118056, 0.9143780588377031, 0.9676700253559568, 0.9130120696174535, 0.9458135039589897, 0.9535208502172374, 0.9420546931927316, 0.9593828407972607, 0.9668375819285042, 0.9139423948351046, 0.9102247571374577, 0.9706456955626196]}, {\"categories\": [\"0\", \"5\", \"17\", \"20\", \"22\", \"25\", \"27\", \"28\", \"29\", \"30\", \"31\", \"32\", \"33\", \"39\"], \"mode\": \"lines\", \"name\": \"precision_score_weighted_max\", \"stepped\": true, \"type\": \"scatter\", \"data\": [0.9699142308890295, 0.9699142308890295, 0.9699142308890295, 0.9699142308890295, 0.9699142308890295, 0.9699142308890295, 0.9699142308890295, 0.9699142308890295, 0.9699142308890295, 0.9699142308890295, 0.9699142308890295, 0.9699142308890295, 0.9699142308890295, 0.9706456955626196]}], \"precision_score_macro\": [{\"categories\": [\"0\", \"5\", \"17\", \"20\", \"22\", \"25\", \"27\", \"28\", \"29\", \"30\", \"31\", \"32\", \"33\", \"39\"], \"mode\": \"markers\", \"name\": \"precision_score_macro\", \"stepped\": false, \"type\": \"scatter\", \"data\": [0.9531354294168658, 0.8923736196445899, 0.7796549688612513, 0.8627626230645051, 0.9497434132328632, 0.8925982229175615, 0.9258636588276055, 0.9274458150253644, 0.9208242012767016, 0.9335287896962974, 0.9457683241889159, 0.8622623040921159, 0.8778306447172017, 0.9549857960287088]}, {\"categories\": [\"0\", \"5\", \"17\", \"20\", \"22\", \"25\", \"27\", \"28\", \"29\", \"30\", \"31\", \"32\", \"33\", \"39\"], \"mode\": \"lines\", \"name\": \"precision_score_macro_max\", \"stepped\": true, \"type\": \"scatter\", \"data\": [0.9531354294168658, 0.9531354294168658, 0.9531354294168658, 0.9531354294168658, 0.9531354294168658, 0.9531354294168658, 0.9531354294168658, 0.9531354294168658, 0.9531354294168658, 0.9531354294168658, 0.9531354294168658, 0.9531354294168658, 0.9531354294168658, 0.9549857960287088]}], \"average_precision_score_weighted\": [{\"categories\": [\"0\", \"5\", \"17\", \"20\", \"22\", \"25\", \"27\", \"28\", \"29\", \"30\", \"31\", \"32\", \"33\", \"39\"], \"mode\": \"markers\", \"name\": \"average_precision_score_weighted\", \"stepped\": false, \"type\": \"scatter\", \"data\": [0.9936697653679257, 0.9582776201391686, 0.9599180150439223, 0.9585948577745637, 0.9927636193967728, 0.9582691073166177, 0.9832064548223329, 0.9859659239051709, 0.9815566154150679, 0.9886907127576399, 0.9918752525393459, 0.9584250076378786, 0.9636198229761911, 0.9935034546622324]}, {\"categories\": [\"0\", \"5\", \"17\", \"20\", \"22\", \"25\", \"27\", \"28\", \"29\", \"30\", \"31\", \"32\", \"33\", \"39\"], \"mode\": \"lines\", \"name\": \"average_precision_score_weighted_max\", \"stepped\": true, \"type\": \"scatter\", \"data\": [0.9936697653679257, 0.9936697653679257, 0.9936697653679257, 0.9936697653679257, 0.9936697653679257, 0.9936697653679257, 0.9936697653679257, 0.9936697653679257, 0.9936697653679257, 0.9936697653679257, 0.9936697653679257, 0.9936697653679257, 0.9936697653679257, 0.9936697653679257]}], \"AUC_weighted\": [{\"categories\": [\"0\", \"5\", \"17\", \"20\", \"22\", \"25\", \"27\", \"28\", \"29\", \"30\", \"31\", \"32\", \"33\", \"39\"], \"mode\": \"markers\", \"name\": \"AUC_weighted\", \"stepped\": false, \"type\": \"scatter\", \"data\": [0.9926838921732403, 0.9394310240489796, 0.9531252120262748, 0.9416137341709305, 0.9916443202961107, 0.938853655092579, 0.9812267356348947, 0.9847100680378421, 0.9783266465996311, 0.9875635356688617, 0.9901717488548296, 0.94134407006825, 0.9551060913635461, 0.9925642920164496]}, {\"categories\": [\"0\", \"5\", \"17\", \"20\", \"22\", \"25\", \"27\", \"28\", \"29\", \"30\", \"31\", \"32\", \"33\", \"39\"], \"mode\": \"lines\", \"name\": \"AUC_weighted_max\", \"stepped\": true, \"type\": \"scatter\", \"data\": [0.9926838921732403, 0.9926838921732403, 0.9926838921732403, 0.9926838921732403, 0.9926838921732403, 0.9926838921732403, 0.9926838921732403, 0.9926838921732403, 0.9926838921732403, 0.9926838921732403, 0.9926838921732403, 0.9926838921732403, 0.9926838921732403, 0.9926838921732403]}], \"AUC_micro\": [{\"categories\": [\"0\", \"5\", \"17\", \"20\", \"22\", \"25\", \"27\", \"28\", \"29\", \"30\", \"31\", \"32\", \"33\", \"39\"], \"mode\": \"markers\", \"name\": \"AUC_micro\", \"stepped\": false, \"type\": \"scatter\", \"data\": [0.9961448879348305, 0.9722633576075644, 0.9469916664507585, 0.9734570287383777, 0.995664963031845, 0.9718108226787084, 0.9895929121367782, 0.991799842286135, 0.987965986884453, 0.9933712249230217, 0.9950398961179945, 0.9733391652926177, 0.9767844875873802, 0.9959661930960995]}, {\"categories\": [\"0\", \"5\", \"17\", \"20\", \"22\", \"25\", \"27\", \"28\", \"29\", \"30\", \"31\", \"32\", \"33\", \"39\"], \"mode\": \"lines\", \"name\": \"AUC_micro_max\", \"stepped\": true, \"type\": \"scatter\", \"data\": [0.9961448879348305, 0.9961448879348305, 0.9961448879348305, 0.9961448879348305, 0.9961448879348305, 0.9961448879348305, 0.9961448879348305, 0.9961448879348305, 0.9961448879348305, 0.9961448879348305, 0.9961448879348305, 0.9961448879348305, 0.9961448879348305, 0.9961448879348305]}], \"average_precision_score_micro\": [{\"categories\": [\"0\", \"5\", \"17\", \"20\", \"22\", \"25\", \"27\", \"28\", \"29\", \"30\", \"31\", \"32\", \"33\", \"39\"], \"mode\": \"markers\", \"name\": \"average_precision_score_micro\", \"stepped\": false, \"type\": \"scatter\", \"data\": [0.9962097116846692, 0.9725384184419372, 0.9457590885336099, 0.9737357717750322, 0.9956768409491505, 0.972069690871043, 0.9899018074139632, 0.9919812281020063, 0.9883326285047357, 0.9935520318740361, 0.9950772127780232, 0.9736221870028423, 0.9774357654123319, 0.9960429066080467]}, {\"categories\": [\"0\", \"5\", \"17\", \"20\", \"22\", \"25\", \"27\", \"28\", \"29\", \"30\", \"31\", \"32\", \"33\", \"39\"], \"mode\": \"lines\", \"name\": \"average_precision_score_micro_max\", \"stepped\": true, \"type\": \"scatter\", \"data\": [0.9962097116846692, 0.9962097116846692, 0.9962097116846692, 0.9962097116846692, 0.9962097116846692, 0.9962097116846692, 0.9962097116846692, 0.9962097116846692, 0.9962097116846692, 0.9962097116846692, 0.9962097116846692, 0.9962097116846692, 0.9962097116846692, 0.9962097116846692]}], \"weighted_accuracy\": [{\"categories\": [\"0\", \"5\", \"17\", \"20\", \"22\", \"25\", \"27\", \"28\", \"29\", \"30\", \"31\", \"32\", \"33\", \"39\"], \"mode\": \"markers\", \"name\": \"weighted_accuracy\", \"stepped\": false, \"type\": \"scatter\", \"data\": [0.9832548466972388, 0.9677204252079775, 0.8762531380132058, 0.9545255118230985, 0.982152894390724, 0.9680445028422163, 0.9753485808719843, 0.974709004136414, 0.9739213000707624, 0.9763913612886952, 0.9805766371459734, 0.9544431893302769, 0.9629319571148465, 0.9839760610157631]}, {\"categories\": [\"0\", \"5\", \"17\", \"20\", \"22\", \"25\", \"27\", \"28\", \"29\", \"30\", \"31\", \"32\", \"33\", \"39\"], \"mode\": \"lines\", \"name\": \"weighted_accuracy_max\", \"stepped\": true, \"type\": \"scatter\", \"data\": [0.9832548466972388, 0.9832548466972388, 0.9832548466972388, 0.9832548466972388, 0.9832548466972388, 0.9832548466972388, 0.9832548466972388, 0.9832548466972388, 0.9832548466972388, 0.9832548466972388, 0.9832548466972388, 0.9832548466972388, 0.9832548466972388, 0.9839760610157631]}], \"log_loss\": [{\"categories\": [\"0\", \"5\", \"17\", \"20\", \"22\", \"25\", \"27\", \"28\", \"29\", \"30\", \"31\", \"32\", \"33\", \"39\"], \"mode\": \"markers\", \"name\": \"log_loss\", \"stepped\": false, \"type\": \"scatter\", \"data\": [0.07850712600764846, 0.2273388687270173, 0.3312909892051583, 0.2090717678296401, 0.08268715723154743, 0.23107974299373296, 0.14650999218059974, 0.12326207699825295, 0.1598336014034782, 0.10648176757641306, 0.09316499886324203, 0.20948849939382916, 0.20662960431920646, 0.09046253094820769]}, {\"categories\": [\"0\", \"5\", \"17\", \"20\", \"22\", \"25\", \"27\", \"28\", \"29\", \"30\", \"31\", \"32\", \"33\", \"39\"], \"mode\": \"lines\", \"name\": \"log_loss_min\", \"stepped\": true, \"type\": \"scatter\", \"data\": [0.07850712600764846, 0.07850712600764846, 0.07850712600764846, 0.07850712600764846, 0.07850712600764846, 0.07850712600764846, 0.07850712600764846, 0.07850712600764846, 0.07850712600764846, 0.07850712600764846, 0.07850712600764846, 0.07850712600764846, 0.07850712600764846, 0.07850712600764846]}], \"average_precision_score_macro\": [{\"categories\": [\"0\", \"5\", \"17\", \"20\", \"22\", \"25\", \"27\", \"28\", \"29\", \"30\", \"31\", \"32\", \"33\", \"39\"], \"mode\": \"markers\", \"name\": \"average_precision_score_macro\", \"stepped\": false, \"type\": \"scatter\", \"data\": [0.9834265991886063, 0.8986850077157099, 0.8946312644444803, 0.8985388939439127, 0.9812367571927869, 0.8988089840327186, 0.9553909405431031, 0.9626250561753578, 0.9515186039338399, 0.9698408376771516, 0.9791359731214764, 0.8981340702370775, 0.9060887714737869, 0.982930335578013]}, {\"categories\": [\"0\", \"5\", \"17\", \"20\", \"22\", \"25\", \"27\", \"28\", \"29\", \"30\", \"31\", \"32\", \"33\", \"39\"], \"mode\": \"lines\", \"name\": \"average_precision_score_macro_max\", \"stepped\": true, \"type\": \"scatter\", \"data\": [0.9834265991886063, 0.9834265991886063, 0.9834265991886063, 0.9834265991886063, 0.9834265991886063, 0.9834265991886063, 0.9834265991886063, 0.9834265991886063, 0.9834265991886063, 0.9834265991886063, 0.9834265991886063, 0.9834265991886063, 0.9834265991886063, 0.9834265991886063]}], \"precision_score_micro\": [{\"categories\": [\"0\", \"5\", \"17\", \"20\", \"22\", \"25\", \"27\", \"28\", \"29\", \"30\", \"31\", \"32\", \"33\", \"39\"], \"mode\": \"markers\", \"name\": \"precision_score_micro\", \"stepped\": false, \"type\": \"scatter\", \"data\": [0.9701788843796084, 0.9169534325375063, 0.8792343972798069, 0.9177440434840897, 0.9681048103055343, 0.9161641378133645, 0.94717126735159, 0.9543791451866476, 0.9436159555409308, 0.9599089856556129, 0.9672162626595006, 0.9173491767516117, 0.9141901453938308, 0.9709686178445638]}, {\"categories\": [\"0\", \"5\", \"17\", \"20\", \"22\", \"25\", \"27\", \"28\", \"29\", \"30\", \"31\", \"32\", \"33\", \"39\"], \"mode\": \"lines\", \"name\": \"precision_score_micro_max\", \"stepped\": true, \"type\": \"scatter\", \"data\": [0.9701788843796084, 0.9701788843796084, 0.9701788843796084, 0.9701788843796084, 0.9701788843796084, 0.9701788843796084, 0.9701788843796084, 0.9701788843796084, 0.9701788843796084, 0.9701788843796084, 0.9701788843796084, 0.9701788843796084, 0.9701788843796084, 0.9709686178445638]}], \"recall_score_micro\": [{\"categories\": [\"0\", \"5\", \"17\", \"20\", \"22\", \"25\", \"27\", \"28\", \"29\", \"30\", \"31\", \"32\", \"33\", \"39\"], \"mode\": \"markers\", \"name\": \"recall_score_micro\", \"stepped\": false, \"type\": \"scatter\", \"data\": [0.9701788843796084, 0.9169534325375063, 0.8792343972798069, 0.9177440434840897, 0.9681048103055343, 0.9161641378133645, 0.94717126735159, 0.9543791451866476, 0.9436159555409308, 0.9599089856556129, 0.9672162626595006, 0.9173491767516117, 0.9141901453938308, 0.9709686178445638]}, {\"categories\": [\"0\", \"5\", \"17\", \"20\", \"22\", \"25\", \"27\", \"28\", \"29\", \"30\", \"31\", \"32\", \"33\", \"39\"], \"mode\": \"lines\", \"name\": \"recall_score_micro_max\", \"stepped\": true, \"type\": \"scatter\", \"data\": [0.9701788843796084, 0.9701788843796084, 0.9701788843796084, 0.9701788843796084, 0.9701788843796084, 0.9701788843796084, 0.9701788843796084, 0.9701788843796084, 0.9701788843796084, 0.9701788843796084, 0.9701788843796084, 0.9701788843796084, 0.9701788843796084, 0.9709686178445638]}], \"balanced_accuracy\": [{\"categories\": [\"0\", \"5\", \"17\", \"20\", \"22\", \"25\", \"27\", \"28\", \"29\", \"30\", \"31\", \"32\", \"33\", \"39\"], \"mode\": \"markers\", \"name\": \"balanced_accuracy\", \"stepped\": false, \"type\": \"scatter\", \"data\": [0.9347606085558541, 0.7797473685320083, 0.8874018032962327, 0.8181212771346651, 0.9299898741203336, 0.7756018902301957, 0.8707926175692412, 0.8994924059274183, 0.8615100287249613, 0.9154100787488322, 0.9310158396439894, 0.8168606035493294, 0.7822805176880827, 0.9357206534663209]}, {\"categories\": [\"0\", \"5\", \"17\", \"20\", \"22\", \"25\", \"27\", \"28\", \"29\", \"30\", \"31\", \"32\", \"33\", \"39\"], \"mode\": \"lines\", \"name\": \"balanced_accuracy_max\", \"stepped\": true, \"type\": \"scatter\", \"data\": [0.9347606085558541, 0.9347606085558541, 0.9347606085558541, 0.9347606085558541, 0.9347606085558541, 0.9347606085558541, 0.9347606085558541, 0.9347606085558541, 0.9347606085558541, 0.9347606085558541, 0.9347606085558541, 0.9347606085558541, 0.9347606085558541, 0.9357206534663209]}], \"f1_score_macro\": [{\"categories\": [\"0\", \"5\", \"17\", \"20\", \"22\", \"25\", \"27\", \"28\", \"29\", \"30\", \"31\", \"32\", \"33\", \"39\"], \"mode\": \"markers\", \"name\": \"f1_score_macro\", \"stepped\": false, \"type\": \"scatter\", \"data\": [0.9434730007509693, 0.8211941779535976, 0.8146500859808746, 0.8377567955103139, 0.9394815689377669, 0.8182347545975963, 0.8952274194389274, 0.9125127213803846, 0.8874108307634835, 0.9239959707145546, 0.9381604022378344, 0.8367544690331794, 0.8187760943070485, 0.9449109781045595]}, {\"categories\": [\"0\", \"5\", \"17\", \"20\", \"22\", \"25\", \"27\", \"28\", \"29\", \"30\", \"31\", \"32\", \"33\", \"39\"], \"mode\": \"lines\", \"name\": \"f1_score_macro_max\", \"stepped\": true, \"type\": \"scatter\", \"data\": [0.9434730007509693, 0.9434730007509693, 0.9434730007509693, 0.9434730007509693, 0.9434730007509693, 0.9434730007509693, 0.9434730007509693, 0.9434730007509693, 0.9434730007509693, 0.9434730007509693, 0.9434730007509693, 0.9434730007509693, 0.9434730007509693, 0.9449109781045595]}], \"f1_score_weighted\": [{\"categories\": [\"0\", \"5\", \"17\", \"20\", \"22\", \"25\", \"27\", \"28\", \"29\", \"30\", \"31\", \"32\", \"33\", \"39\"], \"mode\": \"markers\", \"name\": \"f1_score_weighted\", \"stepped\": false, \"type\": \"scatter\", \"data\": [0.9698706361211918, 0.9099440469568869, 0.8889259650897022, 0.915060364555546, 0.9677451540112496, 0.9088175790027115, 0.9453466372965369, 0.9535904049773164, 0.9414481618401984, 0.959466977627832, 0.9669405389897923, 0.9145994303161957, 0.9080548630465725, 0.970643283036902]}, {\"categories\": [\"0\", \"5\", \"17\", \"20\", \"22\", \"25\", \"27\", \"28\", \"29\", \"30\", \"31\", \"32\", \"33\", \"39\"], \"mode\": \"lines\", \"name\": \"f1_score_weighted_max\", \"stepped\": true, \"type\": \"scatter\", \"data\": [0.9698706361211918, 0.9698706361211918, 0.9698706361211918, 0.9698706361211918, 0.9698706361211918, 0.9698706361211918, 0.9698706361211918, 0.9698706361211918, 0.9698706361211918, 0.9698706361211918, 0.9698706361211918, 0.9698706361211918, 0.9698706361211918, 0.970643283036902]}], \"recall_score_weighted\": [{\"categories\": [\"0\", \"5\", \"17\", \"20\", \"22\", \"25\", \"27\", \"28\", \"29\", \"30\", \"31\", \"32\", \"33\", \"39\"], \"mode\": \"markers\", \"name\": \"recall_score_weighted\", \"stepped\": false, \"type\": \"scatter\", \"data\": [0.9701788843796084, 0.9169534325375063, 0.8792343972798069, 0.9177440434840897, 0.9681048103055343, 0.9161641378133645, 0.94717126735159, 0.9543791451866476, 0.9436159555409308, 0.9599089856556129, 0.9672162626595006, 0.9173491767516117, 0.9141901453938308, 0.9709686178445638]}, {\"categories\": [\"0\", \"5\", \"17\", \"20\", \"22\", \"25\", \"27\", \"28\", \"29\", \"30\", \"31\", \"32\", \"33\", \"39\"], \"mode\": \"lines\", \"name\": \"recall_score_weighted_max\", \"stepped\": true, \"type\": \"scatter\", \"data\": [0.9701788843796084, 0.9701788843796084, 0.9701788843796084, 0.9701788843796084, 0.9701788843796084, 0.9701788843796084, 0.9701788843796084, 0.9701788843796084, 0.9701788843796084, 0.9701788843796084, 0.9701788843796084, 0.9701788843796084, 0.9701788843796084, 0.9709686178445638]}], \"norm_macro_recall\": [{\"categories\": [\"0\", \"5\", \"17\", \"20\", \"22\", \"25\", \"27\", \"28\", \"29\", \"30\", \"31\", \"32\", \"33\", \"39\"], \"mode\": \"markers\", \"name\": \"norm_macro_recall\", \"stepped\": false, \"type\": \"scatter\", \"data\": [0.8695212171117082, 0.5594947370640168, 0.7748036065924654, 0.6362425542693301, 0.8599797482406671, 0.5512037804603915, 0.7415852351384826, 0.7989848118548367, 0.7230200574499226, 0.8308201574976641, 0.862031679287979, 0.6337212070986589, 0.5645610353761654, 0.8714413069326419]}, {\"categories\": [\"0\", \"5\", \"17\", \"20\", \"22\", \"25\", \"27\", \"28\", \"29\", \"30\", \"31\", \"32\", \"33\", \"39\"], \"mode\": \"lines\", \"name\": \"norm_macro_recall_max\", \"stepped\": true, \"type\": \"scatter\", \"data\": [0.8695212171117082, 0.8695212171117082, 0.8695212171117082, 0.8695212171117082, 0.8695212171117082, 0.8695212171117082, 0.8695212171117082, 0.8695212171117082, 0.8695212171117082, 0.8695212171117082, 0.8695212171117082, 0.8695212171117082, 0.8695212171117082, 0.8714413069326419]}], \"AUC_macro\": [{\"categories\": [\"0\", \"5\", \"17\", \"20\", \"22\", \"25\", \"27\", \"28\", \"29\", \"30\", \"31\", \"32\", \"33\", \"39\"], \"mode\": \"markers\", \"name\": \"AUC_macro\", \"stepped\": false, \"type\": \"scatter\", \"data\": [0.9926838921732403, 0.9394310240489796, 0.9531252120262745, 0.9416137341709305, 0.9916443202961107, 0.9388536550925792, 0.9812267356348947, 0.9847100680378421, 0.9783266465996311, 0.9875635356688619, 0.9901717488548296, 0.94134407006825, 0.9551060913635461, 0.9925642920164496]}, {\"categories\": [\"0\", \"5\", \"17\", \"20\", \"22\", \"25\", \"27\", \"28\", \"29\", \"30\", \"31\", \"32\", \"33\", \"39\"], \"mode\": \"lines\", \"name\": \"AUC_macro_max\", \"stepped\": true, \"type\": \"scatter\", \"data\": [0.9926838921732403, 0.9926838921732403, 0.9926838921732403, 0.9926838921732403, 0.9926838921732403, 0.9926838921732403, 0.9926838921732403, 0.9926838921732403, 0.9926838921732403, 0.9926838921732403, 0.9926838921732403, 0.9926838921732403, 0.9926838921732403, 0.9926838921732403]}], \"recall_score_macro\": [{\"categories\": [\"0\", \"5\", \"17\", \"20\", \"22\", \"25\", \"27\", \"28\", \"29\", \"30\", \"31\", \"32\", \"33\", \"39\"], \"mode\": \"markers\", \"name\": \"recall_score_macro\", \"stepped\": false, \"type\": \"scatter\", \"data\": [0.9347606085558541, 0.7797473685320083, 0.8874018032962327, 0.8181212771346651, 0.9299898741203336, 0.7756018902301957, 0.8707926175692412, 0.8994924059274183, 0.8615100287249613, 0.9154100787488322, 0.9310158396439894, 0.8168606035493294, 0.7822805176880827, 0.9357206534663209]}, {\"categories\": [\"0\", \"5\", \"17\", \"20\", \"22\", \"25\", \"27\", \"28\", \"29\", \"30\", \"31\", \"32\", \"33\", \"39\"], \"mode\": \"lines\", \"name\": \"recall_score_macro_max\", \"stepped\": true, \"type\": \"scatter\", \"data\": [0.9347606085558541, 0.9347606085558541, 0.9347606085558541, 0.9347606085558541, 0.9347606085558541, 0.9347606085558541, 0.9347606085558541, 0.9347606085558541, 0.9347606085558541, 0.9347606085558541, 0.9347606085558541, 0.9347606085558541, 0.9347606085558541, 0.9357206534663209]}], \"accuracy\": [{\"categories\": [\"0\", \"5\", \"17\", \"20\", \"22\", \"25\", \"27\", \"28\", \"29\", \"30\", \"31\", \"32\", \"33\", \"39\"], \"mode\": \"markers\", \"name\": \"accuracy\", \"stepped\": false, \"type\": \"scatter\", \"data\": [0.9701788843796084, 0.9169534325375063, 0.8792343972798069, 0.9177440434840897, 0.9681048103055343, 0.9161641378133645, 0.94717126735159, 0.9543791451866476, 0.9436159555409308, 0.9599089856556129, 0.9672162626595006, 0.9173491767516117, 0.9141901453938308, 0.9709686178445638]}, {\"categories\": [\"0\", \"5\", \"17\", \"20\", \"22\", \"25\", \"27\", \"28\", \"29\", \"30\", \"31\", \"32\", \"33\", \"39\"], \"mode\": \"lines\", \"name\": \"accuracy_max\", \"stepped\": true, \"type\": \"scatter\", \"data\": [0.9701788843796084, 0.9701788843796084, 0.9701788843796084, 0.9701788843796084, 0.9701788843796084, 0.9701788843796084, 0.9701788843796084, 0.9701788843796084, 0.9701788843796084, 0.9701788843796084, 0.9701788843796084, 0.9701788843796084, 0.9701788843796084, 0.9709686178445638]}]}, \"metricName\": null, \"primaryMetricName\": \"AUC_weighted\", \"showLegend\": false}, \"run_metrics\": [{\"name\": \"experiment_status\", \"run_id\": \"AutoML_e6d0077b-24a2-498d-8d1d-b5f1f7de0369\", \"categories\": [0, 1, 2, 3, 4, 5, 6, 7, 8, 9, 10, 11, 12, 13, 14], \"series\": [{\"data\": [\"DatasetEvaluation\", \"FeaturesGeneration\", \"DatasetFeaturization\", \"DatasetFeaturizationCompleted\", \"DatasetBalancing\", \"DatasetCrossValidationSplit\", \"ModelSelection\", \"BestRunExplainModel\", \"ModelExplanationDataSetSetup\", \"PickSurrogateModel\", \"EngineeredFeatureExplanations\", \"EngineeredFeatureExplanations\", \"RawFeaturesExplanations\", \"RawFeaturesExplanations\", \"BestRunExplainModel\"]}]}, {\"name\": \"experiment_status_description\", \"run_id\": \"AutoML_e6d0077b-24a2-498d-8d1d-b5f1f7de0369\", \"categories\": [0, 1, 2, 3, 4, 5, 6, 7, 8, 9, 10, 11, 12, 13, 14], \"series\": [{\"data\": [\"Gathering dataset statistics.\", \"Generating features for the dataset.\", \"Beginning to fit featurizers and featurize the dataset.\", \"Completed fit featurizers and featurizing the dataset.\", \"Performing class balancing sweeping\", \"Generating individually featurized CV splits.\", \"Beginning model selection.\", \"Best run model explanations started\", \"Model explanations data setup completed\", \"Choosing LightGBM as the surrogate model for explanations\", \"Computation of engineered features started\", \"Computation of engineered features completed\", \"Computation of raw features started\", \"Computation of raw features completed\", \"Best run model explanations completed\"]}]}, {\"name\": \"f1_score_micro\", \"run_id\": \"AutoML_e6d0077b-24a2-498d-8d1d-b5f1f7de0369\", \"categories\": [0], \"series\": [{\"data\": [0.9718574092354941]}]}, {\"name\": \"average_precision_score_weighted\", \"run_id\": \"AutoML_e6d0077b-24a2-498d-8d1d-b5f1f7de0369\", \"categories\": [0], \"series\": [{\"data\": [0.9937982795944101]}]}, {\"name\": \"recall_score_macro\", \"run_id\": \"AutoML_e6d0077b-24a2-498d-8d1d-b5f1f7de0369\", \"categories\": [0], \"series\": [{\"data\": [0.9372646594595032]}]}, {\"name\": \"norm_macro_recall\", \"run_id\": \"AutoML_e6d0077b-24a2-498d-8d1d-b5f1f7de0369\", \"categories\": [0], \"series\": [{\"data\": [0.8745293189190064]}]}, {\"name\": \"log_loss\", \"run_id\": \"AutoML_e6d0077b-24a2-498d-8d1d-b5f1f7de0369\", \"categories\": [0], \"series\": [{\"data\": [0.0774209285204817]}]}, {\"name\": \"AUC_macro\", \"run_id\": \"AutoML_e6d0077b-24a2-498d-8d1d-b5f1f7de0369\", \"categories\": [0], \"series\": [{\"data\": [0.9929296469520811]}]}, {\"name\": \"recall_score_micro\", \"run_id\": \"AutoML_e6d0077b-24a2-498d-8d1d-b5f1f7de0369\", \"categories\": [0], \"series\": [{\"data\": [0.9718574092354941]}]}, {\"name\": \"average_precision_score_micro\", \"run_id\": \"AutoML_e6d0077b-24a2-498d-8d1d-b5f1f7de0369\", \"categories\": [0], \"series\": [{\"data\": [0.9963069330867139]}]}, {\"name\": \"precision_score_macro\", \"run_id\": \"AutoML_e6d0077b-24a2-498d-8d1d-b5f1f7de0369\", \"categories\": [0], \"series\": [{\"data\": [0.9568584813725994]}]}, {\"name\": \"precision_score_weighted\", \"run_id\": \"AutoML_e6d0077b-24a2-498d-8d1d-b5f1f7de0369\", \"categories\": [0], \"series\": [{\"data\": [0.9715605647462379]}]}, {\"name\": \"matthews_correlation\", \"run_id\": \"AutoML_e6d0077b-24a2-498d-8d1d-b5f1f7de0369\", \"categories\": [0], \"series\": [{\"data\": [0.8938426525072594]}]}, {\"name\": \"recall_score_weighted\", \"run_id\": \"AutoML_e6d0077b-24a2-498d-8d1d-b5f1f7de0369\", \"categories\": [0], \"series\": [{\"data\": [0.9718574092354941]}]}, {\"name\": \"f1_score_macro\", \"run_id\": \"AutoML_e6d0077b-24a2-498d-8d1d-b5f1f7de0369\", \"categories\": [0], \"series\": [{\"data\": [0.9466179315497024]}]}, {\"name\": \"f1_score_weighted\", \"run_id\": \"AutoML_e6d0077b-24a2-498d-8d1d-b5f1f7de0369\", \"categories\": [0], \"series\": [{\"data\": [0.971544546903948]}]}, {\"name\": \"accuracy\", \"run_id\": \"AutoML_e6d0077b-24a2-498d-8d1d-b5f1f7de0369\", \"categories\": [0], \"series\": [{\"data\": [0.9718574092354941]}]}, {\"name\": \"average_precision_score_macro\", \"run_id\": \"AutoML_e6d0077b-24a2-498d-8d1d-b5f1f7de0369\", \"categories\": [0], \"series\": [{\"data\": [0.9837030700410958]}]}, {\"name\": \"precision_score_micro\", \"run_id\": \"AutoML_e6d0077b-24a2-498d-8d1d-b5f1f7de0369\", \"categories\": [0], \"series\": [{\"data\": [0.9718574092354941]}]}, {\"name\": \"balanced_accuracy\", \"run_id\": \"AutoML_e6d0077b-24a2-498d-8d1d-b5f1f7de0369\", \"categories\": [0], \"series\": [{\"data\": [0.9372646594595032]}]}, {\"name\": \"AUC_micro\", \"run_id\": \"AutoML_e6d0077b-24a2-498d-8d1d-b5f1f7de0369\", \"categories\": [0], \"series\": [{\"data\": [0.9962367667033221]}]}, {\"name\": \"weighted_accuracy\", \"run_id\": \"AutoML_e6d0077b-24a2-498d-8d1d-b5f1f7de0369\", \"categories\": [0], \"series\": [{\"data\": [0.9846283898236639]}]}, {\"name\": \"AUC_weighted\", \"run_id\": \"AutoML_e6d0077b-24a2-498d-8d1d-b5f1f7de0369\", \"categories\": [0], \"series\": [{\"data\": [0.9929296469520811]}]}], \"run_logs\": \"\\nRun is completed.\", \"graph\": {}, \"widget_settings\": {\"childWidgetDisplay\": \"popup\", \"send_telemetry\": false, \"log_level\": \"INFO\", \"sdk_version\": \"1.42.0\"}, \"loading\": false}"
     },
     "metadata": {},
     "output_type": "display_data"
    }
   ],
   "source": [
    "from azureml.widgets import RunDetails\n",
    "RunDetails(remote_run).show()"
   ]
  },
  {
   "cell_type": "markdown",
   "metadata": {},
   "source": [
    "## Best Model\n",
    "\n",
    "TODO: In the cell below, get the best model from the automl experiments and display all the properties of the model.\n",
    "\n"
   ]
  },
  {
   "cell_type": "code",
   "execution_count": 68,
   "metadata": {
    "gather": {
     "logged": 1598431425670
    },
    "jupyter": {
     "outputs_hidden": false,
     "source_hidden": false
    },
    "nteract": {
     "transient": {
      "deleting": false
     }
    }
   },
   "outputs": [
    {
     "name": "stderr",
     "output_type": "stream",
     "text": [
      "WARNING:root:The version of the SDK does not match the version the model was trained on.\n",
      "WARNING:root:The consistency in the result may not be guaranteed.\n",
      "WARNING:root:Package:azureml-automl-core, training version:1.43.0.post2, current version:1.42.0\n",
      "Package:azureml-automl-runtime, training version:1.43.0, current version:1.42.0\n",
      "Package:azureml-core, training version:1.43.0, current version:1.42.0\n",
      "Package:azureml-dataset-runtime, training version:1.43.0, current version:1.42.0\n",
      "Package:azureml-defaults, training version:1.43.0, current version:1.42.0\n",
      "Package:azureml-interpret, training version:1.43.0, current version:1.42.0\n",
      "Package:azureml-mlflow, training version:1.43.0.post1, current version:1.42.0\n",
      "Package:azureml-pipeline-core, training version:1.43.0, current version:1.42.0\n",
      "Package:azureml-responsibleai, training version:1.43.0, current version:1.42.0\n",
      "Package:azureml-telemetry, training version:1.43.0, current version:1.42.0\n",
      "Package:azureml-train-automl-client, training version:1.43.0, current version:1.42.0\n",
      "Package:azureml-train-automl-runtime, training version:1.43.0.post1, current version:1.42.0\n",
      "Package:azureml-train-core, training version:1.43.0, current version:1.42.0\n",
      "Package:azureml-train-restclients-hyperdrive, training version:1.43.0, current version:1.42.0\n",
      "Package:azureml-training-tabular, training version:1.43.0, current version:1.42.0\n",
      "WARNING:root:Please ensure the version of your local conda dependencies match the version on which your model was trained in order to properly retrieve your model.\n"
     ]
    },
    {
     "name": "stdout",
     "output_type": "stream",
     "text": [
      "Pipeline(memory=None,\n",
      "         steps=[('datatransformer',\n",
      "                 DataTransformer(enable_dnn=False, enable_feature_sweeping=True, feature_sweeping_config={}, feature_sweeping_timeout=86400, featurization_config=None, force_text_dnn=False, is_cross_validation=True, is_onnx_compatible=False, observer=None, task='classification', working_dir='/mnt/batch/tasks/shared/LS_root/mount...\n",
      "                 PreFittedSoftVotingClassifier(classification_labels=array([0, 1]), estimators=[('0', Pipeline(memory=None, steps=[('maxabsscaler', MaxAbsScaler(copy=True)), ('lightgbmclassifier', LightGBMClassifier(min_data_in_leaf=20, n_jobs=1, problem_info=ProblemInfo(gpu_training_param_dict={'processing_unit_type': 'cpu'}), random_state=None))], verbose=False)), ('1', Pipeline(memory=None, steps=[('maxabsscaler', MaxAbsScaler(copy=True)), ('xgboostclassifier', XGBoostClassifier(n_jobs=1, problem_info=ProblemInfo(gpu_training_param_dict={'processing_unit_type': 'cpu'}), random_state=0, tree_method='auto'))], verbose=False)), ('22', Pipeline(memory=None, steps=[('standardscalerwrapper', StandardScalerWrapper(copy=True, with_mean=False, with_std=False)), ('xgboostclassifier', XGBoostClassifier(booster='gbtree', colsample_bytree=0.7, eta=0.3, gamma=0, max_depth=5, max_leaves=0, n_estimators=100, n_jobs=1, objective='reg:logistic', problem_info=ProblemInfo(gpu_training_param_dict={'processing_unit_type': 'cpu'}), random_state=0, reg_alpha=1.5625, reg_lambda=2.1875, subsample=0.7, tree_method='auto'))], verbose=False)), ('31', Pipeline(memory=None, steps=[('standardscalerwrapper', StandardScalerWrapper(copy=True, with_mean=False, with_std=False)), ('xgboostclassifier', XGBoostClassifier(booster='gbtree', colsample_bytree=1, eta=0.3, gamma=0.1, max_depth=6, max_leaves=0, n_estimators=100, n_jobs=1, objective='reg:logistic', problem_info=ProblemInfo(gpu_training_param_dict={'processing_unit_type': 'cpu'}), random_state=0, reg_alpha=0, reg_lambda=0.625, subsample=0.5, tree_method='auto'))], verbose=False)), ('34', Pipeline(memory=None, steps=[('standardscalerwrapper', StandardScalerWrapper(copy=True, with_mean=False, with_std=False)), ('lightgbmclassifier', LightGBMClassifier(boosting_type='gbdt', colsample_bytree=0.7922222222222222, learning_rate=0.03158578947368421, max_bin=150, max_depth=5, min_child_weight=4, min_data_in_leaf=1e-05, min_split_gain=0.3157894736842105, n_estimators=200, n_jobs=1, num_leaves=128, problem_info=ProblemInfo(gpu_training_param_dict={'processing_unit_type': 'cpu'}), random_state=None, reg_alpha=0.7894736842105263, reg_lambda=0.6842105263157894, subsample=0.09947368421052633))], verbose=False)), ('30', Pipeline(memory=None, steps=[('standardscalerwrapper', StandardScalerWrapper(copy=True, with_mean=False, with_std=False)), ('lightgbmclassifier', LightGBMClassifier(boosting_type='gbdt', colsample_bytree=0.3966666666666666, learning_rate=0.07368684210526316, max_bin=380, max_depth=10, min_child_weight=4, min_data_in_leaf=0.08620827586206897, min_split_gain=0.42105263157894735, n_estimators=400, n_jobs=1, num_leaves=5, problem_info=ProblemInfo(gpu_training_param_dict={'processing_unit_type': 'cpu'}), random_state=None, reg_alpha=0.5263157894736842, reg_lambda=0.21052631578947367, subsample=0.24789473684210528))], verbose=False))], flatten_transform=None, weights=[0.5333333333333333, 0.13333333333333333, 0.13333333333333333, 0.06666666666666667, 0.06666666666666667, 0.06666666666666667]))],\n",
      "         verbose=False)\n",
      "Y_transformer(['LabelEncoder', LabelEncoder()])\n"
     ]
    }
   ],
   "source": [
    "automl_run_job, best_automl_model = remote_run.get_output()\n",
    "print(best_automl_model)"
   ]
  },
  {
   "cell_type": "code",
   "execution_count": 69,
   "metadata": {
    "gather": {
     "logged": 1598431426111
    },
    "jupyter": {
     "outputs_hidden": false,
     "source_hidden": false
    },
    "nteract": {
     "transient": {
      "deleting": false
     }
    }
   },
   "outputs": [
    {
     "data": {
      "text/plain": [
       "['automl_model.joblib']"
      ]
     },
     "execution_count": 69,
     "metadata": {},
     "output_type": "execute_result"
    }
   ],
   "source": [
    "import joblib\n",
    "\n",
    "# Save the best model\n",
    "joblib.dump(value=best_automl_model, filename='automl_model.joblib')"
   ]
  },
  {
   "cell_type": "markdown",
   "metadata": {},
   "source": [
    "## Model Deployment\n",
    "\n",
    "Remember you have to deploy only one of the two models you trained but you still need to register both the models. Perform the steps in the rest of this notebook only if you wish to deploy this model.\n",
    "\n",
    "TODO: In the cell below, register the model, create an inference config and deploy the model as a web service."
   ]
  },
  {
   "cell_type": "code",
   "execution_count": 87,
   "metadata": {
    "gather": {
     "logged": 1598431435189
    },
    "jupyter": {
     "outputs_hidden": false,
     "source_hidden": false
    },
    "nteract": {
     "transient": {
      "deleting": false
     }
    }
   },
   "outputs": [
    {
     "name": "stdout",
     "output_type": "stream",
     "text": [
      "Registering model best-automl-model\n"
     ]
    }
   ],
   "source": [
    "from azureml.core.model import Model, InferenceConfig\n",
    "from azureml.core.resource_configuration import ResourceConfiguration\n",
    "\n",
    "model = Model.register(workspace=ws,\n",
    "                      model_name='best-automl-model',\n",
    "                      model_path='./automl_model.joblib',\n",
    "                      resource_configuration=ResourceConfiguration(cpu=1, memory_in_gb=1),\n",
    "                      description='Best model from the output of AutoML for Credit Card Churn Prediction')"
   ]
  },
  {
   "cell_type": "markdown",
   "metadata": {
    "collapsed": true,
    "gather": {
     "logged": 1598431657736
    },
    "jupyter": {
     "outputs_hidden": false,
     "source_hidden": false
    },
    "nteract": {
     "transient": {
      "deleting": false
     }
    }
   },
   "source": [
    "TODO: In the cell below, send a request to the web service you deployed to test it."
   ]
  },
  {
   "cell_type": "code",
   "execution_count": 92,
   "metadata": {
    "gather": {
     "logged": 1598432707604
    },
    "jupyter": {
     "outputs_hidden": false,
     "source_hidden": false
    },
    "nteract": {
     "transient": {
      "deleting": false
     }
    }
   },
   "outputs": [
    {
     "name": "stdout",
     "output_type": "stream",
     "text": [
      "Tips: You can try get_logs(): https://aka.ms/debugimage#dockerlog or local deployment: https://aka.ms/debugimage#debug-locally to debug if deployment takes longer than 10 minutes.\n",
      "Running\n",
      "2022-08-09 05:56:32+00:00 Creating Container Registry if not exists.\n",
      "2022-08-09 05:56:32+00:00 Registering the environment.\n",
      "2022-08-09 05:56:34+00:00 Use the existing image.\n",
      "2022-08-09 05:56:34+00:00 Generating deployment configuration.\n",
      "2022-08-09 05:56:35+00:00 Submitting deployment to compute.\n",
      "2022-08-09 05:56:36+00:00 Checking the status of deployment automl-model-deployment..\n",
      "2022-08-09 05:59:38+00:00 Checking the status of inference endpoint automl-model-deployment.\n",
      "Failed\n"
     ]
    },
    {
     "name": "stderr",
     "output_type": "stream",
     "text": [
      "ERROR:azureml.core.webservice.webservice:Service deployment polling reached non-successful terminal state, current service state: Failed\n",
      "Operation ID: 9ab9faf6-db24-4823-a266-ef3b4cbf5826\n",
      "More information can be found using '.get_logs()'\n",
      "Error:\n",
      "{\n",
      "  \"code\": \"AciDeploymentFailed\",\n",
      "  \"statusCode\": 400,\n",
      "  \"message\": \"Aci Deployment failed with exception: Error in entry script, FileNotFoundError: [Errno 2] No such file or directory: '/var/azureml-app/azureml-models/best-automl-model/3/model.pkl', please run print(service.get_logs()) to get details.\",\n",
      "  \"details\": [\n",
      "    {\n",
      "      \"code\": \"CrashLoopBackOff\",\n",
      "      \"message\": \"Error in entry script, FileNotFoundError: [Errno 2] No such file or directory: '/var/azureml-app/azureml-models/best-automl-model/3/model.pkl', please run print(service.get_logs()) to get details.\"\n",
      "    }\n",
      "  ]\n",
      "}\n",
      "\n"
     ]
    },
    {
     "ename": "WebserviceException",
     "evalue": "WebserviceException:\n\tMessage: Service deployment polling reached non-successful terminal state, current service state: Failed\nOperation ID: 9ab9faf6-db24-4823-a266-ef3b4cbf5826\nMore information can be found using '.get_logs()'\nError:\n{\n  \"code\": \"AciDeploymentFailed\",\n  \"statusCode\": 400,\n  \"message\": \"Aci Deployment failed with exception: Error in entry script, FileNotFoundError: [Errno 2] No such file or directory: '/var/azureml-app/azureml-models/best-automl-model/3/model.pkl', please run print(service.get_logs()) to get details.\",\n  \"details\": [\n    {\n      \"code\": \"CrashLoopBackOff\",\n      \"message\": \"Error in entry script, FileNotFoundError: [Errno 2] No such file or directory: '/var/azureml-app/azureml-models/best-automl-model/3/model.pkl', please run print(service.get_logs()) to get details.\"\n    }\n  ]\n}\n\tInnerException None\n\tErrorResponse \n{\n    \"error\": {\n        \"message\": \"Service deployment polling reached non-successful terminal state, current service state: Failed\\nOperation ID: 9ab9faf6-db24-4823-a266-ef3b4cbf5826\\nMore information can be found using '.get_logs()'\\nError:\\n{\\n  \\\"code\\\": \\\"AciDeploymentFailed\\\",\\n  \\\"statusCode\\\": 400,\\n  \\\"message\\\": \\\"Aci Deployment failed with exception: Error in entry script, FileNotFoundError: [Errno 2] No such file or directory: '/var/azureml-app/azureml-models/best-automl-model/3/model.pkl', please run print(service.get_logs()) to get details.\\\",\\n  \\\"details\\\": [\\n    {\\n      \\\"code\\\": \\\"CrashLoopBackOff\\\",\\n      \\\"message\\\": \\\"Error in entry script, FileNotFoundError: [Errno 2] No such file or directory: '/var/azureml-app/azureml-models/best-automl-model/3/model.pkl', please run print(service.get_logs()) to get details.\\\"\\n    }\\n  ]\\n}\"\n    }\n}",
     "output_type": "error",
     "traceback": [
      "\u001b[0;31m---------------------------------------------------------------------------\u001b[0m",
      "\u001b[0;31mWebserviceException\u001b[0m                       Traceback (most recent call last)",
      "Input \u001b[0;32mIn [92]\u001b[0m, in \u001b[0;36m<cell line: 25>\u001b[0;34m()\u001b[0m\n\u001b[1;32m     18\u001b[0m deployment_name \u001b[38;5;241m=\u001b[39m \u001b[38;5;124m'\u001b[39m\u001b[38;5;124mautoml-model-deployment\u001b[39m\u001b[38;5;124m'\u001b[39m\n\u001b[1;32m     19\u001b[0m service \u001b[38;5;241m=\u001b[39m Model\u001b[38;5;241m.\u001b[39mdeploy(workspace\u001b[38;5;241m=\u001b[39mws,\n\u001b[1;32m     20\u001b[0m                        name\u001b[38;5;241m=\u001b[39mdeployment_name,\n\u001b[1;32m     21\u001b[0m                        models\u001b[38;5;241m=\u001b[39m[model],\n\u001b[1;32m     22\u001b[0m                        inference_config\u001b[38;5;241m=\u001b[39minference_config,\n\u001b[1;32m     23\u001b[0m                        deployment_config\u001b[38;5;241m=\u001b[39mdeployment_config,\n\u001b[1;32m     24\u001b[0m                        overwrite\u001b[38;5;241m=\u001b[39m\u001b[38;5;28;01mTrue\u001b[39;00m)\n\u001b[0;32m---> 25\u001b[0m \u001b[43mservice\u001b[49m\u001b[38;5;241;43m.\u001b[39;49m\u001b[43mwait_for_deployment\u001b[49m\u001b[43m(\u001b[49m\u001b[43mshow_output\u001b[49m\u001b[38;5;241;43m=\u001b[39;49m\u001b[38;5;28;43;01mTrue\u001b[39;49;00m\u001b[43m)\u001b[49m\n",
      "File \u001b[0;32m/anaconda/envs/azureml_py38/lib/python3.8/site-packages/azureml/core/webservice/webservice.py:918\u001b[0m, in \u001b[0;36mWebservice.wait_for_deployment\u001b[0;34m(self, show_output, timeout_sec)\u001b[0m\n\u001b[1;32m    915\u001b[0m         \u001b[38;5;28;01mif\u001b[39;00m \u001b[38;5;129;01mnot\u001b[39;00m logs_response:\n\u001b[1;32m    916\u001b[0m             logs_response \u001b[38;5;241m=\u001b[39m \u001b[38;5;124m'\u001b[39m\u001b[38;5;124mCurrent sub-operation type not known, more logs unavailable.\u001b[39m\u001b[38;5;124m'\u001b[39m\n\u001b[0;32m--> 918\u001b[0m         \u001b[38;5;28;01mraise\u001b[39;00m WebserviceException(\u001b[38;5;124m'\u001b[39m\u001b[38;5;124mService deployment polling reached non-successful terminal state, current \u001b[39m\u001b[38;5;124m'\u001b[39m\n\u001b[1;32m    919\u001b[0m                                   \u001b[38;5;124m'\u001b[39m\u001b[38;5;124mservice state: \u001b[39m\u001b[38;5;132;01m{}\u001b[39;00m\u001b[38;5;130;01m\\n\u001b[39;00m\u001b[38;5;124m'\u001b[39m\n\u001b[1;32m    920\u001b[0m                                   \u001b[38;5;124m'\u001b[39m\u001b[38;5;124mOperation ID: \u001b[39m\u001b[38;5;132;01m{}\u001b[39;00m\u001b[38;5;130;01m\\n\u001b[39;00m\u001b[38;5;124m'\u001b[39m\n\u001b[1;32m    921\u001b[0m                                   \u001b[38;5;124m'\u001b[39m\u001b[38;5;132;01m{}\u001b[39;00m\u001b[38;5;130;01m\\n\u001b[39;00m\u001b[38;5;124m'\u001b[39m\n\u001b[1;32m    922\u001b[0m                                   \u001b[38;5;124m'\u001b[39m\u001b[38;5;124mError:\u001b[39m\u001b[38;5;130;01m\\n\u001b[39;00m\u001b[38;5;124m'\u001b[39m\n\u001b[1;32m    923\u001b[0m                                   \u001b[38;5;124m'\u001b[39m\u001b[38;5;132;01m{}\u001b[39;00m\u001b[38;5;124m'\u001b[39m\u001b[38;5;241m.\u001b[39mformat(\u001b[38;5;28mself\u001b[39m\u001b[38;5;241m.\u001b[39mstate, \u001b[38;5;28mself\u001b[39m\u001b[38;5;241m.\u001b[39m_operation_endpoint\u001b[38;5;241m.\u001b[39msplit(\u001b[38;5;124m'\u001b[39m\u001b[38;5;124m/\u001b[39m\u001b[38;5;124m'\u001b[39m)[\u001b[38;5;241m-\u001b[39m\u001b[38;5;241m1\u001b[39m],\n\u001b[1;32m    924\u001b[0m                                               logs_response, format_error_response), logger\u001b[38;5;241m=\u001b[39mmodule_logger)\n\u001b[1;32m    925\u001b[0m     \u001b[38;5;28mprint\u001b[39m(\u001b[38;5;124m'\u001b[39m\u001b[38;5;132;01m{}\u001b[39;00m\u001b[38;5;124m service creation operation finished, operation \u001b[39m\u001b[38;5;124m\"\u001b[39m\u001b[38;5;132;01m{}\u001b[39;00m\u001b[38;5;124m\"\u001b[39m\u001b[38;5;124m'\u001b[39m\u001b[38;5;241m.\u001b[39mformat(\u001b[38;5;28mself\u001b[39m\u001b[38;5;241m.\u001b[39m_webservice_type,\n\u001b[1;32m    926\u001b[0m                                                                           operation_state))\n\u001b[1;32m    927\u001b[0m \u001b[38;5;28;01mexcept\u001b[39;00m WebserviceException \u001b[38;5;28;01mas\u001b[39;00m e:\n",
      "\u001b[0;31mWebserviceException\u001b[0m: WebserviceException:\n\tMessage: Service deployment polling reached non-successful terminal state, current service state: Failed\nOperation ID: 9ab9faf6-db24-4823-a266-ef3b4cbf5826\nMore information can be found using '.get_logs()'\nError:\n{\n  \"code\": \"AciDeploymentFailed\",\n  \"statusCode\": 400,\n  \"message\": \"Aci Deployment failed with exception: Error in entry script, FileNotFoundError: [Errno 2] No such file or directory: '/var/azureml-app/azureml-models/best-automl-model/3/model.pkl', please run print(service.get_logs()) to get details.\",\n  \"details\": [\n    {\n      \"code\": \"CrashLoopBackOff\",\n      \"message\": \"Error in entry script, FileNotFoundError: [Errno 2] No such file or directory: '/var/azureml-app/azureml-models/best-automl-model/3/model.pkl', please run print(service.get_logs()) to get details.\"\n    }\n  ]\n}\n\tInnerException None\n\tErrorResponse \n{\n    \"error\": {\n        \"message\": \"Service deployment polling reached non-successful terminal state, current service state: Failed\\nOperation ID: 9ab9faf6-db24-4823-a266-ef3b4cbf5826\\nMore information can be found using '.get_logs()'\\nError:\\n{\\n  \\\"code\\\": \\\"AciDeploymentFailed\\\",\\n  \\\"statusCode\\\": 400,\\n  \\\"message\\\": \\\"Aci Deployment failed with exception: Error in entry script, FileNotFoundError: [Errno 2] No such file or directory: '/var/azureml-app/azureml-models/best-automl-model/3/model.pkl', please run print(service.get_logs()) to get details.\\\",\\n  \\\"details\\\": [\\n    {\\n      \\\"code\\\": \\\"CrashLoopBackOff\\\",\\n      \\\"message\\\": \\\"Error in entry script, FileNotFoundError: [Errno 2] No such file or directory: '/var/azureml-app/azureml-models/best-automl-model/3/model.pkl', please run print(service.get_logs()) to get details.\\\"\\n    }\\n  ]\\n}\"\n    }\n}"
     ]
    }
   ],
   "source": [
    "from azureml.core import Environment\n",
    "from azureml.core.webservice import AciWebservice\n",
    "\n",
    "# Get the output files from the AutoML run job for the best model to use for deployment\n",
    "automl_run_job.download_files(output_directory='automl_output')\n",
    "\n",
    "env = Environment.from_conda_specification('automl-env', './automl_output/outputs/conda_env_v_1_0_0.yml')\n",
    "\n",
    "inference_config = InferenceConfig(environment=env,\n",
    "                                  source_directory='./automl_output/outputs',\n",
    "                                  entry_script='./scoring_file_v_2_0_0.py')\n",
    "\n",
    "deployment_config = AciWebservice.deploy_configuration(cpu_cores=1,\n",
    "                                                       memory_gb=1,\n",
    "                                                       enable_app_insights=True,\n",
    "                                                       auth_enabled=True)\n",
    "\n",
    "deployment_name = 'automl-model-deployment'\n",
    "service = Model.deploy(workspace=ws,\n",
    "                       name=deployment_name,\n",
    "                       models=[model],\n",
    "                       inference_config=inference_config,\n",
    "                       deployment_config=deployment_config,\n",
    "                       overwrite=True)\n",
    "service.wait_for_deployment(show_output=True)"
   ]
  },
  {
   "cell_type": "markdown",
   "metadata": {
    "collapsed": true,
    "gather": {
     "logged": 1598432765711
    },
    "jupyter": {
     "outputs_hidden": false,
     "source_hidden": false
    },
    "nteract": {
     "transient": {
      "deleting": false
     }
    }
   },
   "source": [
    "TODO: In the cell below, print the logs of the web service and delete the service"
   ]
  },
  {
   "cell_type": "code",
   "execution_count": null,
   "metadata": {
    "jupyter": {
     "outputs_hidden": false,
     "source_hidden": false
    },
    "nteract": {
     "transient": {
      "deleting": false
     }
    }
   },
   "outputs": [],
   "source": [
    "# Print logs for the Webservice\n",
    "logs = service.get_logs()\n",
    "for line in logs.split('\\n'):\n",
    "    print(line)"
   ]
  },
  {
   "cell_type": "code",
   "execution_count": null,
   "metadata": {},
   "outputs": [],
   "source": [
    "# Delete the Webservice\n",
    "service.delete()"
   ]
  },
  {
   "cell_type": "markdown",
   "metadata": {},
   "source": [
    "**Submission Checklist**\n",
    "- I have registered the model.\n",
    "- I have deployed the model with the best accuracy as a webservice.\n",
    "- I have tested the webservice by sending a request to the model endpoint.\n",
    "- I have deleted the webservice and shutdown all the computes that I have used.\n",
    "- I have taken a screenshot showing the model endpoint as active.\n",
    "- The project includes a file containing the environment details.\n"
   ]
  },
  {
   "cell_type": "markdown",
   "metadata": {},
   "source": []
  }
 ],
 "metadata": {
  "kernel_info": {
   "name": "python3-azureml"
  },
  "kernelspec": {
   "display_name": "Python 3.8 - AzureML",
   "language": "python",
   "name": "python38-azureml"
  },
  "language_info": {
   "codemirror_mode": {
    "name": "ipython",
    "version": 3
   },
   "file_extension": ".py",
   "mimetype": "text/x-python",
   "name": "python",
   "nbconvert_exporter": "python",
   "pygments_lexer": "ipython3",
   "version": "3.8.5"
  },
  "nteract": {
   "version": "nteract-front-end@1.0.0"
  }
 },
 "nbformat": 4,
 "nbformat_minor": 2
}
