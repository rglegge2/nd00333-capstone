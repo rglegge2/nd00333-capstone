{
 "cells": [
  {
   "cell_type": "markdown",
   "metadata": {},
   "source": [
    "# Automated ML"
   ]
  },
  {
   "cell_type": "code",
   "execution_count": 1,
   "metadata": {
    "gather": {
     "logged": 1598423888013
    },
    "jupyter": {
     "outputs_hidden": false,
     "source_hidden": false
    },
    "nteract": {
     "transient": {
      "deleting": false
     }
    }
   },
   "outputs": [
    {
     "name": "stdout",
     "output_type": "stream",
     "text": [
      "Collecting opendatasets\n",
      "  Downloading opendatasets-0.1.22-py3-none-any.whl (15 kB)\n",
      "Requirement already satisfied: click in /anaconda/envs/azureml_py38/lib/python3.8/site-packages (from opendatasets) (7.1.2)\n",
      "Collecting kaggle\n",
      "  Downloading kaggle-1.5.12.tar.gz (58 kB)\n",
      "\u001b[K     |████████████████████████████████| 58 kB 4.0 MB/s eta 0:00:011\n",
      "\u001b[?25hRequirement already satisfied: tqdm in /anaconda/envs/azureml_py38/lib/python3.8/site-packages (from opendatasets) (4.64.0)\n",
      "Requirement already satisfied: six>=1.10 in /anaconda/envs/azureml_py38/lib/python3.8/site-packages (from kaggle->opendatasets) (1.16.0)\n",
      "Requirement already satisfied: certifi in /anaconda/envs/azureml_py38/lib/python3.8/site-packages (from kaggle->opendatasets) (2022.6.15)\n",
      "Requirement already satisfied: python-dateutil in /anaconda/envs/azureml_py38/lib/python3.8/site-packages (from kaggle->opendatasets) (2.8.2)\n",
      "Requirement already satisfied: requests in /anaconda/envs/azureml_py38/lib/python3.8/site-packages (from kaggle->opendatasets) (2.28.0)\n",
      "Collecting python-slugify\n",
      "  Downloading python_slugify-6.1.2-py2.py3-none-any.whl (9.4 kB)\n",
      "Requirement already satisfied: urllib3 in /anaconda/envs/azureml_py38/lib/python3.8/site-packages (from kaggle->opendatasets) (1.26.9)\n",
      "Requirement already satisfied: charset-normalizer~=2.0.0 in /anaconda/envs/azureml_py38/lib/python3.8/site-packages (from requests->kaggle->opendatasets) (2.0.12)\n",
      "Requirement already satisfied: idna<4,>=2.5 in /anaconda/envs/azureml_py38/lib/python3.8/site-packages (from requests->kaggle->opendatasets) (3.3)\n",
      "Collecting text-unidecode>=1.3\n",
      "  Downloading text_unidecode-1.3-py2.py3-none-any.whl (78 kB)\n",
      "\u001b[K     |████████████████████████████████| 78 kB 3.8 MB/s  eta 0:00:01\n",
      "\u001b[?25hBuilding wheels for collected packages: kaggle\n",
      "  Building wheel for kaggle (setup.py) ... \u001b[?25ldone\n",
      "\u001b[?25h  Created wheel for kaggle: filename=kaggle-1.5.12-py3-none-any.whl size=73052 sha256=c84f7173ed85d1fba48f55a628d6bc15cc44c04160f0de9a68ea0831acdcded9\n",
      "  Stored in directory: /home/azureuser/.cache/pip/wheels/29/da/11/144cc25aebdaeb4931b231e25fd34b394e6a5725cbb2f50106\n",
      "Successfully built kaggle\n",
      "Installing collected packages: text-unidecode, python-slugify, kaggle, opendatasets\n",
      "Successfully installed kaggle-1.5.12 opendatasets-0.1.22 python-slugify-6.1.2 text-unidecode-1.3\n",
      "SDK version: 1.43.0\n"
     ]
    }
   ],
   "source": [
    "# Install opendatasets package to download the dataset from Kaggle\n",
    "!pip install opendatasets\n",
    "import opendatasets\n",
    "\n",
    "import logging\n",
    "import os\n",
    "import csv\n",
    "\n",
    "from matplotlib import pyplot as plt\n",
    "import numpy as np\n",
    "import pandas as pd\n",
    "from sklearn import datasets\n",
    "import pkg_resources\n",
    "import azureml.core\n",
    "from azureml.core.experiment import Experiment\n",
    "from azureml.core.workspace import Workspace\n",
    "from azureml.train.automl import AutoMLConfig\n",
    "from azureml.core.dataset import Dataset\n",
    "from azureml.core.datastore import Datastore\n",
    "\n",
    "from azureml.pipeline.steps import AutoMLStep\n",
    "\n",
    "# Check core SDK version number\n",
    "print(\"SDK version:\", azureml.core.VERSION)"
   ]
  },
  {
   "cell_type": "markdown",
   "metadata": {},
   "source": [
    "## Dataset\n",
    "\n",
    "### Overview\n",
    "The dataset that will be used for this project is the Credit Card Churn Prediction dataset from Kaggle. According to Kaggle, the goal of the dataset is to identify the cause of customer attrition from a consumer credit card bank. The dataset and additional information can be found here: https://www.kaggle.com/datasets/anwarsan/credit-card-bank-churn.\n",
    "\n",
    "To create the Dataset for this project, the data was first downloaded from Kaggle using the opendatasets package and entering my username and API Key when prompted. The dataset contains two Naive Bayes Classifier fields which the uploader suggested to be deleted and not be considered for analysis; as such, I read the csv to a pandas Dataframe and dropped the two columns before proceeding. Once the dataset was cleaned, I proceeded to register the Dataframe as a TabularDataset in the Workspace's Datastore for use in this experiment."
   ]
  },
  {
   "cell_type": "code",
   "execution_count": 3,
   "metadata": {},
   "outputs": [
    {
     "name": "stdout",
     "output_type": "stream",
     "text": [
      "Please provide your Kaggle credentials to download this dataset. Learn more: http://bit.ly/kaggle-creds\n",
      "Your Kaggle username: rglegge2\n",
      "Your Kaggle Key: ········\n",
      "Downloading credit-card-bank-churn.zip to ./credit-card-bank-churn\n"
     ]
    },
    {
     "name": "stderr",
     "output_type": "stream",
     "text": [
      "100%|██████████| 379k/379k [00:00<00:00, 2.73MB/s]"
     ]
    },
    {
     "name": "stdout",
     "output_type": "stream",
     "text": [
      "\n"
     ]
    },
    {
     "name": "stderr",
     "output_type": "stream",
     "text": [
      "\n"
     ]
    }
   ],
   "source": [
    "# Download the dataset from Kaggle. This will prompt user input for a username and API Key.\n",
    "opendatasets.download('https://www.kaggle.com/datasets/anwarsan/credit-card-bank-churn')\n",
    "\n",
    "# Clean the dataset. Need to drop last two columns that are from someone else's analysis and should not be included as predictors.\n",
    "df = pd.read_csv('credit-card-bank-churn/credit_card_churn.csv')\n",
    "df = df.drop(['CLIENTNUM', 'Naive_Bayes_Classifier_Attrition_Flag_Card_Category_Contacts_Count_12_mon_Dependent_count_Education_Level_Months_Inactive_12_mon_1', 'Naive_Bayes_Classifier_Attrition_Flag_Card_Category_Contacts_Count_12_mon_Dependent_count_Education_Level_Months_Inactive_12_mon_2'], axis=1)"
   ]
  },
  {
   "cell_type": "code",
   "execution_count": 4,
   "metadata": {
    "gather": {
     "logged": 1598423890461
    },
    "jupyter": {
     "outputs_hidden": false,
     "source_hidden": false
    },
    "nteract": {
     "transient": {
      "deleting": false
     }
    }
   },
   "outputs": [
    {
     "name": "stdout",
     "output_type": "stream",
     "text": [
      "Dataset with key: credit_card_churn not found in Workspace.\n",
      "Validating arguments.\n",
      "Arguments validated.\n",
      "Successfully obtained datastore reference and path.\n",
      "Uploading file to managed-dataset/11220365-e927-4b61-80b1-66a1a5f157cc/\n",
      "Successfully uploaded file to datastore.\n",
      "Creating and registering a new dataset.\n",
      "Successfully created and registered a new dataset.\n"
     ]
    },
    {
     "data": {
      "text/html": [
       "<div>\n",
       "<style scoped>\n",
       "    .dataframe tbody tr th:only-of-type {\n",
       "        vertical-align: middle;\n",
       "    }\n",
       "\n",
       "    .dataframe tbody tr th {\n",
       "        vertical-align: top;\n",
       "    }\n",
       "\n",
       "    .dataframe thead th {\n",
       "        text-align: right;\n",
       "    }\n",
       "</style>\n",
       "<table border=\"1\" class=\"dataframe\">\n",
       "  <thead>\n",
       "    <tr style=\"text-align: right;\">\n",
       "      <th></th>\n",
       "      <th>Customer_Age</th>\n",
       "      <th>Dependent_count</th>\n",
       "      <th>Months_on_book</th>\n",
       "      <th>Total_Relationship_Count</th>\n",
       "      <th>Months_Inactive_12_mon</th>\n",
       "      <th>Contacts_Count_12_mon</th>\n",
       "      <th>Credit_Limit</th>\n",
       "      <th>Total_Revolving_Bal</th>\n",
       "      <th>Avg_Open_To_Buy</th>\n",
       "      <th>Total_Amt_Chng_Q4_Q1</th>\n",
       "      <th>Total_Trans_Amt</th>\n",
       "      <th>Total_Trans_Ct</th>\n",
       "      <th>Total_Ct_Chng_Q4_Q1</th>\n",
       "      <th>Avg_Utilization_Ratio</th>\n",
       "    </tr>\n",
       "  </thead>\n",
       "  <tbody>\n",
       "    <tr>\n",
       "      <th>count</th>\n",
       "      <td>10127.000000</td>\n",
       "      <td>10127.000000</td>\n",
       "      <td>10127.000000</td>\n",
       "      <td>10127.000000</td>\n",
       "      <td>10127.000000</td>\n",
       "      <td>10127.000000</td>\n",
       "      <td>10127.000000</td>\n",
       "      <td>10127.000000</td>\n",
       "      <td>10127.000000</td>\n",
       "      <td>10127.000000</td>\n",
       "      <td>10127.000000</td>\n",
       "      <td>10127.000000</td>\n",
       "      <td>10127.000000</td>\n",
       "      <td>10127.000000</td>\n",
       "    </tr>\n",
       "    <tr>\n",
       "      <th>mean</th>\n",
       "      <td>46.325960</td>\n",
       "      <td>2.346203</td>\n",
       "      <td>35.928409</td>\n",
       "      <td>3.812580</td>\n",
       "      <td>2.341167</td>\n",
       "      <td>2.455317</td>\n",
       "      <td>8631.953698</td>\n",
       "      <td>1162.814061</td>\n",
       "      <td>7469.139637</td>\n",
       "      <td>0.759941</td>\n",
       "      <td>4404.086304</td>\n",
       "      <td>64.858695</td>\n",
       "      <td>0.712222</td>\n",
       "      <td>0.274894</td>\n",
       "    </tr>\n",
       "    <tr>\n",
       "      <th>std</th>\n",
       "      <td>8.016814</td>\n",
       "      <td>1.298908</td>\n",
       "      <td>7.986416</td>\n",
       "      <td>1.554408</td>\n",
       "      <td>1.010622</td>\n",
       "      <td>1.106225</td>\n",
       "      <td>9088.776650</td>\n",
       "      <td>814.987335</td>\n",
       "      <td>9090.685324</td>\n",
       "      <td>0.219207</td>\n",
       "      <td>3397.129254</td>\n",
       "      <td>23.472570</td>\n",
       "      <td>0.238086</td>\n",
       "      <td>0.275691</td>\n",
       "    </tr>\n",
       "    <tr>\n",
       "      <th>min</th>\n",
       "      <td>26.000000</td>\n",
       "      <td>0.000000</td>\n",
       "      <td>13.000000</td>\n",
       "      <td>1.000000</td>\n",
       "      <td>0.000000</td>\n",
       "      <td>0.000000</td>\n",
       "      <td>1438.300000</td>\n",
       "      <td>0.000000</td>\n",
       "      <td>3.000000</td>\n",
       "      <td>0.000000</td>\n",
       "      <td>510.000000</td>\n",
       "      <td>10.000000</td>\n",
       "      <td>0.000000</td>\n",
       "      <td>0.000000</td>\n",
       "    </tr>\n",
       "    <tr>\n",
       "      <th>25%</th>\n",
       "      <td>41.000000</td>\n",
       "      <td>1.000000</td>\n",
       "      <td>31.000000</td>\n",
       "      <td>3.000000</td>\n",
       "      <td>2.000000</td>\n",
       "      <td>2.000000</td>\n",
       "      <td>2555.000000</td>\n",
       "      <td>359.000000</td>\n",
       "      <td>1324.500000</td>\n",
       "      <td>0.631000</td>\n",
       "      <td>2155.500000</td>\n",
       "      <td>45.000000</td>\n",
       "      <td>0.582000</td>\n",
       "      <td>0.023000</td>\n",
       "    </tr>\n",
       "    <tr>\n",
       "      <th>50%</th>\n",
       "      <td>46.000000</td>\n",
       "      <td>2.000000</td>\n",
       "      <td>36.000000</td>\n",
       "      <td>4.000000</td>\n",
       "      <td>2.000000</td>\n",
       "      <td>2.000000</td>\n",
       "      <td>4549.000000</td>\n",
       "      <td>1276.000000</td>\n",
       "      <td>3474.000000</td>\n",
       "      <td>0.736000</td>\n",
       "      <td>3899.000000</td>\n",
       "      <td>67.000000</td>\n",
       "      <td>0.702000</td>\n",
       "      <td>0.176000</td>\n",
       "    </tr>\n",
       "    <tr>\n",
       "      <th>75%</th>\n",
       "      <td>52.000000</td>\n",
       "      <td>3.000000</td>\n",
       "      <td>40.000000</td>\n",
       "      <td>5.000000</td>\n",
       "      <td>3.000000</td>\n",
       "      <td>3.000000</td>\n",
       "      <td>11067.500000</td>\n",
       "      <td>1784.000000</td>\n",
       "      <td>9859.000000</td>\n",
       "      <td>0.859000</td>\n",
       "      <td>4741.000000</td>\n",
       "      <td>81.000000</td>\n",
       "      <td>0.818000</td>\n",
       "      <td>0.503000</td>\n",
       "    </tr>\n",
       "    <tr>\n",
       "      <th>max</th>\n",
       "      <td>73.000000</td>\n",
       "      <td>5.000000</td>\n",
       "      <td>56.000000</td>\n",
       "      <td>6.000000</td>\n",
       "      <td>6.000000</td>\n",
       "      <td>6.000000</td>\n",
       "      <td>34516.000000</td>\n",
       "      <td>2517.000000</td>\n",
       "      <td>34516.000000</td>\n",
       "      <td>3.397000</td>\n",
       "      <td>18484.000000</td>\n",
       "      <td>139.000000</td>\n",
       "      <td>3.714000</td>\n",
       "      <td>0.999000</td>\n",
       "    </tr>\n",
       "  </tbody>\n",
       "</table>\n",
       "</div>"
      ],
      "text/plain": [
       "       Customer_Age  Dependent_count  Months_on_book  \\\n",
       "count  10127.000000     10127.000000    10127.000000   \n",
       "mean      46.325960         2.346203       35.928409   \n",
       "std        8.016814         1.298908        7.986416   \n",
       "min       26.000000         0.000000       13.000000   \n",
       "25%       41.000000         1.000000       31.000000   \n",
       "50%       46.000000         2.000000       36.000000   \n",
       "75%       52.000000         3.000000       40.000000   \n",
       "max       73.000000         5.000000       56.000000   \n",
       "\n",
       "       Total_Relationship_Count  Months_Inactive_12_mon  \\\n",
       "count              10127.000000            10127.000000   \n",
       "mean                   3.812580                2.341167   \n",
       "std                    1.554408                1.010622   \n",
       "min                    1.000000                0.000000   \n",
       "25%                    3.000000                2.000000   \n",
       "50%                    4.000000                2.000000   \n",
       "75%                    5.000000                3.000000   \n",
       "max                    6.000000                6.000000   \n",
       "\n",
       "       Contacts_Count_12_mon  Credit_Limit  Total_Revolving_Bal  \\\n",
       "count           10127.000000  10127.000000         10127.000000   \n",
       "mean                2.455317   8631.953698          1162.814061   \n",
       "std                 1.106225   9088.776650           814.987335   \n",
       "min                 0.000000   1438.300000             0.000000   \n",
       "25%                 2.000000   2555.000000           359.000000   \n",
       "50%                 2.000000   4549.000000          1276.000000   \n",
       "75%                 3.000000  11067.500000          1784.000000   \n",
       "max                 6.000000  34516.000000          2517.000000   \n",
       "\n",
       "       Avg_Open_To_Buy  Total_Amt_Chng_Q4_Q1  Total_Trans_Amt  Total_Trans_Ct  \\\n",
       "count     10127.000000          10127.000000     10127.000000    10127.000000   \n",
       "mean       7469.139637              0.759941      4404.086304       64.858695   \n",
       "std        9090.685324              0.219207      3397.129254       23.472570   \n",
       "min           3.000000              0.000000       510.000000       10.000000   \n",
       "25%        1324.500000              0.631000      2155.500000       45.000000   \n",
       "50%        3474.000000              0.736000      3899.000000       67.000000   \n",
       "75%        9859.000000              0.859000      4741.000000       81.000000   \n",
       "max       34516.000000              3.397000     18484.000000      139.000000   \n",
       "\n",
       "       Total_Ct_Chng_Q4_Q1  Avg_Utilization_Ratio  \n",
       "count         10127.000000           10127.000000  \n",
       "mean              0.712222               0.274894  \n",
       "std               0.238086               0.275691  \n",
       "min               0.000000               0.000000  \n",
       "25%               0.582000               0.023000  \n",
       "50%               0.702000               0.176000  \n",
       "75%               0.818000               0.503000  \n",
       "max               3.714000               0.999000  "
      ]
     },
     "execution_count": 4,
     "metadata": {},
     "output_type": "execute_result"
    }
   ],
   "source": [
    "ws = Workspace.from_config()\n",
    "\n",
    "# choose a name for experiment\n",
    "experiment_name = 'capstone-experiment'\n",
    "experiment=Experiment(ws, experiment_name)\n",
    "\n",
    "found = False\n",
    "key = \"credit_card_churn\"\n",
    "description_text = \"Credit Card Churn Prediction dataset for Machine Learning Engineer with Microsoft Azure\"\n",
    "\n",
    "if key in ws.datasets.keys():\n",
    "    print(f'Dataset with key: {key} found in Workspace.')\n",
    "    found = True\n",
    "    dataset = ws.datasets[key]\n",
    "\n",
    "if not found:\n",
    "    print(f'Dataset with key: {key} not found in Workspace.')\n",
    "    # Get the Datastore where the Dataset will be registered\n",
    "    datastore = Datastore.get(ws, 'workspaceblobstore')\n",
    "    dataset = Dataset.Tabular.register_pandas_dataframe(dataframe=df, target=datastore, name=key, description=description_text)\n",
    "\n",
    "df = dataset.to_pandas_dataframe()\n",
    "df.describe()"
   ]
  },
  {
   "cell_type": "code",
   "execution_count": 5,
   "metadata": {},
   "outputs": [
    {
     "data": {
      "text/html": [
       "<div>\n",
       "<style scoped>\n",
       "    .dataframe tbody tr th:only-of-type {\n",
       "        vertical-align: middle;\n",
       "    }\n",
       "\n",
       "    .dataframe tbody tr th {\n",
       "        vertical-align: top;\n",
       "    }\n",
       "\n",
       "    .dataframe thead th {\n",
       "        text-align: right;\n",
       "    }\n",
       "</style>\n",
       "<table border=\"1\" class=\"dataframe\">\n",
       "  <thead>\n",
       "    <tr style=\"text-align: right;\">\n",
       "      <th></th>\n",
       "      <th>Attrition_Flag</th>\n",
       "      <th>Customer_Age</th>\n",
       "      <th>Gender</th>\n",
       "      <th>Dependent_count</th>\n",
       "      <th>Education_Level</th>\n",
       "      <th>Marital_Status</th>\n",
       "      <th>Income_Category</th>\n",
       "      <th>Card_Category</th>\n",
       "      <th>Months_on_book</th>\n",
       "      <th>Total_Relationship_Count</th>\n",
       "      <th>Months_Inactive_12_mon</th>\n",
       "      <th>Contacts_Count_12_mon</th>\n",
       "      <th>Credit_Limit</th>\n",
       "      <th>Total_Revolving_Bal</th>\n",
       "      <th>Avg_Open_To_Buy</th>\n",
       "      <th>Total_Amt_Chng_Q4_Q1</th>\n",
       "      <th>Total_Trans_Amt</th>\n",
       "      <th>Total_Trans_Ct</th>\n",
       "      <th>Total_Ct_Chng_Q4_Q1</th>\n",
       "      <th>Avg_Utilization_Ratio</th>\n",
       "    </tr>\n",
       "  </thead>\n",
       "  <tbody>\n",
       "    <tr>\n",
       "      <th>0</th>\n",
       "      <td>Existing Customer</td>\n",
       "      <td>45</td>\n",
       "      <td>M</td>\n",
       "      <td>3</td>\n",
       "      <td>High School</td>\n",
       "      <td>Married</td>\n",
       "      <td>$60K - $80K</td>\n",
       "      <td>Blue</td>\n",
       "      <td>39</td>\n",
       "      <td>5</td>\n",
       "      <td>1</td>\n",
       "      <td>3</td>\n",
       "      <td>12691.0</td>\n",
       "      <td>777</td>\n",
       "      <td>11914.0</td>\n",
       "      <td>1.335</td>\n",
       "      <td>1144</td>\n",
       "      <td>42</td>\n",
       "      <td>1.625</td>\n",
       "      <td>0.061</td>\n",
       "    </tr>\n",
       "    <tr>\n",
       "      <th>1</th>\n",
       "      <td>Existing Customer</td>\n",
       "      <td>49</td>\n",
       "      <td>F</td>\n",
       "      <td>5</td>\n",
       "      <td>Graduate</td>\n",
       "      <td>Single</td>\n",
       "      <td>Less than $40K</td>\n",
       "      <td>Blue</td>\n",
       "      <td>44</td>\n",
       "      <td>6</td>\n",
       "      <td>1</td>\n",
       "      <td>2</td>\n",
       "      <td>8256.0</td>\n",
       "      <td>864</td>\n",
       "      <td>7392.0</td>\n",
       "      <td>1.541</td>\n",
       "      <td>1291</td>\n",
       "      <td>33</td>\n",
       "      <td>3.714</td>\n",
       "      <td>0.105</td>\n",
       "    </tr>\n",
       "    <tr>\n",
       "      <th>2</th>\n",
       "      <td>Existing Customer</td>\n",
       "      <td>51</td>\n",
       "      <td>M</td>\n",
       "      <td>3</td>\n",
       "      <td>Graduate</td>\n",
       "      <td>Married</td>\n",
       "      <td>$80K - $120K</td>\n",
       "      <td>Blue</td>\n",
       "      <td>36</td>\n",
       "      <td>4</td>\n",
       "      <td>1</td>\n",
       "      <td>0</td>\n",
       "      <td>3418.0</td>\n",
       "      <td>0</td>\n",
       "      <td>3418.0</td>\n",
       "      <td>2.594</td>\n",
       "      <td>1887</td>\n",
       "      <td>20</td>\n",
       "      <td>2.333</td>\n",
       "      <td>0.000</td>\n",
       "    </tr>\n",
       "    <tr>\n",
       "      <th>3</th>\n",
       "      <td>Existing Customer</td>\n",
       "      <td>40</td>\n",
       "      <td>F</td>\n",
       "      <td>4</td>\n",
       "      <td>High School</td>\n",
       "      <td>Unknown</td>\n",
       "      <td>Less than $40K</td>\n",
       "      <td>Blue</td>\n",
       "      <td>34</td>\n",
       "      <td>3</td>\n",
       "      <td>4</td>\n",
       "      <td>1</td>\n",
       "      <td>3313.0</td>\n",
       "      <td>2517</td>\n",
       "      <td>796.0</td>\n",
       "      <td>1.405</td>\n",
       "      <td>1171</td>\n",
       "      <td>20</td>\n",
       "      <td>2.333</td>\n",
       "      <td>0.760</td>\n",
       "    </tr>\n",
       "    <tr>\n",
       "      <th>4</th>\n",
       "      <td>Existing Customer</td>\n",
       "      <td>40</td>\n",
       "      <td>M</td>\n",
       "      <td>3</td>\n",
       "      <td>Uneducated</td>\n",
       "      <td>Married</td>\n",
       "      <td>$60K - $80K</td>\n",
       "      <td>Blue</td>\n",
       "      <td>21</td>\n",
       "      <td>5</td>\n",
       "      <td>1</td>\n",
       "      <td>0</td>\n",
       "      <td>4716.0</td>\n",
       "      <td>0</td>\n",
       "      <td>4716.0</td>\n",
       "      <td>2.175</td>\n",
       "      <td>816</td>\n",
       "      <td>28</td>\n",
       "      <td>2.500</td>\n",
       "      <td>0.000</td>\n",
       "    </tr>\n",
       "  </tbody>\n",
       "</table>\n",
       "</div>"
      ],
      "text/plain": [
       "      Attrition_Flag  Customer_Age Gender  Dependent_count Education_Level  \\\n",
       "0  Existing Customer            45      M                3     High School   \n",
       "1  Existing Customer            49      F                5        Graduate   \n",
       "2  Existing Customer            51      M                3        Graduate   \n",
       "3  Existing Customer            40      F                4     High School   \n",
       "4  Existing Customer            40      M                3      Uneducated   \n",
       "\n",
       "  Marital_Status Income_Category Card_Category  Months_on_book  \\\n",
       "0        Married     $60K - $80K          Blue              39   \n",
       "1         Single  Less than $40K          Blue              44   \n",
       "2        Married    $80K - $120K          Blue              36   \n",
       "3        Unknown  Less than $40K          Blue              34   \n",
       "4        Married     $60K - $80K          Blue              21   \n",
       "\n",
       "   Total_Relationship_Count  Months_Inactive_12_mon  Contacts_Count_12_mon  \\\n",
       "0                         5                       1                      3   \n",
       "1                         6                       1                      2   \n",
       "2                         4                       1                      0   \n",
       "3                         3                       4                      1   \n",
       "4                         5                       1                      0   \n",
       "\n",
       "   Credit_Limit  Total_Revolving_Bal  Avg_Open_To_Buy  Total_Amt_Chng_Q4_Q1  \\\n",
       "0       12691.0                  777          11914.0                 1.335   \n",
       "1        8256.0                  864           7392.0                 1.541   \n",
       "2        3418.0                    0           3418.0                 2.594   \n",
       "3        3313.0                 2517            796.0                 1.405   \n",
       "4        4716.0                    0           4716.0                 2.175   \n",
       "\n",
       "   Total_Trans_Amt  Total_Trans_Ct  Total_Ct_Chng_Q4_Q1  Avg_Utilization_Ratio  \n",
       "0             1144              42                1.625                  0.061  \n",
       "1             1291              33                3.714                  0.105  \n",
       "2             1887              20                2.333                  0.000  \n",
       "3             1171              20                2.333                  0.760  \n",
       "4              816              28                2.500                  0.000  "
      ]
     },
     "execution_count": 5,
     "metadata": {},
     "output_type": "execute_result"
    }
   ],
   "source": [
    "dataset.take(5).to_pandas_dataframe()"
   ]
  },
  {
   "cell_type": "markdown",
   "metadata": {},
   "source": [
    "## AutoML Configuration\n",
    "\n",
    "For the AutoML configurations, I chose to set the `experiment_timeout_minutes` to 30 in order to ensure that the model would finish training in a timely manner. I used 4 for the `max_concurrent_iterations` as this was the same number of nodes that I provisioned for my Compute Cluster. The `primary_metric` I chose to use was AUC_weighted in order to account for the imbalanced classes in this dataset as only 16% of the records in the dataset are `Attrited Customers` compared to 84% being `Existing Customers`. Lastly, I enabled `enable_early_stopping` in order to save compute resources if the models are no longer improving."
   ]
  },
  {
   "cell_type": "code",
   "execution_count": 6,
   "metadata": {},
   "outputs": [
    {
     "name": "stdout",
     "output_type": "stream",
     "text": [
      "Compute cluster with name: rlegge-compute-cluster not found, will create it\n",
      "InProgress.\n",
      "SucceededProvisioning operation finished, operation \"Succeeded\"\n",
      "Succeeded......................................................................................................................\n",
      "AmlCompute wait for completion finished\n",
      "\n",
      "Wait timeout has been reached\n",
      "Current provisioning state of AmlCompute is \"Succeeded\" and current node count is \"0\"\n"
     ]
    }
   ],
   "source": [
    "from azureml.core.compute import AmlCompute, ComputeTarget\n",
    "from azureml.core.compute_target import ComputeTargetException\n",
    "\n",
    "# The name of the CPU cluster to use\n",
    "amlcompute_cluster_name = \"rlegge-compute-cluster\"\n",
    "\n",
    "# Verify that the cluster does not exist already\n",
    "try:\n",
    "    compute_target = ComputeTarget(workspace=ws, name=amlcompute_cluster_name)\n",
    "    print(f'Found existing cluster with name: {amlcompute_cluster_name}, will use it')\n",
    "except ComputeTargetException:\n",
    "    print(f'Compute cluster with name: {amlcompute_cluster_name} not found, will create it')\n",
    "    compute_config = AmlCompute.provisioning_configuration(vm_size='STANDARD_DS3_V2', max_nodes=4)\n",
    "    compute_target = ComputeTarget.create(ws, amlcompute_cluster_name, compute_config)\n",
    "\n",
    "compute_target.wait_for_completion(show_output=True, min_node_count=1, timeout_in_minutes=10)"
   ]
  },
  {
   "cell_type": "code",
   "execution_count": 7,
   "metadata": {
    "gather": {
     "logged": 1598429217746
    },
    "jupyter": {
     "outputs_hidden": false,
     "source_hidden": false
    },
    "nteract": {
     "transient": {
      "deleting": false
     }
    }
   },
   "outputs": [],
   "source": [
    "automl_settings = {\n",
    "    \"experiment_timeout_minutes\": 30,\n",
    "    \"max_concurrent_iterations\": 4,\n",
    "    \"primary_metric\" : 'AUC_weighted'\n",
    "}\n",
    "\n",
    "automl_config = AutoMLConfig(\n",
    "    compute_target=compute_target,\n",
    "    task='classification',\n",
    "    training_data=dataset,\n",
    "    enable_early_stopping=True,\n",
    "    featurization='auto',\n",
    "    debug_log='automl_errors.log',\n",
    "    label_column_name='Attrition_Flag',\n",
    "    n_cross_validations=5,\n",
    "    **automl_settings\n",
    ")"
   ]
  },
  {
   "cell_type": "code",
   "execution_count": 8,
   "metadata": {
    "gather": {
     "logged": 1598431107951
    },
    "jupyter": {
     "outputs_hidden": false,
     "source_hidden": false
    },
    "nteract": {
     "transient": {
      "deleting": false
     }
    },
    "scrolled": true
   },
   "outputs": [
    {
     "name": "stdout",
     "output_type": "stream",
     "text": [
      "Submitting remote run.\n"
     ]
    },
    {
     "data": {
      "text/html": [
       "<table style=\"width:100%\"><tr><th>Experiment</th><th>Id</th><th>Type</th><th>Status</th><th>Details Page</th><th>Docs Page</th></tr><tr><td>capstone-experiment</td><td>AutoML_7ec42a0e-ef4a-4651-8a50-c808bca08781</td><td>automl</td><td>NotStarted</td><td><a href=\"https://ml.azure.com/runs/AutoML_7ec42a0e-ef4a-4651-8a50-c808bca08781?wsid=/subscriptions/a655a150-1940-4a0c-91bb-d29b336c52aa/resourcegroups/rlegge-rg/workspaces/test&amp;tid=db05faca-c82a-4b9d-b9c5-0f64b6755421\" target=\"_blank\" rel=\"noopener\">Link to Azure Machine Learning studio</a></td><td><a href=\"https://docs.microsoft.com/en-us/python/api/overview/azure/ml/intro?view=azure-ml-py\" target=\"_blank\" rel=\"noopener\">Link to Documentation</a></td></tr></table>"
      ],
      "text/plain": [
       "<IPython.core.display.HTML object>"
      ]
     },
     "metadata": {},
     "output_type": "display_data"
    }
   ],
   "source": [
    "# TODO: Submit your experiment\n",
    "remote_run = experiment.submit(automl_config)"
   ]
  },
  {
   "cell_type": "markdown",
   "metadata": {},
   "source": [
    "## Run Details\n",
    "\n",
    "AutoML trains multiple models with varying algorithms and hyperparameters in order to identify the best model based on a particular metric. In this case, there were 38 scheduled iterations with 4 being cancelled due to early stopping being enabled. The best model from this run was the VotingEnsemble which had an AUC_weighted score of 0.99301462. Some of the other models that were trained included Logistic Regressions, XGBoostClassifiers, and RandomForest. While the scores were lower than the best model, it can be noted that all of them had fairly acceptable perfomances, only going as low as 0.88905727 for the AUC_weighted score. The plot of all of metrics for all of the models can be seen below for reference."
   ]
  },
  {
   "cell_type": "code",
   "execution_count": 10,
   "metadata": {
    "gather": {
     "logged": 1598431121770
    },
    "jupyter": {
     "outputs_hidden": false,
     "source_hidden": false
    },
    "nteract": {
     "transient": {
      "deleting": false
     }
    }
   },
   "outputs": [
    {
     "data": {
      "application/vnd.jupyter.widget-view+json": {
       "model_id": "c7c32b59cad54f068ddec6d9ddd3f250",
       "version_major": 2,
       "version_minor": 0
      },
      "text/plain": [
       "_AutoMLWidget(widget_settings={'childWidgetDisplay': 'popup', 'send_telemetry': False, 'log_level': 'INFO', 's…"
      ]
     },
     "metadata": {},
     "output_type": "display_data"
    },
    {
     "data": {
      "application/aml.mini.widget.v1": "{\"status\": \"Completed\", \"workbench_run_details_uri\": \"https://ml.azure.com/runs/AutoML_7ec42a0e-ef4a-4651-8a50-c808bca08781?wsid=/subscriptions/a655a150-1940-4a0c-91bb-d29b336c52aa/resourcegroups/rlegge-rg/workspaces/test&tid=db05faca-c82a-4b9d-b9c5-0f64b6755421\", \"run_id\": \"AutoML_7ec42a0e-ef4a-4651-8a50-c808bca08781\", \"run_properties\": {\"run_id\": \"AutoML_7ec42a0e-ef4a-4651-8a50-c808bca08781\", \"created_utc\": \"2022-08-12T02:26:52.263326Z\", \"properties\": {\"num_iterations\": \"1000\", \"training_type\": \"TrainFull\", \"acquisition_function\": \"EI\", \"primary_metric\": \"AUC_weighted\", \"train_split\": \"0\", \"acquisition_parameter\": \"0\", \"num_cross_validation\": \"5\", \"target\": \"rlegge-compute-cluster\", \"AMLSettingsJsonString\": \"{\\\"path\\\":null,\\\"name\\\":\\\"capstone-experiment\\\",\\\"subscription_id\\\":\\\"a655a150-1940-4a0c-91bb-d29b336c52aa\\\",\\\"resource_group\\\":\\\"rlegge-rg\\\",\\\"workspace_name\\\":\\\"test\\\",\\\"region\\\":\\\"eastus2\\\",\\\"compute_target\\\":\\\"rlegge-compute-cluster\\\",\\\"spark_service\\\":null,\\\"azure_service\\\":\\\"remote\\\",\\\"many_models\\\":false,\\\"pipeline_fetch_max_batch_size\\\":1,\\\"enable_batch_run\\\":true,\\\"enable_run_restructure\\\":false,\\\"start_auxiliary_runs_before_parent_complete\\\":false,\\\"enable_code_generation\\\":true,\\\"iterations\\\":1000,\\\"primary_metric\\\":\\\"AUC_weighted\\\",\\\"task_type\\\":\\\"classification\\\",\\\"positive_label\\\":null,\\\"data_script\\\":null,\\\"test_size\\\":0.0,\\\"test_include_predictions_only\\\":false,\\\"validation_size\\\":0.0,\\\"n_cross_validations\\\":5,\\\"y_min\\\":null,\\\"y_max\\\":null,\\\"num_classes\\\":null,\\\"featurization\\\":\\\"auto\\\",\\\"_ignore_package_version_incompatibilities\\\":false,\\\"is_timeseries\\\":false,\\\"max_cores_per_iteration\\\":1,\\\"max_concurrent_iterations\\\":5,\\\"iteration_timeout_minutes\\\":null,\\\"mem_in_mb\\\":null,\\\"enforce_time_on_windows\\\":false,\\\"experiment_timeout_minutes\\\":30,\\\"experiment_exit_score\\\":null,\\\"partition_column_names\\\":null,\\\"whitelist_models\\\":null,\\\"blacklist_algos\\\":[\\\"TensorFlowLinearClassifier\\\",\\\"TensorFlowDNN\\\"],\\\"supported_models\\\":[\\\"RandomForest\\\",\\\"BernoulliNaiveBayes\\\",\\\"ExtremeRandomTrees\\\",\\\"TensorFlowDNN\\\",\\\"TabnetClassifier\\\",\\\"LightGBM\\\",\\\"SGD\\\",\\\"LinearSVM\\\",\\\"XGBoostClassifier\\\",\\\"LogisticRegression\\\",\\\"SVM\\\",\\\"DecisionTree\\\",\\\"TensorFlowLinearClassifier\\\",\\\"GradientBoosting\\\",\\\"MultinomialNaiveBayes\\\",\\\"AveragedPerceptronClassifier\\\",\\\"KNN\\\"],\\\"private_models\\\":[],\\\"auto_blacklist\\\":true,\\\"blacklist_samples_reached\\\":false,\\\"exclude_nan_labels\\\":true,\\\"verbosity\\\":20,\\\"_debug_log\\\":\\\"azureml_automl.log\\\",\\\"show_warnings\\\":false,\\\"model_explainability\\\":true,\\\"service_url\\\":null,\\\"sdk_url\\\":null,\\\"sdk_packages\\\":null,\\\"enable_onnx_compatible_models\\\":false,\\\"enable_split_onnx_featurizer_estimator_models\\\":false,\\\"vm_type\\\":\\\"STANDARD_DS3_V2\\\",\\\"telemetry_verbosity\\\":20,\\\"send_telemetry\\\":true,\\\"enable_dnn\\\":false,\\\"scenario\\\":\\\"SDK-1.13.0\\\",\\\"environment_label\\\":null,\\\"save_mlflow\\\":false,\\\"enable_categorical_indicators\\\":false,\\\"force_text_dnn\\\":false,\\\"enable_feature_sweeping\\\":true,\\\"enable_early_stopping\\\":true,\\\"early_stopping_n_iters\\\":10,\\\"arguments\\\":null,\\\"dataset_id\\\":\\\"b1478d5c-3068-476e-9ccc-285f8b553105\\\",\\\"hyperdrive_config\\\":null,\\\"validation_dataset_id\\\":null,\\\"run_source\\\":null,\\\"metrics\\\":null,\\\"enable_metric_confidence\\\":false,\\\"enable_ensembling\\\":true,\\\"enable_stack_ensembling\\\":true,\\\"ensemble_iterations\\\":15,\\\"enable_tf\\\":false,\\\"enable_subsampling\\\":null,\\\"subsample_seed\\\":null,\\\"enable_nimbusml\\\":false,\\\"enable_streaming\\\":false,\\\"force_streaming\\\":false,\\\"track_child_runs\\\":true,\\\"allowed_private_models\\\":[],\\\"label_column_name\\\":\\\"Attrition_Flag\\\",\\\"weight_column_name\\\":null,\\\"cv_split_column_names\\\":null,\\\"enable_local_managed\\\":false,\\\"_local_managed_run_id\\\":null,\\\"cost_mode\\\":1,\\\"lag_length\\\":0,\\\"metric_operation\\\":\\\"maximize\\\",\\\"preprocess\\\":true}\", \"DataPrepJsonString\": \"{\\\\\\\"training_data\\\\\\\": {\\\\\\\"datasetId\\\\\\\": \\\\\\\"b1478d5c-3068-476e-9ccc-285f8b553105\\\\\\\"}, \\\\\\\"datasets\\\\\\\": 0}\", \"EnableSubsampling\": null, \"runTemplate\": \"AutoML\", \"azureml.runsource\": \"automl\", \"display_task_type\": \"classification\", \"dependencies_versions\": \"{\\\"azureml-widgets\\\": \\\"1.43.0\\\", \\\"azureml-training-tabular\\\": \\\"1.43.0\\\", \\\"azureml-train\\\": \\\"1.43.0\\\", \\\"azureml-train-restclients-hyperdrive\\\": \\\"1.43.0\\\", \\\"azureml-train-core\\\": \\\"1.43.0\\\", \\\"azureml-train-automl\\\": \\\"1.43.0\\\", \\\"azureml-train-automl-runtime\\\": \\\"1.43.0\\\", \\\"azureml-train-automl-client\\\": \\\"1.43.0\\\", \\\"azureml-tensorboard\\\": \\\"1.43.0\\\", \\\"azureml-telemetry\\\": \\\"1.43.0\\\", \\\"azureml-sdk\\\": \\\"1.43.0\\\", \\\"azureml-samples\\\": \\\"0+unknown\\\", \\\"azureml-responsibleai\\\": \\\"1.43.0\\\", \\\"azureml-pipeline\\\": \\\"1.43.0\\\", \\\"azureml-pipeline-steps\\\": \\\"1.43.0\\\", \\\"azureml-pipeline-core\\\": \\\"1.43.0\\\", \\\"azureml-opendatasets\\\": \\\"1.43.0\\\", \\\"azureml-mlflow\\\": \\\"1.43.0.post1\\\", \\\"azureml-interpret\\\": \\\"1.43.0\\\", \\\"azureml-inference-server-http\\\": \\\"0.4.13\\\", \\\"azureml-explain-model\\\": \\\"1.43.0\\\", \\\"azureml-defaults\\\": \\\"1.43.0\\\", \\\"azureml-dataset-runtime\\\": \\\"1.43.0.post2\\\", \\\"azureml-dataprep\\\": \\\"4.0.4\\\", \\\"azureml-dataprep-rslex\\\": \\\"2.6.3\\\", \\\"azureml-dataprep-native\\\": \\\"38.0.0\\\", \\\"azureml-datadrift\\\": \\\"1.43.0\\\", \\\"azureml-core\\\": \\\"1.43.0\\\", \\\"azureml-contrib-services\\\": \\\"1.43.0\\\", \\\"azureml-contrib-server\\\": \\\"1.43.0\\\", \\\"azureml-contrib-reinforcementlearning\\\": \\\"1.43.0\\\", \\\"azureml-contrib-pipeline-steps\\\": \\\"1.43.0\\\", \\\"azureml-contrib-notebook\\\": \\\"1.43.0\\\", \\\"azureml-contrib-fairness\\\": \\\"1.43.0\\\", \\\"azureml-contrib-dataset\\\": \\\"1.43.0\\\", \\\"azureml-contrib-automl-pipeline-steps\\\": \\\"1.43.0\\\", \\\"azureml-cli-common\\\": \\\"1.43.0\\\", \\\"azureml-automl-runtime\\\": \\\"1.43.0\\\", \\\"azureml-automl-dnn-nlp\\\": \\\"1.43.0.post1\\\", \\\"azureml-automl-core\\\": \\\"1.43.0\\\", \\\"azureml-accel-models\\\": \\\"1.43.0\\\"}\", \"_aml_system_scenario_identification\": \"Remote.Parent\", \"ClientType\": \"SDK\", \"environment_cpu_name\": \"AzureML-AutoML\", \"environment_cpu_label\": \"prod\", \"environment_gpu_name\": \"AzureML-AutoML-GPU\", \"environment_gpu_label\": \"prod\", \"root_attribution\": \"automl\", \"attribution\": \"AutoML\", \"Orchestrator\": \"AutoML\", \"CancelUri\": \"https://eastus2.api.azureml.ms/jasmine/v1.0/subscriptions/a655a150-1940-4a0c-91bb-d29b336c52aa/resourceGroups/rlegge-rg/providers/Microsoft.MachineLearningServices/workspaces/test/experimentids/b8dfb429-e498-4323-acfd-64c0f5a6bfbb/cancel/AutoML_7ec42a0e-ef4a-4651-8a50-c808bca08781\", \"ClientSdkVersion\": \"1.44.0\", \"snapshotId\": \"00000000-0000-0000-0000-000000000000\", \"SetupRunId\": \"AutoML_7ec42a0e-ef4a-4651-8a50-c808bca08781_setup\", \"SetupRunContainerId\": \"dcid.AutoML_7ec42a0e-ef4a-4651-8a50-c808bca08781_setup\", \"FeaturizationRunJsonPath\": \"featurizer_container.json\", \"FeaturizationRunId\": \"AutoML_7ec42a0e-ef4a-4651-8a50-c808bca08781_featurize\", \"ProblemInfoJsonString\": \"{\\\"dataset_num_categorical\\\": 0, \\\"is_sparse\\\": true, \\\"subsampling\\\": false, \\\"has_extra_col\\\": true, \\\"dataset_classes\\\": 2, \\\"dataset_features\\\": 153, \\\"dataset_samples\\\": 10127, \\\"single_frequency_class_detected\\\": false}\", \"ModelExplainRunId\": \"AutoML_7ec42a0e-ef4a-4651-8a50-c808bca08781_ModelExplain\"}, \"tags\": {\"model_explain_run\": \"best_run\", \"_aml_system_automl_run_workspace_id\": \"09e5bad6-6d54-4524-984b-39c5040e587b\", \"_aml_system_azureml.automlComponent\": \"AutoML\", \"pipeline_id\": \"\", \"score\": \"\", \"predicted_cost\": \"\", \"fit_time\": \"\", \"training_percent\": \"\", \"iteration\": \"\", \"run_preprocessor\": \"\", \"run_algorithm\": \"\", \"dynamic_allowlisting_iterations\": \"<25>;<29>;<35>;\", \"_aml_system_azureml.automl_early_exit_message\": \"No scores improved over last 10 iterations, so experiment stopped early. This early stopping behavior can be disabled by setting enable_early_stopping = False in AutoMLConfig for notebook/python SDK runs.\", \"automl_best_child_run_id\": \"AutoML_7ec42a0e-ef4a-4651-8a50-c808bca08781_38\", \"model_explain_best_run_child_id\": \"AutoML_7ec42a0e-ef4a-4651-8a50-c808bca08781_38\"}, \"end_time_utc\": \"2022-08-12T02:39:19.608453Z\", \"status\": \"Completed\", \"log_files\": {}, \"log_groups\": [], \"run_duration\": \"0:12:27\", \"run_number\": \"1660271212\", \"run_queued_details\": {\"status\": \"Completed\", \"details\": null}}, \"child_runs\": [{\"run_id\": \"AutoML_7ec42a0e-ef4a-4651-8a50-c808bca08781_setup\", \"run_number\": 1660271224, \"metric\": null, \"status\": \"Completed\", \"run_type\": \"azureml.scriptrun\", \"training_percent\": null, \"start_time\": \"2022-08-12T02:28:31.262928Z\", \"end_time\": \"2022-08-12T02:29:48.635315Z\", \"created_time\": \"2022-08-12T02:27:04.768544Z\", \"created_time_dt\": \"2022-08-12T02:27:04.768544Z\", \"duration\": \"0:02:43\", \"iteration\": null, \"goal\": null, \"run_name\": \"Completed\", \"run_properties\": null}, {\"run_id\": \"AutoML_7ec42a0e-ef4a-4651-8a50-c808bca08781_featurize\", \"run_number\": 1660271389, \"metric\": null, \"status\": \"Completed\", \"run_type\": \"automl.featurization\", \"training_percent\": null, \"start_time\": \"2022-08-12T02:29:49.479485Z\", \"end_time\": \"2022-08-12T02:31:58.397889Z\", \"created_time\": \"2022-08-12T02:29:49.149298Z\", \"created_time_dt\": \"2022-08-12T02:29:49.149298Z\", \"duration\": \"0:02:09\", \"iteration\": null, \"goal\": null, \"run_name\": \"Completed\", \"run_properties\": null}, {\"run_id\": \"AutoML_7ec42a0e-ef4a-4651-8a50-c808bca08781_0\", \"run_number\": 1660271519, \"metric\": null, \"status\": \"Completed\", \"run_type\": null, \"training_percent\": \"100\", \"start_time\": \"2022-08-12T02:32:13.59355Z\", \"end_time\": \"2022-08-12T02:32:31.138676Z\", \"created_time\": \"2022-08-12T02:31:59.428589Z\", \"created_time_dt\": \"2022-08-12T02:31:59.428589Z\", \"duration\": \"0:00:31\", \"iteration\": \"0\", \"goal\": \"AUC_weighted_max\", \"run_name\": \"MaxAbsScaler, LightGBM\", \"run_properties\": \"copy=True\", \"primary_metric\": 0.99268389, \"best_metric\": 0.99268389}, {\"run_id\": \"AutoML_7ec42a0e-ef4a-4651-8a50-c808bca08781_worker_0\", \"run_number\": 1660271520, \"metric\": null, \"status\": \"Completed\", \"run_type\": \"azureml.scriptrun\", \"training_percent\": null, \"start_time\": \"2022-08-12T02:32:06.133733Z\", \"end_time\": \"2022-08-12T02:34:14.397052Z\", \"created_time\": \"2022-08-12T02:32:00.825613Z\", \"created_time_dt\": \"2022-08-12T02:32:00.825613Z\", \"duration\": \"0:02:13\", \"iteration\": null, \"goal\": null, \"run_name\": \"Completed\", \"run_properties\": null}, {\"run_id\": \"AutoML_7ec42a0e-ef4a-4651-8a50-c808bca08781_5\", \"run_number\": 1660271521, \"metric\": null, \"status\": \"Completed\", \"run_type\": null, \"training_percent\": \"100\", \"start_time\": \"2022-08-12T02:34:19.140714Z\", \"end_time\": \"2022-08-12T02:34:36.410511Z\", \"created_time\": \"2022-08-12T02:32:01.375244Z\", \"created_time_dt\": \"2022-08-12T02:32:01.375244Z\", \"duration\": \"0:02:35\", \"iteration\": \"5\", \"goal\": \"AUC_weighted_max\", \"run_name\": \"SparseNormalizer, XGBoostClassifier\", \"run_properties\": \"copy=True, norm='max'\", \"primary_metric\": 0.93943102, \"best_metric\": 0.99268389}, {\"run_id\": \"AutoML_7ec42a0e-ef4a-4651-8a50-c808bca08781_worker_1\", \"run_number\": 1660271522, \"metric\": null, \"status\": \"Completed\", \"run_type\": \"azureml.scriptrun\", \"training_percent\": null, \"start_time\": \"2022-08-12T02:33:15.37174Z\", \"end_time\": \"2022-08-12T02:35:21.950142Z\", \"created_time\": \"2022-08-12T02:32:02.343452Z\", \"created_time_dt\": \"2022-08-12T02:32:02.343452Z\", \"duration\": \"0:03:19\", \"iteration\": null, \"goal\": null, \"run_name\": \"Completed\", \"run_properties\": null}, {\"run_id\": \"AutoML_7ec42a0e-ef4a-4651-8a50-c808bca08781_10\", \"run_number\": 1660271523, \"metric\": null, \"status\": \"Completed\", \"run_type\": null, \"training_percent\": \"100\", \"start_time\": \"2022-08-12T02:34:38.565148Z\", \"end_time\": \"2022-08-12T02:34:53.378708Z\", \"created_time\": \"2022-08-12T02:32:03.28607Z\", \"created_time_dt\": \"2022-08-12T02:32:03.28607Z\", \"duration\": \"0:02:50\", \"iteration\": \"10\", \"goal\": \"AUC_weighted_max\", \"run_name\": \"SparseNormalizer, LightGBM\", \"run_properties\": \"copy=True, norm='l1'\", \"primary_metric\": 0.88905727, \"best_metric\": 0.99268389}, {\"run_id\": \"AutoML_7ec42a0e-ef4a-4651-8a50-c808bca08781_worker_2\", \"run_number\": 1660271524, \"metric\": null, \"status\": \"Completed\", \"run_type\": \"azureml.scriptrun\", \"training_percent\": null, \"start_time\": \"2022-08-12T02:33:14.902438Z\", \"end_time\": \"2022-08-12T02:35:24.245078Z\", \"created_time\": \"2022-08-12T02:32:04.041704Z\", \"created_time_dt\": \"2022-08-12T02:32:04.041704Z\", \"duration\": \"0:03:20\", \"iteration\": null, \"goal\": null, \"run_name\": \"Completed\", \"run_properties\": null}, {\"run_id\": \"AutoML_7ec42a0e-ef4a-4651-8a50-c808bca08781_worker_3\", \"run_number\": 1660271525, \"metric\": null, \"status\": \"Completed\", \"run_type\": \"azureml.scriptrun\", \"training_percent\": null, \"start_time\": \"2022-08-12T02:33:15.142115Z\", \"end_time\": \"2022-08-12T02:35:29.295679Z\", \"created_time\": \"2022-08-12T02:32:05.589508Z\", \"created_time_dt\": \"2022-08-12T02:32:05.589508Z\", \"duration\": \"0:03:23\", \"iteration\": null, \"goal\": null, \"run_name\": \"Completed\", \"run_properties\": null}, {\"run_id\": \"AutoML_7ec42a0e-ef4a-4651-8a50-c808bca08781_worker_4\", \"run_number\": 1660271526, \"metric\": null, \"status\": \"Completed\", \"run_type\": \"azureml.scriptrun\", \"training_percent\": null, \"start_time\": \"2022-08-12T02:34:21.336111Z\", \"end_time\": \"2022-08-12T02:36:40.46448Z\", \"created_time\": \"2022-08-12T02:32:06.980659Z\", \"created_time_dt\": \"2022-08-12T02:32:06.980659Z\", \"duration\": \"0:04:33\", \"iteration\": null, \"goal\": null, \"run_name\": \"Completed\", \"run_properties\": null}, {\"run_id\": \"AutoML_7ec42a0e-ef4a-4651-8a50-c808bca08781_20\", \"run_number\": 1660271721, \"metric\": null, \"status\": \"Completed\", \"run_type\": \"azureml.scriptrun\", \"training_percent\": \"100\", \"start_time\": \"2022-08-12T02:35:30.7372Z\", \"end_time\": \"2022-08-12T02:35:58.150259Z\", \"created_time\": \"2022-08-12T02:35:21.438223Z\", \"created_time_dt\": \"2022-08-12T02:35:21.438223Z\", \"duration\": \"0:00:36\", \"iteration\": \"20\", \"goal\": \"AUC_weighted_max\", \"run_name\": \"MaxAbsScaler, LogisticRegression\", \"run_properties\": \"copy=True\", \"primary_metric\": 0.94161373, \"best_metric\": 0.99268389}, {\"run_id\": \"AutoML_7ec42a0e-ef4a-4651-8a50-c808bca08781_22\", \"run_number\": 1660271727, \"metric\": null, \"status\": \"Completed\", \"run_type\": \"azureml.scriptrun\", \"training_percent\": \"100\", \"start_time\": \"2022-08-12T02:35:31.543113Z\", \"end_time\": \"2022-08-12T02:36:06.749465Z\", \"created_time\": \"2022-08-12T02:35:27.438214Z\", \"created_time_dt\": \"2022-08-12T02:35:27.438214Z\", \"duration\": \"0:00:39\", \"iteration\": \"22\", \"goal\": \"AUC_weighted_max\", \"run_name\": \"StandardScalerWrapper, XGBoostClassifier\", \"run_properties\": \"copy=True, with_mean=False, with_std=False\", \"primary_metric\": 0.99164432, \"best_metric\": 0.99268389}, {\"run_id\": \"AutoML_7ec42a0e-ef4a-4651-8a50-c808bca08781_23\", \"run_number\": 1660271760, \"metric\": null, \"status\": \"Completed\", \"run_type\": \"azureml.scriptrun\", \"training_percent\": \"100\", \"start_time\": \"2022-08-12T02:36:04.833285Z\", \"end_time\": \"2022-08-12T02:36:30.999157Z\", \"created_time\": \"2022-08-12T02:36:00.625181Z\", \"created_time_dt\": \"2022-08-12T02:36:00.625181Z\", \"duration\": \"0:00:30\", \"iteration\": \"23\", \"goal\": \"AUC_weighted_max\", \"run_name\": \"MaxAbsScaler, RandomForest\", \"run_properties\": \"copy=True\", \"primary_metric\": 0.92280482, \"best_metric\": 0.99268389}, {\"run_id\": \"AutoML_7ec42a0e-ef4a-4651-8a50-c808bca08781_26\", \"run_number\": 1660271770, \"metric\": null, \"status\": \"Completed\", \"run_type\": \"azureml.scriptrun\", \"training_percent\": \"100\", \"start_time\": \"2022-08-12T02:36:14.259701Z\", \"end_time\": \"2022-08-12T02:36:47.694515Z\", \"created_time\": \"2022-08-12T02:36:10.358434Z\", \"created_time_dt\": \"2022-08-12T02:36:10.358434Z\", \"duration\": \"0:00:37\", \"iteration\": \"26\", \"goal\": \"AUC_weighted_max\", \"run_name\": \"TruncatedSVDWrapper, XGBoostClassifier\", \"run_properties\": \"n_components=0.6531578947368422, random_state=None\", \"primary_metric\": 0.96141857, \"best_metric\": 0.99268389}, {\"run_id\": \"AutoML_7ec42a0e-ef4a-4651-8a50-c808bca08781_27\", \"run_number\": 1660271792, \"metric\": null, \"status\": \"Completed\", \"run_type\": \"azureml.scriptrun\", \"training_percent\": \"100\", \"start_time\": \"2022-08-12T02:36:44.48858Z\", \"end_time\": \"2022-08-12T02:37:14.469972Z\", \"created_time\": \"2022-08-12T02:36:32.264616Z\", \"created_time_dt\": \"2022-08-12T02:36:32.264616Z\", \"duration\": \"0:00:42\", \"iteration\": \"27\", \"goal\": \"AUC_weighted_max\", \"run_name\": \"StandardScalerWrapper, LightGBM\", \"run_properties\": \"copy=True, with_mean=False, with_std=True\", \"primary_metric\": 0.98895752, \"best_metric\": 0.99268389}, {\"run_id\": \"AutoML_7ec42a0e-ef4a-4651-8a50-c808bca08781_28\", \"run_number\": 1660271798, \"metric\": null, \"status\": \"Completed\", \"run_type\": \"azureml.scriptrun\", \"training_percent\": \"100\", \"start_time\": \"2022-08-12T02:36:47.725042Z\", \"end_time\": \"2022-08-12T02:37:15.531378Z\", \"created_time\": \"2022-08-12T02:36:38.337916Z\", \"created_time_dt\": \"2022-08-12T02:36:38.337916Z\", \"duration\": \"0:00:37\", \"iteration\": \"28\", \"goal\": \"AUC_weighted_max\", \"run_name\": \"StandardScalerWrapper, LightGBM\", \"run_properties\": \"copy=True, with_mean=False, with_std=True\", \"primary_metric\": 0.98471007, \"best_metric\": 0.99268389}, {\"run_id\": \"AutoML_7ec42a0e-ef4a-4651-8a50-c808bca08781_29\", \"run_number\": 1660271810, \"metric\": null, \"status\": \"Completed\", \"run_type\": \"azureml.scriptrun\", \"training_percent\": \"100\", \"start_time\": \"2022-08-12T02:36:56.591904Z\", \"end_time\": \"2022-08-12T02:37:23.601067Z\", \"created_time\": \"2022-08-12T02:36:50.08098Z\", \"created_time_dt\": \"2022-08-12T02:36:50.08098Z\", \"duration\": \"0:00:33\", \"iteration\": \"29\", \"goal\": \"AUC_weighted_max\", \"run_name\": \"StandardScalerWrapper, LightGBM\", \"run_properties\": \"copy=True, with_mean=False, with_std=True\", \"primary_metric\": 0.9895017, \"best_metric\": 0.99268389}, {\"run_id\": \"AutoML_7ec42a0e-ef4a-4651-8a50-c808bca08781_31\", \"run_number\": 1660271830, \"metric\": null, \"status\": \"Completed\", \"run_type\": \"azureml.scriptrun\", \"training_percent\": \"100\", \"start_time\": \"2022-08-12T02:37:20.931549Z\", \"end_time\": \"2022-08-12T02:38:11.027293Z\", \"created_time\": \"2022-08-12T02:37:10.118702Z\", \"created_time_dt\": \"2022-08-12T02:37:10.118702Z\", \"duration\": \"0:01:00\", \"iteration\": \"31\", \"goal\": \"AUC_weighted_max\", \"run_name\": \"StandardScalerWrapper, XGBoostClassifier\", \"run_properties\": \"copy=True, with_mean=False, with_std=False\", \"primary_metric\": 0.99027422, \"best_metric\": 0.99268389}, {\"run_id\": \"AutoML_7ec42a0e-ef4a-4651-8a50-c808bca08781_32\", \"run_number\": 1660271835, \"metric\": null, \"status\": \"Completed\", \"run_type\": \"azureml.scriptrun\", \"training_percent\": \"100\", \"start_time\": \"2022-08-12T02:37:23.992057Z\", \"end_time\": \"2022-08-12T02:37:50.124716Z\", \"created_time\": \"2022-08-12T02:37:15.696321Z\", \"created_time_dt\": \"2022-08-12T02:37:15.696321Z\", \"duration\": \"0:00:34\", \"iteration\": \"32\", \"goal\": \"AUC_weighted_max\", \"run_name\": \"StandardScalerWrapper, LightGBM\", \"run_properties\": \"copy=True, with_mean=False, with_std=False\", \"primary_metric\": 0.98756354, \"best_metric\": 0.99268389}, {\"run_id\": \"AutoML_7ec42a0e-ef4a-4651-8a50-c808bca08781_33\", \"run_number\": 1660271837, \"metric\": null, \"status\": \"Completed\", \"run_type\": \"azureml.scriptrun\", \"training_percent\": \"100\", \"start_time\": \"2022-08-12T02:37:29.882127Z\", \"end_time\": \"2022-08-12T02:37:56.258541Z\", \"created_time\": \"2022-08-12T02:37:17.456128Z\", \"created_time_dt\": \"2022-08-12T02:37:17.456128Z\", \"duration\": \"0:00:38\", \"iteration\": \"33\", \"goal\": \"AUC_weighted_max\", \"run_name\": \"MaxAbsScaler, LogisticRegression\", \"run_properties\": \"copy=True\", \"primary_metric\": 0.94134407, \"best_metric\": 0.99268389}, {\"run_id\": \"AutoML_7ec42a0e-ef4a-4651-8a50-c808bca08781_34\", \"run_number\": 1660271844, \"metric\": null, \"status\": \"Canceled\", \"run_type\": \"azureml.scriptrun\", \"training_percent\": \"100\", \"start_time\": \"2022-08-12T02:37:47.980599Z\", \"end_time\": \"2022-08-12T02:38:11.819926Z\", \"created_time\": \"2022-08-12T02:37:24.961042Z\", \"created_time_dt\": \"2022-08-12T02:37:24.961042Z\", \"duration\": \"0:00:46\", \"iteration\": \"34\", \"goal\": \"AUC_weighted_max\", \"run_name\": \"MaxAbsScaler, LightGBM\", \"run_properties\": \"copy=True\", \"primary_metric\": 0.9908355, \"best_metric\": 0.99268389}, {\"run_id\": \"AutoML_7ec42a0e-ef4a-4651-8a50-c808bca08781_35\", \"run_number\": 1660271863, \"metric\": null, \"status\": \"Canceled\", \"run_type\": \"azureml.scriptrun\", \"training_percent\": \"100\", \"start_time\": \"2022-08-12T02:37:57.467037Z\", \"end_time\": \"2022-08-12T02:38:11.827278Z\", \"created_time\": \"2022-08-12T02:37:43.424845Z\", \"created_time_dt\": \"2022-08-12T02:37:43.424845Z\", \"duration\": \"0:00:28\", \"iteration\": \"35\", \"goal\": null, \"run_name\": \"StandardScalerWrapper, LightGBM\", \"run_properties\": null}, {\"run_id\": \"AutoML_7ec42a0e-ef4a-4651-8a50-c808bca08781_36\", \"run_number\": 1660271871, \"metric\": null, \"status\": \"Canceled\", \"run_type\": \"azureml.scriptrun\", \"training_percent\": \"100\", \"start_time\": \"2022-08-12T02:38:03.074919Z\", \"end_time\": \"2022-08-12T02:38:14.814982Z\", \"created_time\": \"2022-08-12T02:37:51.4166Z\", \"created_time_dt\": \"2022-08-12T02:37:51.4166Z\", \"duration\": \"0:00:23\", \"iteration\": \"36\", \"goal\": null, \"run_name\": \"MaxAbsScaler, LightGBM\", \"run_properties\": null}, {\"run_id\": \"AutoML_7ec42a0e-ef4a-4651-8a50-c808bca08781_37\", \"run_number\": 1660271877, \"metric\": null, \"status\": \"Canceled\", \"run_type\": \"azureml.scriptrun\", \"training_percent\": \"100\", \"start_time\": \"2022-08-12T02:38:11.542228Z\", \"end_time\": \"2022-08-12T02:38:11.728173Z\", \"created_time\": \"2022-08-12T02:37:57.429479Z\", \"created_time_dt\": \"2022-08-12T02:37:57.429479Z\", \"duration\": \"0:00:14\", \"iteration\": \"37\", \"goal\": null, \"run_name\": \"Canceled\", \"run_properties\": null}, {\"run_id\": \"AutoML_7ec42a0e-ef4a-4651-8a50-c808bca08781_38\", \"run_number\": 1660271895, \"metric\": null, \"status\": \"Completed\", \"run_type\": \"azureml.scriptrun\", \"training_percent\": \"100\", \"start_time\": \"2022-08-12T02:38:21.352966Z\", \"end_time\": \"2022-08-12T02:39:14.500834Z\", \"created_time\": \"2022-08-12T02:38:15.334304Z\", \"created_time_dt\": \"2022-08-12T02:38:15.334304Z\", \"duration\": \"0:00:59\", \"iteration\": \"38\", \"goal\": \"AUC_weighted_max\", \"run_name\": \"VotingEnsemble\", \"run_properties\": \"classification_labels=numpy.array([0, 1]\", \"primary_metric\": 0.99301462, \"best_metric\": 0.99301462}], \"children_metrics\": {\"categories\": [0], \"series\": {\"recall_score_micro\": [{\"categories\": [\"0\", \"5\", \"10\", \"20\", \"22\", \"23\", \"26\", \"27\", \"28\", \"29\", \"31\", \"32\", \"33\", \"34\", \"38\"], \"mode\": \"markers\", \"name\": \"recall_score_micro\", \"stepped\": false, \"type\": \"scatter\", \"data\": [0.9701788843796084, 0.9169534325375063, 0.8760729772220394, 0.9177440434840897, 0.9681048103055343, 0.8422039413549779, 0.9296921745700949, 0.9620811914250545, 0.9543791451866476, 0.9639574908900345, 0.9661294529145795, 0.9599089856556129, 0.9173491767516117, 0.9662288033344302, 0.9716600246182345]}, {\"categories\": [\"0\", \"5\", \"10\", \"20\", \"22\", \"23\", \"26\", \"27\", \"28\", \"29\", \"31\", \"32\", \"33\", \"34\", \"38\"], \"mode\": \"lines\", \"name\": \"recall_score_micro_max\", \"stepped\": true, \"type\": \"scatter\", \"data\": [0.9701788843796084, 0.9701788843796084, 0.9701788843796084, 0.9701788843796084, 0.9701788843796084, 0.9701788843796084, 0.9701788843796084, 0.9701788843796084, 0.9701788843796084, 0.9701788843796084, 0.9701788843796084, 0.9701788843796084, 0.9701788843796084, 0.9701788843796084, 0.9716600246182345]}], \"average_precision_score_micro\": [{\"categories\": [\"0\", \"5\", \"10\", \"20\", \"22\", \"23\", \"26\", \"27\", \"28\", \"29\", \"31\", \"32\", \"33\", \"34\", \"38\"], \"mode\": \"markers\", \"name\": \"average_precision_score_micro\", \"stepped\": false, \"type\": \"scatter\", \"data\": [0.9962097116846692, 0.9725384184419372, 0.9497571085386871, 0.9737357717750322, 0.9956768409491505, 0.9186559563709128, 0.9814950325349955, 0.994258522969516, 0.9919812281020063, 0.9945601607307657, 0.9950551653169425, 0.9935520318740361, 0.9736221870028423, 0.995106918908291, 0.9963419717095696]}, {\"categories\": [\"0\", \"5\", \"10\", \"20\", \"22\", \"23\", \"26\", \"27\", \"28\", \"29\", \"31\", \"32\", \"33\", \"34\", \"38\"], \"mode\": \"lines\", \"name\": \"average_precision_score_micro_max\", \"stepped\": true, \"type\": \"scatter\", \"data\": [0.9962097116846692, 0.9962097116846692, 0.9962097116846692, 0.9962097116846692, 0.9962097116846692, 0.9962097116846692, 0.9962097116846692, 0.9962097116846692, 0.9962097116846692, 0.9962097116846692, 0.9962097116846692, 0.9962097116846692, 0.9962097116846692, 0.9962097116846692, 0.9963419717095696]}], \"f1_score_micro\": [{\"categories\": [\"0\", \"5\", \"10\", \"20\", \"22\", \"23\", \"26\", \"27\", \"28\", \"29\", \"31\", \"32\", \"33\", \"34\", \"38\"], \"mode\": \"markers\", \"name\": \"f1_score_micro\", \"stepped\": false, \"type\": \"scatter\", \"data\": [0.9701788843796084, 0.9169534325375063, 0.8760729772220394, 0.9177440434840897, 0.9681048103055343, 0.8422039413549779, 0.9296921745700949, 0.9620811914250545, 0.9543791451866476, 0.9639574908900345, 0.9661294529145795, 0.9599089856556129, 0.9173491767516117, 0.9662288033344302, 0.9716600246182345]}, {\"categories\": [\"0\", \"5\", \"10\", \"20\", \"22\", \"23\", \"26\", \"27\", \"28\", \"29\", \"31\", \"32\", \"33\", \"34\", \"38\"], \"mode\": \"lines\", \"name\": \"f1_score_micro_max\", \"stepped\": true, \"type\": \"scatter\", \"data\": [0.9701788843796084, 0.9701788843796084, 0.9701788843796084, 0.9701788843796084, 0.9701788843796084, 0.9701788843796084, 0.9701788843796084, 0.9701788843796084, 0.9701788843796084, 0.9701788843796084, 0.9701788843796084, 0.9701788843796084, 0.9701788843796084, 0.9701788843796084, 0.9716600246182345]}], \"AUC_macro\": [{\"categories\": [\"0\", \"5\", \"10\", \"20\", \"22\", \"23\", \"26\", \"27\", \"28\", \"29\", \"31\", \"32\", \"33\", \"34\", \"38\"], \"mode\": \"markers\", \"name\": \"AUC_macro\", \"stepped\": false, \"type\": \"scatter\", \"data\": [0.9926838921732403, 0.9394310240489796, 0.8890572699445702, 0.9416137341709305, 0.9916443202961107, 0.9228048226159734, 0.9614185746054638, 0.9889575244509512, 0.9847100680378421, 0.9895017021773949, 0.9902742204087647, 0.9875635356688619, 0.94134407006825, 0.9908354976187692, 0.9930146197964765]}, {\"categories\": [\"0\", \"5\", \"10\", \"20\", \"22\", \"23\", \"26\", \"27\", \"28\", \"29\", \"31\", \"32\", \"33\", \"34\", \"38\"], \"mode\": \"lines\", \"name\": \"AUC_macro_max\", \"stepped\": true, \"type\": \"scatter\", \"data\": [0.9926838921732403, 0.9926838921732403, 0.9926838921732403, 0.9926838921732403, 0.9926838921732403, 0.9926838921732403, 0.9926838921732403, 0.9926838921732403, 0.9926838921732403, 0.9926838921732403, 0.9926838921732403, 0.9926838921732403, 0.9926838921732403, 0.9926838921732403, 0.9930146197964765]}], \"weighted_accuracy\": [{\"categories\": [\"0\", \"5\", \"10\", \"20\", \"22\", \"23\", \"26\", \"27\", \"28\", \"29\", \"31\", \"32\", \"33\", \"34\", \"38\"], \"mode\": \"markers\", \"name\": \"weighted_accuracy\", \"stepped\": false, \"type\": \"scatter\", \"data\": [0.9832548466972388, 0.9677204252079775, 0.9612019654461307, 0.9545255118230985, 0.982152894390724, 0.8419510637920468, 0.966421839892196, 0.9784224251695546, 0.974709004136414, 0.9796713483338845, 0.9809684686719482, 0.9763913612886952, 0.9544431893302769, 0.9831169622279108, 0.9848680376696475]}, {\"categories\": [\"0\", \"5\", \"10\", \"20\", \"22\", \"23\", \"26\", \"27\", \"28\", \"29\", \"31\", \"32\", \"33\", \"34\", \"38\"], \"mode\": \"lines\", \"name\": \"weighted_accuracy_max\", \"stepped\": true, \"type\": \"scatter\", \"data\": [0.9832548466972388, 0.9832548466972388, 0.9832548466972388, 0.9832548466972388, 0.9832548466972388, 0.9832548466972388, 0.9832548466972388, 0.9832548466972388, 0.9832548466972388, 0.9832548466972388, 0.9832548466972388, 0.9832548466972388, 0.9832548466972388, 0.9832548466972388, 0.9848680376696475]}], \"accuracy\": [{\"categories\": [\"0\", \"5\", \"10\", \"20\", \"22\", \"23\", \"26\", \"27\", \"28\", \"29\", \"31\", \"32\", \"33\", \"34\", \"38\"], \"mode\": \"markers\", \"name\": \"accuracy\", \"stepped\": false, \"type\": \"scatter\", \"data\": [0.9701788843796084, 0.9169534325375063, 0.8760729772220394, 0.9177440434840897, 0.9681048103055343, 0.8422039413549779, 0.9296921745700949, 0.9620811914250545, 0.9543791451866476, 0.9639574908900345, 0.9661294529145795, 0.9599089856556129, 0.9173491767516117, 0.9662288033344302, 0.9716600246182345]}, {\"categories\": [\"0\", \"5\", \"10\", \"20\", \"22\", \"23\", \"26\", \"27\", \"28\", \"29\", \"31\", \"32\", \"33\", \"34\", \"38\"], \"mode\": \"lines\", \"name\": \"accuracy_max\", \"stepped\": true, \"type\": \"scatter\", \"data\": [0.9701788843796084, 0.9701788843796084, 0.9701788843796084, 0.9701788843796084, 0.9701788843796084, 0.9701788843796084, 0.9701788843796084, 0.9701788843796084, 0.9701788843796084, 0.9701788843796084, 0.9701788843796084, 0.9701788843796084, 0.9701788843796084, 0.9701788843796084, 0.9716600246182345]}], \"precision_score_micro\": [{\"categories\": [\"0\", \"5\", \"10\", \"20\", \"22\", \"23\", \"26\", \"27\", \"28\", \"29\", \"31\", \"32\", \"33\", \"34\", \"38\"], \"mode\": \"markers\", \"name\": \"precision_score_micro\", \"stepped\": false, \"type\": \"scatter\", \"data\": [0.9701788843796084, 0.9169534325375063, 0.8760729772220394, 0.9177440434840897, 0.9681048103055343, 0.8422039413549779, 0.9296921745700949, 0.9620811914250545, 0.9543791451866476, 0.9639574908900345, 0.9661294529145795, 0.9599089856556129, 0.9173491767516117, 0.9662288033344302, 0.9716600246182345]}, {\"categories\": [\"0\", \"5\", \"10\", \"20\", \"22\", \"23\", \"26\", \"27\", \"28\", \"29\", \"31\", \"32\", \"33\", \"34\", \"38\"], \"mode\": \"lines\", \"name\": \"precision_score_micro_max\", \"stepped\": true, \"type\": \"scatter\", \"data\": [0.9701788843796084, 0.9701788843796084, 0.9701788843796084, 0.9701788843796084, 0.9701788843796084, 0.9701788843796084, 0.9701788843796084, 0.9701788843796084, 0.9701788843796084, 0.9701788843796084, 0.9701788843796084, 0.9701788843796084, 0.9701788843796084, 0.9701788843796084, 0.9716600246182345]}], \"AUC_weighted\": [{\"categories\": [\"0\", \"5\", \"10\", \"20\", \"22\", \"23\", \"26\", \"27\", \"28\", \"29\", \"31\", \"32\", \"33\", \"34\", \"38\"], \"mode\": \"markers\", \"name\": \"AUC_weighted\", \"stepped\": false, \"type\": \"scatter\", \"data\": [0.9926838921732403, 0.9394310240489796, 0.8890572699445702, 0.9416137341709305, 0.9916443202961107, 0.9228048226159734, 0.9614185746054638, 0.9889575244509512, 0.9847100680378421, 0.9895017021773949, 0.9902742204087647, 0.9875635356688617, 0.94134407006825, 0.9908354976187692, 0.9930146197964765]}, {\"categories\": [\"0\", \"5\", \"10\", \"20\", \"22\", \"23\", \"26\", \"27\", \"28\", \"29\", \"31\", \"32\", \"33\", \"34\", \"38\"], \"mode\": \"lines\", \"name\": \"AUC_weighted_max\", \"stepped\": true, \"type\": \"scatter\", \"data\": [0.9926838921732403, 0.9926838921732403, 0.9926838921732403, 0.9926838921732403, 0.9926838921732403, 0.9926838921732403, 0.9926838921732403, 0.9926838921732403, 0.9926838921732403, 0.9926838921732403, 0.9926838921732403, 0.9926838921732403, 0.9926838921732403, 0.9926838921732403, 0.9930146197964765]}], \"average_precision_score_weighted\": [{\"categories\": [\"0\", \"5\", \"10\", \"20\", \"22\", \"23\", \"26\", \"27\", \"28\", \"29\", \"31\", \"32\", \"33\", \"34\", \"38\"], \"mode\": \"markers\", \"name\": \"average_precision_score_weighted\", \"stepped\": false, \"type\": \"scatter\", \"data\": [0.9936697653679257, 0.9582776201391686, 0.9226915876630672, 0.9585948577745637, 0.9927636193967728, 0.9391181199337613, 0.9705561130353855, 0.9900635824169992, 0.9859659239051709, 0.9906667901211467, 0.991839556340215, 0.9886907127576399, 0.9584250076378786, 0.9920821562899242, 0.9938929926327551]}, {\"categories\": [\"0\", \"5\", \"10\", \"20\", \"22\", \"23\", \"26\", \"27\", \"28\", \"29\", \"31\", \"32\", \"33\", \"34\", \"38\"], \"mode\": \"lines\", \"name\": \"average_precision_score_weighted_max\", \"stepped\": true, \"type\": \"scatter\", \"data\": [0.9936697653679257, 0.9936697653679257, 0.9936697653679257, 0.9936697653679257, 0.9936697653679257, 0.9936697653679257, 0.9936697653679257, 0.9936697653679257, 0.9936697653679257, 0.9936697653679257, 0.9936697653679257, 0.9936697653679257, 0.9936697653679257, 0.9936697653679257, 0.9938929926327551]}], \"log_loss\": [{\"categories\": [\"0\", \"5\", \"10\", \"20\", \"22\", \"23\", \"26\", \"27\", \"28\", \"29\", \"31\", \"32\", \"33\", \"34\", \"38\"], \"mode\": \"markers\", \"name\": \"log_loss\", \"stepped\": false, \"type\": \"scatter\", \"data\": [0.07850712600764846, 0.2273388687270173, 0.30095835454195896, 0.2090717678296401, 0.08268715723154743, 0.39156567168521084, 0.18116989756707363, 0.10224408490150141, 0.12326207699825295, 0.09942707709046764, 0.09256443724477412, 0.10648176757641306, 0.20948849939382916, 0.1002572529795828, 0.07726405767286033]}, {\"categories\": [\"0\", \"5\", \"10\", \"20\", \"22\", \"23\", \"26\", \"27\", \"28\", \"29\", \"31\", \"32\", \"33\", \"34\", \"38\"], \"mode\": \"lines\", \"name\": \"log_loss_min\", \"stepped\": true, \"type\": \"scatter\", \"data\": [0.07850712600764846, 0.07850712600764846, 0.07850712600764846, 0.07850712600764846, 0.07850712600764846, 0.07850712600764846, 0.07850712600764846, 0.07850712600764846, 0.07850712600764846, 0.07850712600764846, 0.07850712600764846, 0.07850712600764846, 0.07850712600764846, 0.07850712600764846, 0.07726405767286033]}], \"norm_macro_recall\": [{\"categories\": [\"0\", \"5\", \"10\", \"20\", \"22\", \"23\", \"26\", \"27\", \"28\", \"29\", \"31\", \"32\", \"33\", \"34\", \"38\"], \"mode\": \"markers\", \"name\": \"norm_macro_recall\", \"stepped\": false, \"type\": \"scatter\", \"data\": [0.8695212171117082, 0.5594947370640168, 0.29119112251993545, 0.6362425542693301, 0.8599797482406671, 0.6860465573776047, 0.6607219063314369, 0.8358415355652511, 0.7989848118548367, 0.8429316458362799, 0.8520794430769415, 0.8308201574976641, 0.6337212070986589, 0.8408405307896064, 0.8716501668210249]}, {\"categories\": [\"0\", \"5\", \"10\", \"20\", \"22\", \"23\", \"26\", \"27\", \"28\", \"29\", \"31\", \"32\", \"33\", \"34\", \"38\"], \"mode\": \"lines\", \"name\": \"norm_macro_recall_max\", \"stepped\": true, \"type\": \"scatter\", \"data\": [0.8695212171117082, 0.8695212171117082, 0.8695212171117082, 0.8695212171117082, 0.8695212171117082, 0.8695212171117082, 0.8695212171117082, 0.8695212171117082, 0.8695212171117082, 0.8695212171117082, 0.8695212171117082, 0.8695212171117082, 0.8695212171117082, 0.8695212171117082, 0.8716501668210249]}], \"precision_score_macro\": [{\"categories\": [\"0\", \"5\", \"10\", \"20\", \"22\", \"23\", \"26\", \"27\", \"28\", \"29\", \"31\", \"32\", \"33\", \"34\", \"38\"], \"mode\": \"markers\", \"name\": \"precision_score_macro\", \"stepped\": false, \"type\": \"scatter\", \"data\": [0.9531354294168658, 0.8923736196445899, 0.840881272445974, 0.8627626230645051, 0.9497434132328632, 0.7358151050812759, 0.8956887304169783, 0.9390875796011346, 0.9274458150253644, 0.9426502240888517, 0.9462748300380349, 0.9335287896962974, 0.8622623040921159, 0.9516342602769564, 0.9573535338001526]}, {\"categories\": [\"0\", \"5\", \"10\", \"20\", \"22\", \"23\", \"26\", \"27\", \"28\", \"29\", \"31\", \"32\", \"33\", \"34\", \"38\"], \"mode\": \"lines\", \"name\": \"precision_score_macro_max\", \"stepped\": true, \"type\": \"scatter\", \"data\": [0.9531354294168658, 0.9531354294168658, 0.9531354294168658, 0.9531354294168658, 0.9531354294168658, 0.9531354294168658, 0.9531354294168658, 0.9531354294168658, 0.9531354294168658, 0.9531354294168658, 0.9531354294168658, 0.9531354294168658, 0.9531354294168658, 0.9531354294168658, 0.9573535338001526]}], \"AUC_micro\": [{\"categories\": [\"0\", \"5\", \"10\", \"20\", \"22\", \"23\", \"26\", \"27\", \"28\", \"29\", \"31\", \"32\", \"33\", \"34\", \"38\"], \"mode\": \"markers\", \"name\": \"AUC_micro\", \"stepped\": false, \"type\": \"scatter\", \"data\": [0.9961448879348305, 0.9722633576075644, 0.9488353741686792, 0.9734570287383777, 0.995664963031845, 0.9192544339199321, 0.9811002151679441, 0.9940979636760243, 0.991799842286135, 0.9944225690411687, 0.9949488461183448, 0.9933712249230217, 0.9733391652926177, 0.9949923703219028, 0.9962668891477685]}, {\"categories\": [\"0\", \"5\", \"10\", \"20\", \"22\", \"23\", \"26\", \"27\", \"28\", \"29\", \"31\", \"32\", \"33\", \"34\", \"38\"], \"mode\": \"lines\", \"name\": \"AUC_micro_max\", \"stepped\": true, \"type\": \"scatter\", \"data\": [0.9961448879348305, 0.9961448879348305, 0.9961448879348305, 0.9961448879348305, 0.9961448879348305, 0.9961448879348305, 0.9961448879348305, 0.9961448879348305, 0.9961448879348305, 0.9961448879348305, 0.9961448879348305, 0.9961448879348305, 0.9961448879348305, 0.9961448879348305, 0.9962668891477685]}], \"recall_score_weighted\": [{\"categories\": [\"0\", \"5\", \"10\", \"20\", \"22\", \"23\", \"26\", \"27\", \"28\", \"29\", \"31\", \"32\", \"33\", \"34\", \"38\"], \"mode\": \"markers\", \"name\": \"recall_score_weighted\", \"stepped\": false, \"type\": \"scatter\", \"data\": [0.9701788843796084, 0.9169534325375063, 0.8760729772220394, 0.9177440434840897, 0.9681048103055343, 0.8422039413549779, 0.9296921745700949, 0.9620811914250545, 0.9543791451866476, 0.9639574908900345, 0.9661294529145795, 0.9599089856556129, 0.9173491767516117, 0.9662288033344302, 0.9716600246182345]}, {\"categories\": [\"0\", \"5\", \"10\", \"20\", \"22\", \"23\", \"26\", \"27\", \"28\", \"29\", \"31\", \"32\", \"33\", \"34\", \"38\"], \"mode\": \"lines\", \"name\": \"recall_score_weighted_max\", \"stepped\": true, \"type\": \"scatter\", \"data\": [0.9701788843796084, 0.9701788843796084, 0.9701788843796084, 0.9701788843796084, 0.9701788843796084, 0.9701788843796084, 0.9701788843796084, 0.9701788843796084, 0.9701788843796084, 0.9701788843796084, 0.9701788843796084, 0.9701788843796084, 0.9701788843796084, 0.9701788843796084, 0.9716600246182345]}], \"matthews_correlation\": [{\"categories\": [\"0\", \"5\", \"10\", \"20\", \"22\", \"23\", \"26\", \"27\", \"28\", \"29\", \"31\", \"32\", \"33\", \"34\", \"38\"], \"mode\": \"markers\", \"name\": \"matthews_correlation\", \"stepped\": false, \"type\": \"scatter\", \"data\": [0.8875948422969296, 0.6623082826233616, 0.4452416560334148, 0.6792158525261608, 0.879491151330005, 0.5687428003969878, 0.7229257456199238, 0.8566425191908543, 0.8263416012987372, 0.8637420599693513, 0.8720070245059615, 0.8486454056186311, 0.6773784165467978, 0.8714362640527191, 0.8928501593902023]}, {\"categories\": [\"0\", \"5\", \"10\", \"20\", \"22\", \"23\", \"26\", \"27\", \"28\", \"29\", \"31\", \"32\", \"33\", \"34\", \"38\"], \"mode\": \"lines\", \"name\": \"matthews_correlation_max\", \"stepped\": true, \"type\": \"scatter\", \"data\": [0.8875948422969296, 0.8875948422969296, 0.8875948422969296, 0.8875948422969296, 0.8875948422969296, 0.8875948422969296, 0.8875948422969296, 0.8875948422969296, 0.8875948422969296, 0.8875948422969296, 0.8875948422969296, 0.8875948422969296, 0.8875948422969296, 0.8875948422969296, 0.8928501593902023]}], \"f1_score_weighted\": [{\"categories\": [\"0\", \"5\", \"10\", \"20\", \"22\", \"23\", \"26\", \"27\", \"28\", \"29\", \"31\", \"32\", \"33\", \"34\", \"38\"], \"mode\": \"markers\", \"name\": \"f1_score_weighted\", \"stepped\": false, \"type\": \"scatter\", \"data\": [0.9698706361211918, 0.9099440469568869, 0.8518083890931539, 0.915060364555546, 0.9677451540112496, 0.8566485604705332, 0.9265014600509117, 0.9615868058546375, 0.9535904049773164, 0.9635024857781087, 0.9657065389310997, 0.959466977627832, 0.9145994303161957, 0.9656114209744006, 0.9713109101427471]}, {\"categories\": [\"0\", \"5\", \"10\", \"20\", \"22\", \"23\", \"26\", \"27\", \"28\", \"29\", \"31\", \"32\", \"33\", \"34\", \"38\"], \"mode\": \"lines\", \"name\": \"f1_score_weighted_max\", \"stepped\": true, \"type\": \"scatter\", \"data\": [0.9698706361211918, 0.9698706361211918, 0.9698706361211918, 0.9698706361211918, 0.9698706361211918, 0.9698706361211918, 0.9698706361211918, 0.9698706361211918, 0.9698706361211918, 0.9698706361211918, 0.9698706361211918, 0.9698706361211918, 0.9698706361211918, 0.9698706361211918, 0.9713109101427471]}], \"balanced_accuracy\": [{\"categories\": [\"0\", \"5\", \"10\", \"20\", \"22\", \"23\", \"26\", \"27\", \"28\", \"29\", \"31\", \"32\", \"33\", \"34\", \"38\"], \"mode\": \"markers\", \"name\": \"balanced_accuracy\", \"stepped\": false, \"type\": \"scatter\", \"data\": [0.9347606085558541, 0.7797473685320083, 0.6455955612599678, 0.8181212771346651, 0.9299898741203336, 0.8430232786888023, 0.8303609531657183, 0.9179207677826255, 0.8994924059274183, 0.9214658229181399, 0.9260397215384707, 0.9154100787488322, 0.8168606035493294, 0.9204202653948033, 0.9358250834105124]}, {\"categories\": [\"0\", \"5\", \"10\", \"20\", \"22\", \"23\", \"26\", \"27\", \"28\", \"29\", \"31\", \"32\", \"33\", \"34\", \"38\"], \"mode\": \"lines\", \"name\": \"balanced_accuracy_max\", \"stepped\": true, \"type\": \"scatter\", \"data\": [0.9347606085558541, 0.9347606085558541, 0.9347606085558541, 0.9347606085558541, 0.9347606085558541, 0.9347606085558541, 0.9347606085558541, 0.9347606085558541, 0.9347606085558541, 0.9347606085558541, 0.9347606085558541, 0.9347606085558541, 0.9347606085558541, 0.9347606085558541, 0.9358250834105124]}], \"precision_score_weighted\": [{\"categories\": [\"0\", \"5\", \"10\", \"20\", \"22\", \"23\", \"26\", \"27\", \"28\", \"29\", \"31\", \"32\", \"33\", \"34\", \"38\"], \"mode\": \"markers\", \"name\": \"precision_score_weighted\", \"stepped\": false, \"type\": \"scatter\", \"data\": [0.9699142308890295, 0.9138189730721885, 0.8683498529207723, 0.9143780588377031, 0.9676700253559568, 0.8919149776782425, 0.9269642835218468, 0.9615253206729, 0.9535208502172374, 0.9634898882109513, 0.9656520240616846, 0.9593828407972607, 0.9139423948351046, 0.9657127862761289, 0.9713448069402413]}, {\"categories\": [\"0\", \"5\", \"10\", \"20\", \"22\", \"23\", \"26\", \"27\", \"28\", \"29\", \"31\", \"32\", \"33\", \"34\", \"38\"], \"mode\": \"lines\", \"name\": \"precision_score_weighted_max\", \"stepped\": true, \"type\": \"scatter\", \"data\": [0.9699142308890295, 0.9699142308890295, 0.9699142308890295, 0.9699142308890295, 0.9699142308890295, 0.9699142308890295, 0.9699142308890295, 0.9699142308890295, 0.9699142308890295, 0.9699142308890295, 0.9699142308890295, 0.9699142308890295, 0.9699142308890295, 0.9699142308890295, 0.9713448069402413]}], \"recall_score_macro\": [{\"categories\": [\"0\", \"5\", \"10\", \"20\", \"22\", \"23\", \"26\", \"27\", \"28\", \"29\", \"31\", \"32\", \"33\", \"34\", \"38\"], \"mode\": \"markers\", \"name\": \"recall_score_macro\", \"stepped\": false, \"type\": \"scatter\", \"data\": [0.9347606085558541, 0.7797473685320083, 0.6455955612599678, 0.8181212771346651, 0.9299898741203336, 0.8430232786888023, 0.8303609531657183, 0.9179207677826255, 0.8994924059274183, 0.9214658229181399, 0.9260397215384707, 0.9154100787488322, 0.8168606035493294, 0.9204202653948033, 0.9358250834105124]}, {\"categories\": [\"0\", \"5\", \"10\", \"20\", \"22\", \"23\", \"26\", \"27\", \"28\", \"29\", \"31\", \"32\", \"33\", \"34\", \"38\"], \"mode\": \"lines\", \"name\": \"recall_score_macro_max\", \"stepped\": true, \"type\": \"scatter\", \"data\": [0.9347606085558541, 0.9347606085558541, 0.9347606085558541, 0.9347606085558541, 0.9347606085558541, 0.9347606085558541, 0.9347606085558541, 0.9347606085558541, 0.9347606085558541, 0.9347606085558541, 0.9347606085558541, 0.9347606085558541, 0.9347606085558541, 0.9347606085558541, 0.9358250834105124]}], \"f1_score_macro\": [{\"categories\": [\"0\", \"5\", \"10\", \"20\", \"22\", \"23\", \"26\", \"27\", \"28\", \"29\", \"31\", \"32\", \"33\", \"34\", \"38\"], \"mode\": \"markers\", \"name\": \"f1_score_macro\", \"stepped\": false, \"type\": \"scatter\", \"data\": [0.9434730007509693, 0.8211941779535976, 0.686155093418227, 0.8377567955103139, 0.9394815689377669, 0.7659532890199486, 0.8581045598946989, 0.9279216837183698, 0.9125127213803846, 0.9314639086451715, 0.9356653086028368, 0.9239959707145546, 0.8367544690331794, 0.9350525292015739, 0.946071059304405]}, {\"categories\": [\"0\", \"5\", \"10\", \"20\", \"22\", \"23\", \"26\", \"27\", \"28\", \"29\", \"31\", \"32\", \"33\", \"34\", \"38\"], \"mode\": \"lines\", \"name\": \"f1_score_macro_max\", \"stepped\": true, \"type\": \"scatter\", \"data\": [0.9434730007509693, 0.9434730007509693, 0.9434730007509693, 0.9434730007509693, 0.9434730007509693, 0.9434730007509693, 0.9434730007509693, 0.9434730007509693, 0.9434730007509693, 0.9434730007509693, 0.9434730007509693, 0.9434730007509693, 0.9434730007509693, 0.9434730007509693, 0.946071059304405]}], \"average_precision_score_macro\": [{\"categories\": [\"0\", \"5\", \"10\", \"20\", \"22\", \"23\", \"26\", \"27\", \"28\", \"29\", \"31\", \"32\", \"33\", \"34\", \"38\"], \"mode\": \"markers\", \"name\": \"average_precision_score_macro\", \"stepped\": false, \"type\": \"scatter\", \"data\": [0.9834265991886063, 0.8986850077157099, 0.811443891184668, 0.8985388939439127, 0.9812367571927869, 0.8442188519654861, 0.9254994778360027, 0.9735601722651491, 0.9626250561753578, 0.9752763151867125, 0.9787295154367973, 0.9698408376771516, 0.8981340702370775, 0.9791837985099529, 0.9839448066967258]}, {\"categories\": [\"0\", \"5\", \"10\", \"20\", \"22\", \"23\", \"26\", \"27\", \"28\", \"29\", \"31\", \"32\", \"33\", \"34\", \"38\"], \"mode\": \"lines\", \"name\": \"average_precision_score_macro_max\", \"stepped\": true, \"type\": \"scatter\", \"data\": [0.9834265991886063, 0.9834265991886063, 0.9834265991886063, 0.9834265991886063, 0.9834265991886063, 0.9834265991886063, 0.9834265991886063, 0.9834265991886063, 0.9834265991886063, 0.9834265991886063, 0.9834265991886063, 0.9834265991886063, 0.9834265991886063, 0.9834265991886063, 0.9839448066967258]}]}, \"metricName\": null, \"primaryMetricName\": \"AUC_weighted\", \"showLegend\": false}, \"run_metrics\": [{\"name\": \"experiment_status\", \"run_id\": \"AutoML_7ec42a0e-ef4a-4651-8a50-c808bca08781\", \"categories\": [0, 1, 2, 3, 4, 5, 6, 7, 8, 9, 10, 11, 12, 13, 14], \"series\": [{\"data\": [\"DatasetEvaluation\", \"FeaturesGeneration\", \"DatasetFeaturization\", \"DatasetFeaturizationCompleted\", \"DatasetBalancing\", \"DatasetCrossValidationSplit\", \"ModelSelection\", \"BestRunExplainModel\", \"ModelExplanationDataSetSetup\", \"PickSurrogateModel\", \"EngineeredFeatureExplanations\", \"EngineeredFeatureExplanations\", \"RawFeaturesExplanations\", \"RawFeaturesExplanations\", \"BestRunExplainModel\"]}]}, {\"name\": \"experiment_status_description\", \"run_id\": \"AutoML_7ec42a0e-ef4a-4651-8a50-c808bca08781\", \"categories\": [0, 1, 2, 3, 4, 5, 6, 7, 8, 9, 10, 11, 12, 13, 14], \"series\": [{\"data\": [\"Gathering dataset statistics.\", \"Generating features for the dataset.\", \"Beginning to fit featurizers and featurize the dataset.\", \"Completed fit featurizers and featurizing the dataset.\", \"Performing class balancing sweeping\", \"Generating individually featurized CV splits.\", \"Beginning model selection.\", \"Best run model explanations started\", \"Model explanations data setup completed\", \"Choosing LightGBM as the surrogate model for explanations\", \"Computation of engineered features started\", \"Computation of engineered features completed\", \"Computation of raw features started\", \"Computation of raw features completed\", \"Best run model explanations completed\"]}]}, {\"name\": \"precision_score_macro\", \"run_id\": \"AutoML_7ec42a0e-ef4a-4651-8a50-c808bca08781\", \"categories\": [0], \"series\": [{\"data\": [0.9573535338001526]}]}, {\"name\": \"recall_score_micro\", \"run_id\": \"AutoML_7ec42a0e-ef4a-4651-8a50-c808bca08781\", \"categories\": [0], \"series\": [{\"data\": [0.9716600246182345]}]}, {\"name\": \"matthews_correlation\", \"run_id\": \"AutoML_7ec42a0e-ef4a-4651-8a50-c808bca08781\", \"categories\": [0], \"series\": [{\"data\": [0.8928501593902023]}]}, {\"name\": \"average_precision_score_micro\", \"run_id\": \"AutoML_7ec42a0e-ef4a-4651-8a50-c808bca08781\", \"categories\": [0], \"series\": [{\"data\": [0.9963419717095696]}]}, {\"name\": \"average_precision_score_macro\", \"run_id\": \"AutoML_7ec42a0e-ef4a-4651-8a50-c808bca08781\", \"categories\": [0], \"series\": [{\"data\": [0.9839448066967258]}]}, {\"name\": \"accuracy\", \"run_id\": \"AutoML_7ec42a0e-ef4a-4651-8a50-c808bca08781\", \"categories\": [0], \"series\": [{\"data\": [0.9716600246182345]}]}, {\"name\": \"f1_score_macro\", \"run_id\": \"AutoML_7ec42a0e-ef4a-4651-8a50-c808bca08781\", \"categories\": [0], \"series\": [{\"data\": [0.946071059304405]}]}, {\"name\": \"precision_score_micro\", \"run_id\": \"AutoML_7ec42a0e-ef4a-4651-8a50-c808bca08781\", \"categories\": [0], \"series\": [{\"data\": [0.9716600246182345]}]}, {\"name\": \"AUC_weighted\", \"run_id\": \"AutoML_7ec42a0e-ef4a-4651-8a50-c808bca08781\", \"categories\": [0], \"series\": [{\"data\": [0.9930146197964765]}]}, {\"name\": \"average_precision_score_weighted\", \"run_id\": \"AutoML_7ec42a0e-ef4a-4651-8a50-c808bca08781\", \"categories\": [0], \"series\": [{\"data\": [0.9938929926327551]}]}, {\"name\": \"f1_score_weighted\", \"run_id\": \"AutoML_7ec42a0e-ef4a-4651-8a50-c808bca08781\", \"categories\": [0], \"series\": [{\"data\": [0.9713109101427471]}]}, {\"name\": \"balanced_accuracy\", \"run_id\": \"AutoML_7ec42a0e-ef4a-4651-8a50-c808bca08781\", \"categories\": [0], \"series\": [{\"data\": [0.9358250834105124]}]}, {\"name\": \"recall_score_macro\", \"run_id\": \"AutoML_7ec42a0e-ef4a-4651-8a50-c808bca08781\", \"categories\": [0], \"series\": [{\"data\": [0.9358250834105124]}]}, {\"name\": \"f1_score_micro\", \"run_id\": \"AutoML_7ec42a0e-ef4a-4651-8a50-c808bca08781\", \"categories\": [0], \"series\": [{\"data\": [0.9716600246182345]}]}, {\"name\": \"weighted_accuracy\", \"run_id\": \"AutoML_7ec42a0e-ef4a-4651-8a50-c808bca08781\", \"categories\": [0], \"series\": [{\"data\": [0.9848680376696475]}]}, {\"name\": \"precision_score_weighted\", \"run_id\": \"AutoML_7ec42a0e-ef4a-4651-8a50-c808bca08781\", \"categories\": [0], \"series\": [{\"data\": [0.9713448069402413]}]}, {\"name\": \"AUC_micro\", \"run_id\": \"AutoML_7ec42a0e-ef4a-4651-8a50-c808bca08781\", \"categories\": [0], \"series\": [{\"data\": [0.9962668891477685]}]}, {\"name\": \"AUC_macro\", \"run_id\": \"AutoML_7ec42a0e-ef4a-4651-8a50-c808bca08781\", \"categories\": [0], \"series\": [{\"data\": [0.9930146197964765]}]}, {\"name\": \"log_loss\", \"run_id\": \"AutoML_7ec42a0e-ef4a-4651-8a50-c808bca08781\", \"categories\": [0], \"series\": [{\"data\": [0.07726405767286033]}]}, {\"name\": \"recall_score_weighted\", \"run_id\": \"AutoML_7ec42a0e-ef4a-4651-8a50-c808bca08781\", \"categories\": [0], \"series\": [{\"data\": [0.9716600246182345]}]}, {\"name\": \"norm_macro_recall\", \"run_id\": \"AutoML_7ec42a0e-ef4a-4651-8a50-c808bca08781\", \"categories\": [0], \"series\": [{\"data\": [0.8716501668210249]}]}], \"run_logs\": \"\\nRun is completed.\", \"graph\": {}, \"widget_settings\": {\"childWidgetDisplay\": \"popup\", \"send_telemetry\": false, \"log_level\": \"INFO\", \"sdk_version\": \"1.43.0\"}, \"loading\": false}"
     },
     "metadata": {},
     "output_type": "display_data"
    }
   ],
   "source": [
    "from azureml.widgets import RunDetails\n",
    "RunDetails(remote_run).show()"
   ]
  },
  {
   "cell_type": "markdown",
   "metadata": {},
   "source": [
    "## Best Model"
   ]
  },
  {
   "cell_type": "code",
   "execution_count": 12,
   "metadata": {
    "gather": {
     "logged": 1598431425670
    },
    "jupyter": {
     "outputs_hidden": false,
     "source_hidden": false
    },
    "nteract": {
     "transient": {
      "deleting": false
     }
    }
   },
   "outputs": [
    {
     "name": "stderr",
     "output_type": "stream",
     "text": [
      "WARNING:root:The version of the SDK does not match the version the model was trained on.\n",
      "WARNING:root:The consistency in the result may not be guaranteed.\n",
      "WARNING:root:Package:azureml-automl-core, training version:1.44.0, current version:1.43.0\n",
      "Package:azureml-automl-runtime, training version:1.44.0, current version:1.43.0\n",
      "Package:azureml-core, training version:1.44.0, current version:1.43.0\n",
      "Package:azureml-dataprep, training version:4.2.2, current version:4.0.4\n",
      "Package:azureml-dataprep-rslex, training version:2.8.1, current version:2.6.3\n",
      "Package:azureml-dataset-runtime, training version:1.44.0, current version:1.43.0.post2\n",
      "Package:azureml-defaults, training version:1.44.0, current version:1.43.0\n",
      "Package:azureml-inference-server-http, training version:0.7.4, current version:0.4.13\n",
      "Package:azureml-interpret, training version:1.44.0, current version:1.43.0\n",
      "Package:azureml-mlflow, training version:1.44.0, current version:1.43.0.post1\n",
      "Package:azureml-pipeline-core, training version:1.44.0, current version:1.43.0\n",
      "Package:azureml-responsibleai, training version:1.44.0, current version:1.43.0\n",
      "Package:azureml-telemetry, training version:1.44.0, current version:1.43.0\n",
      "Package:azureml-train-automl-client, training version:1.44.0, current version:1.43.0\n",
      "Package:azureml-train-automl-runtime, training version:1.44.0, current version:1.43.0\n",
      "Package:azureml-train-core, training version:1.44.0, current version:1.43.0\n",
      "Package:azureml-train-restclients-hyperdrive, training version:1.44.0, current version:1.43.0\n",
      "Package:azureml-training-tabular, training version:1.44.0, current version:1.43.0\n",
      "WARNING:root:Please ensure the version of your local conda dependencies match the version on which your model was trained in order to properly retrieve your model.\n"
     ]
    },
    {
     "name": "stdout",
     "output_type": "stream",
     "text": [
      "AutoML_7ec42a0e-ef4a-4651-8a50-c808bca08781_38\n",
      "Pipeline(memory=None,\n",
      "         steps=[('datatransformer',\n",
      "                 DataTransformer(enable_dnn=False, enable_feature_sweeping=True, feature_sweeping_config={}, feature_sweeping_timeout=86400, featurization_config=None, force_text_dnn=False, is_cross_validation=True, is_onnx_compatible=False, observer=None, task='classification', working_dir='/mnt/batch/tasks/shared/LS_root/mount...\n",
      "                 PreFittedSoftVotingClassifier(classification_labels=array([0, 1]), estimators=[('0', Pipeline(memory=None, steps=[('maxabsscaler', MaxAbsScaler(copy=True)), ('lightgbmclassifier', LightGBMClassifier(min_data_in_leaf=20, n_jobs=1, problem_info=ProblemInfo(gpu_training_param_dict={'processing_unit_type': 'cpu'}), random_state=None))], verbose=False)), ('1', Pipeline(memory=None, steps=[('maxabsscaler', MaxAbsScaler(copy=True)), ('xgboostclassifier', XGBoostClassifier(n_jobs=1, problem_info=ProblemInfo(gpu_training_param_dict={'processing_unit_type': 'cpu'}), random_state=0, tree_method='auto'))], verbose=False)), ('22', Pipeline(memory=None, steps=[('standardscalerwrapper', StandardScalerWrapper(copy=True, with_mean=False, with_std=False)), ('xgboostclassifier', XGBoostClassifier(booster='gbtree', colsample_bytree=0.7, eta=0.3, gamma=0, max_depth=5, max_leaves=0, n_estimators=100, n_jobs=1, objective='reg:logistic', problem_info=ProblemInfo(gpu_training_param_dict={'processing_unit_type': 'cpu'}), random_state=0, reg_alpha=1.5625, reg_lambda=2.1875, subsample=0.7, tree_method='auto'))], verbose=False)), ('34', Pipeline(memory=None, steps=[('maxabsscaler', MaxAbsScaler(copy=True)), ('lightgbmclassifier', LightGBMClassifier(boosting_type='goss', colsample_bytree=0.5944444444444444, learning_rate=0.1, max_bin=60, max_depth=7, min_child_weight=4, min_data_in_leaf=1e-05, min_split_gain=0.9473684210526315, n_estimators=50, n_jobs=1, num_leaves=23, problem_info=ProblemInfo(gpu_training_param_dict={'processing_unit_type': 'cpu'}), random_state=None, reg_alpha=0.21052631578947367, reg_lambda=0.05263157894736842, subsample=1))], verbose=False)), ('31', Pipeline(memory=None, steps=[('standardscalerwrapper', StandardScalerWrapper(copy=True, with_mean=False, with_std=False)), ('xgboostclassifier', XGBoostClassifier(booster='gbtree', colsample_bytree=1, eta=0.05, gamma=0, max_depth=10, max_leaves=511, n_estimators=100, n_jobs=1, objective='reg:logistic', problem_info=ProblemInfo(gpu_training_param_dict={'processing_unit_type': 'cpu'}), random_state=0, reg_alpha=0.8333333333333334, reg_lambda=0.10416666666666667, subsample=0.8, tree_method='auto'))], verbose=False))], flatten_transform=None, weights=[0.4666666666666667, 0.2, 0.2, 0.06666666666666667, 0.06666666666666667]))],\n",
      "         verbose=False)\n",
      "Y_transformer(['LabelEncoder', LabelEncoder()])\n"
     ]
    }
   ],
   "source": [
    "automl_run_job, best_automl_model = remote_run.get_output()\n",
    "print(automl_run_job.id)\n",
    "print(best_automl_model)"
   ]
  },
  {
   "cell_type": "code",
   "execution_count": 13,
   "metadata": {
    "gather": {
     "logged": 1598431426111
    },
    "jupyter": {
     "outputs_hidden": false,
     "source_hidden": false
    },
    "nteract": {
     "transient": {
      "deleting": false
     }
    }
   },
   "outputs": [
    {
     "data": {
      "text/plain": [
       "['automl_model.joblib']"
      ]
     },
     "execution_count": 13,
     "metadata": {},
     "output_type": "execute_result"
    }
   ],
   "source": [
    "import joblib\n",
    "\n",
    "# Save the best model\n",
    "joblib.dump(value=best_automl_model, filename='automl_model.joblib')"
   ]
  },
  {
   "cell_type": "markdown",
   "metadata": {},
   "source": [
    "## Model Deployment\n",
    "\n",
    "Remember you have to deploy only one of the two models you trained but you still need to register both the models. Perform the steps in the rest of this notebook only if you wish to deploy this model."
   ]
  },
  {
   "cell_type": "code",
   "execution_count": 23,
   "metadata": {
    "gather": {
     "logged": 1598431435189
    },
    "jupyter": {
     "outputs_hidden": false,
     "source_hidden": false
    },
    "nteract": {
     "transient": {
      "deleting": false
     }
    }
   },
   "outputs": [],
   "source": [
    "from azureml.core.model import Model, InferenceConfig\n",
    "from azureml.core.resource_configuration import ResourceConfiguration\n",
    "\n",
    "# Register the model\n",
    "model = automl_run_job.register_model(model_name='best-automl-model',\n",
    "                                      model_path='outputs/model.pkl',\n",
    "                                      description='Best model from the output of AutoML for Credit Card Churn Prediction')"
   ]
  },
  {
   "cell_type": "code",
   "execution_count": 65,
   "metadata": {
    "gather": {
     "logged": 1598432707604
    },
    "jupyter": {
     "outputs_hidden": false,
     "source_hidden": false
    },
    "nteract": {
     "transient": {
      "deleting": false
     }
    }
   },
   "outputs": [
    {
     "name": "stdout",
     "output_type": "stream",
     "text": [
      "Tips: You can try get_logs(): https://aka.ms/debugimage#dockerlog or local deployment: https://aka.ms/debugimage#debug-locally to debug if deployment takes longer than 10 minutes.\n",
      "Running\n",
      "2022-08-12 09:00:22+00:00 Creating Container Registry if not exists.\n",
      "2022-08-12 09:00:22+00:00 Registering the environment.\n",
      "2022-08-12 09:00:24+00:00 Use the existing image.\n",
      "2022-08-12 09:00:25+00:00 Generating deployment configuration.\n",
      "2022-08-12 09:00:25+00:00 Submitting deployment to compute.\n",
      "2022-08-12 09:00:29+00:00 Checking the status of deployment automl-model-deployment..\n",
      "2022-08-12 09:02:42+00:00 Checking the status of inference endpoint automl-model-deployment.\n",
      "Succeeded\n",
      "ACI service creation operation finished, operation \"Succeeded\"\n"
     ]
    }
   ],
   "source": [
    "from azureml.core import Environment\n",
    "from azureml.core.webservice import AciWebservice\n",
    "\n",
    "# Get the output files from the AutoML run job for the best model to use for deployment\n",
    "automl_run_job.download_files(output_directory='automl_output')\n",
    "\n",
    "env = Environment.from_conda_specification('automl-env', './automl_output/outputs/conda_env_v_1_0_0.yml')\n",
    "\n",
    "inference_config = InferenceConfig(environment=env,\n",
    "                                   entry_script='./automl_output/outputs/scoring_file_v_1_0_0.py')\n",
    "\n",
    "deployment_config = AciWebservice.deploy_configuration(cpu_cores=1,\n",
    "                                                       memory_gb=1,\n",
    "                                                       enable_app_insights=True)\n",
    "\n",
    "# Deploy the model\n",
    "deployment_name = 'automl-model-deployment'\n",
    "service = Model.deploy(workspace=ws,\n",
    "                       name=deployment_name,\n",
    "                       models=[model],\n",
    "                       inference_config=inference_config,\n",
    "                       deployment_config=deployment_config,\n",
    "                       overwrite=True)\n",
    "service.wait_for_deployment(show_output=True)"
   ]
  },
  {
   "cell_type": "markdown",
   "metadata": {
    "collapsed": true,
    "gather": {
     "logged": 1598432765711
    },
    "jupyter": {
     "outputs_hidden": false,
     "source_hidden": false
    },
    "nteract": {
     "transient": {
      "deleting": false
     }
    }
   },
   "source": [
    "TODO: In the cell below, print the logs of the web service and delete the service"
   ]
  },
  {
   "cell_type": "code",
   "execution_count": 76,
   "metadata": {},
   "outputs": [],
   "source": [
    "# Testing the endpoint\n",
    "import requests\n",
    "import json\n",
    "\n",
    "rest_endpoint = service.scoring_uri\n",
    "headers = {'Content-type': 'application/json'}\n",
    "response = requests.post(rest_endpoint,\n",
    "                         headers=headers,\n",
    "                         json={\n",
    "                             'data': [{\n",
    "                                 \"Customer_Age\": 26,\n",
    "                                 \"Gender\": \"F\",\n",
    "                                 \"Dependent_count\": 1,\n",
    "                                 \"Education_Level\": \"Graduate\",\n",
    "                                 \"Marital_Status\": \"Single\",\n",
    "                                 \"Income_Category\": \"$60K - $80K\",\n",
    "                                 \"Card_Category\": \"Blue\",\n",
    "                                 \"Months_on_book\": 69,\n",
    "                                 \"Total_Relationship_Count\": 5,\n",
    "                                 \"Months_Inactive_12_mon\": 1,\n",
    "                                 \"Contacts_Count_12_mon\": 3,\n",
    "                                 \"Credit_Limit\": 42069.00,\n",
    "                                 \"Total_Revolving_Bal\": 777,\n",
    "                                 \"Avg_Open_To_Buy\": 11914.00,\n",
    "                                 \"Total_Amt_Chng_Q4_Q1\": 1.33,\n",
    "                                 \"Total_Trans_Amt\": 1144,\n",
    "                                 \"Total_Trans_Ct\": 40,\n",
    "                                 \"Total_Ct_Chng_Q4_Q1\": 1.69,\n",
    "                                 \"Avg_Utilization_Ratio\": 0.06\n",
    "                             }]\n",
    "                         }\n",
    "                        )\n"
   ]
  },
  {
   "cell_type": "code",
   "execution_count": 77,
   "metadata": {},
   "outputs": [
    {
     "name": "stdout",
     "output_type": "stream",
     "text": [
      "b'\"{\\\\\"result\\\\\": [\\\\\"Existing Customer\\\\\"]}\"'\n"
     ]
    }
   ],
   "source": [
    "print(response.content)"
   ]
  },
  {
   "cell_type": "code",
   "execution_count": 75,
   "metadata": {
    "jupyter": {
     "outputs_hidden": false,
     "source_hidden": false
    },
    "nteract": {
     "transient": {
      "deleting": false
     }
    }
   },
   "outputs": [
    {
     "name": "stdout",
     "output_type": "stream",
     "text": [
      "/bin/bash: /azureml-envs/azureml_aef7569aa4179bd7346618f9699ef669/lib/libtinfo.so.6: no version information available (required by /bin/bash)\n",
      "/bin/bash: /azureml-envs/azureml_aef7569aa4179bd7346618f9699ef669/lib/libtinfo.so.6: no version information available (required by /bin/bash)\n",
      "/bin/bash: /azureml-envs/azureml_aef7569aa4179bd7346618f9699ef669/lib/libtinfo.so.6: no version information available (required by /bin/bash)\n",
      "/bin/bash: /azureml-envs/azureml_aef7569aa4179bd7346618f9699ef669/lib/libtinfo.so.6: no version information available (required by /bin/bash)\n",
      "2022-08-12T09:02:33,300976000+00:00 - iot-server/run \n",
      "2022-08-12T09:02:33,302678700+00:00 - rsyslog/run \n",
      "2022-08-12T09:02:33,301246200+00:00 - gunicorn/run \n",
      "bash: /azureml-envs/azureml_aef7569aa4179bd7346618f9699ef669/lib/libtinfo.so.6: no version information available (required by bash)\n",
      "2022-08-12T09:02:33,322543700+00:00 | gunicorn/run | \n",
      "2022-08-12T09:02:33,329623500+00:00 | gunicorn/run | ###############################################\n",
      "2022-08-12T09:02:33,358640500+00:00 | gunicorn/run | AzureML Container Runtime Information\n",
      "2022-08-12T09:02:33,363525600+00:00 | gunicorn/run | ###############################################\n",
      "2022-08-12T09:02:33,378761800+00:00 | gunicorn/run | \n",
      "2022-08-12T09:02:33,386855900+00:00 - nginx/run \n",
      "2022-08-12T09:02:33,389205700+00:00 | gunicorn/run | \n",
      "2022-08-12T09:02:33,413667200+00:00 | gunicorn/run | AzureML image information: openmpi4.1.0-ubuntu20.04, Materializaton Build:20220616.v11\n",
      "2022-08-12T09:02:33,418034200+00:00 | gunicorn/run | \n",
      "2022-08-12T09:02:33,434645800+00:00 | gunicorn/run | \n",
      "2022-08-12T09:02:33,444182900+00:00 | gunicorn/run | PATH environment variable: /azureml-envs/azureml_aef7569aa4179bd7346618f9699ef669/bin:/opt/miniconda/bin:/usr/local/sbin:/usr/local/bin:/usr/sbin:/usr/bin:/sbin:/bin\n",
      "2022-08-12T09:02:33,454444400+00:00 | gunicorn/run | PYTHONPATH environment variable: \n",
      "2022-08-12T09:02:33,476107700+00:00 | gunicorn/run | \n",
      "2022-08-12T09:02:33,488922700+00:00 | gunicorn/run | Pip Dependencies (before dynamic installation)\n",
      "\n",
      "EdgeHubConnectionString and IOTEDGE_IOTHUBHOSTNAME are not set. Exiting...\n",
      "/bin/bash: /azureml-envs/azureml_aef7569aa4179bd7346618f9699ef669/lib/libtinfo.so.6: no version information available (required by /bin/bash)\n",
      "2022-08-12T09:02:33,696773900+00:00 - iot-server/finish 1 0\n",
      "2022-08-12T09:02:33,702340200+00:00 - Exit code 1 is normal. Not restarting iot-server.\n",
      "adal==1.2.7\n",
      "applicationinsights==0.11.10\n",
      "argcomplete==2.0.0\n",
      "arviz @ file:///tmp/build/80754af9/arviz_1614019183254/work\n",
      "attrs==22.1.0\n",
      "azure-common==1.1.28\n",
      "azure-core==1.25.0\n",
      "azure-graphrbac==0.61.1\n",
      "azure-identity==1.7.0\n",
      "azure-mgmt-authorization==2.0.0\n",
      "azure-mgmt-containerregistry==10.0.0\n",
      "azure-mgmt-core==1.3.2\n",
      "azure-mgmt-keyvault==10.1.0\n",
      "azure-mgmt-resource==21.1.0\n",
      "azure-mgmt-storage==20.0.0\n",
      "azure-storage-blob==12.9.0\n",
      "azure-storage-queue==12.4.0\n",
      "azureml-automl-core==1.44.0\n",
      "azureml-automl-runtime==1.44.0\n",
      "azureml-core==1.44.0\n",
      "azureml-dataprep==4.2.2\n",
      "azureml-dataprep-native==38.0.0\n",
      "azureml-dataprep-rslex==2.8.1\n",
      "azureml-dataset-runtime==1.44.0\n",
      "azureml-defaults==1.44.0\n",
      "azureml-inference-server-http==0.7.4\n",
      "azureml-interpret==1.44.0\n",
      "azureml-mlflow==1.44.0\n",
      "azureml-telemetry==1.44.0\n",
      "azureml-train-automl-client==1.44.0\n",
      "azureml-train-automl-runtime==1.44.0\n",
      "azureml-train-core==1.44.0\n",
      "azureml-train-restclients-hyperdrive==1.44.0\n",
      "azureml-training-tabular==1.44.0\n",
      "backports.tempfile==1.0\n",
      "backports.weakref==1.0.post1\n",
      "bcrypt==3.2.2\n",
      "bokeh==2.4.3\n",
      "boto==2.49.0\n",
      "boto3==1.20.19\n",
      "botocore==1.23.19\n",
      "cachetools==5.2.0\n",
      "certifi @ file:///opt/conda/conda-bld/certifi_1655968806487/work/certifi\n",
      "cffi==1.15.1\n",
      "cftime @ file:///tmp/build/80754af9/cftime_1638345281172/work\n",
      "charset-normalizer==2.1.0\n",
      "click==7.1.2\n",
      "cloudpickle==2.1.0\n",
      "configparser==3.7.4\n",
      "contextlib2==21.6.0\n",
      "convertdate @ file:///tmp/build/80754af9/convertdate_1634070773133/work\n",
      "cryptography==37.0.4\n",
      "cycler @ file:///tmp/build/80754af9/cycler_1637851556182/work\n",
      "Cython==0.29.17\n",
      "dask==2.30.0\n",
      "databricks-cli==0.17.0\n",
      "dataclasses==0.6\n",
      "dill==0.3.5.1\n",
      "distributed==2.30.1\n",
      "distro==1.7.0\n",
      "docker==5.0.3\n",
      "dotnetcore2==3.1.23\n",
      "entrypoints==0.4\n",
      "ephem @ file:///tmp/build/80754af9/ephem_1638960312619/work\n",
      "fbprophet @ file:///home/conda/feedstock_root/build_artifacts/fbprophet_1599365534439/work\n",
      "fire==0.4.0\n",
      "Flask==1.1.4\n",
      "Flask-Cors==3.0.10\n",
      "flatbuffers==2.0\n",
      "fonttools==4.25.0\n",
      "fsspec==2022.7.1\n",
      "fusepy==3.0.1\n",
      "gensim==3.8.3\n",
      "gitdb==4.0.9\n",
      "GitPython==3.1.27\n",
      "google-api-core==2.8.2\n",
      "google-auth==2.10.0\n",
      "googleapis-common-protos==1.56.4\n",
      "gunicorn==20.1.0\n",
      "HeapDict==1.0.1\n",
      "holidays @ file:///home/conda/feedstock_root/build_artifacts/holidays_1595448845196/work\n",
      "humanfriendly==10.0\n",
      "idna==3.3\n",
      "importlib-metadata==4.12.0\n",
      "importlib-resources==5.9.0\n",
      "inference-schema==1.4.1\n",
      "interpret-community==0.26.0\n",
      "interpret-core==0.2.7\n",
      "isodate==0.6.1\n",
      "itsdangerous==1.1.0\n",
      "jeepney==0.8.0\n",
      "Jinja2==2.11.2\n",
      "jmespath==0.10.0\n",
      "joblib==0.14.1\n",
      "json-logging-py==0.2\n",
      "jsonpickle==2.2.0\n",
      "jsonschema==4.9.1\n",
      "keras2onnx==1.6.0\n",
      "kiwisolver @ file:///opt/conda/conda-bld/kiwisolver_1653292039266/work\n",
      "knack==0.9.0\n",
      "korean-lunar-calendar @ file:///tmp/build/80754af9/korean_lunar_calendar_1634063020401/work\n",
      "lightgbm==3.2.1\n",
      "llvmlite==0.38.1\n",
      "locket==1.0.0\n",
      "LunarCalendar @ file:///tmp/build/80754af9/lunarcalendar_1646383991234/work\n",
      "MarkupSafe==2.0.1\n",
      "matplotlib @ file:///tmp/build/80754af9/matplotlib-suite_1634667019719/work\n",
      "mkl-fft==1.3.0\n",
      "mkl-random==1.1.0\n",
      "mkl-service==2.3.0\n",
      "ml-wrappers==0.2.0\n",
      "mlflow-skinny==1.28.0\n",
      "msal==1.18.0\n",
      "msal-extensions==0.3.1\n",
      "msgpack==1.0.4\n",
      "msrest==0.7.1\n",
      "msrestazure==0.6.4\n",
      "munkres==1.1.4\n",
      "ndg-httpsclient==0.5.1\n",
      "netCDF4==1.5.7\n",
      "nimbusml==1.8.0\n",
      "numba==0.55.2\n",
      "numpy==1.21.6\n",
      "oauthlib==3.2.0\n",
      "onnx==1.12.0\n",
      "onnxconverter-common==1.6.0\n",
      "onnxmltools==1.4.1\n",
      "onnxruntime==1.11.1\n",
      "opencensus==0.11.0\n",
      "opencensus-context==0.1.3\n",
      "opencensus-ext-azure==1.1.6\n",
      "packaging @ file:///tmp/build/80754af9/packaging_1637314298585/work\n",
      "pandas==1.1.5\n",
      "paramiko==2.11.0\n",
      "partd==1.3.0\n",
      "pathspec==0.9.0\n",
      "patsy==0.5.2\n",
      "Pillow==9.0.1\n",
      "pkginfo==1.8.3\n",
      "pkgutil_resolve_name==1.3.10\n",
      "pmdarima==1.7.1\n",
      "portalocker==2.5.1\n",
      "protobuf==3.20.1\n",
      "psutil @ file:///tmp/build/80754af9/psutil_1612298016854/work\n",
      "pyarrow==6.0.0\n",
      "pyasn1==0.4.8\n",
      "pyasn1-modules==0.2.8\n",
      "pycparser==2.21\n",
      "Pygments==2.12.0\n",
      "PyJWT==2.4.0\n",
      "PyMeeus @ file:///tmp/build/80754af9/pymeeus_1634069098549/work\n",
      "PyNaCl==1.5.0\n",
      "pyOpenSSL==22.0.0\n",
      "pyparsing @ file:///tmp/build/80754af9/pyparsing_1635766073266/work\n",
      "pyrsistent==0.18.1\n",
      "PySocks==1.7.1\n",
      "pystan @ file:///tmp/build/80754af9/pystan_1613565226242/work\n",
      "python-dateutil @ file:///tmp/build/80754af9/python-dateutil_1626374649649/work\n",
      "pytz @ file:///opt/conda/conda-bld/pytz_1654762638606/work\n",
      "PyYAML==6.0\n",
      "requests==2.28.1\n",
      "requests-oauthlib==1.3.1\n",
      "rsa==4.9\n",
      "s3transfer==0.5.2\n",
      "scikit-learn==0.22.1\n",
      "scipy==1.5.3\n",
      "SecretStorage==3.3.2\n",
      "shap==0.39.0\n",
      "six @ file:///tmp/build/80754af9/six_1644875935023/work\n",
      "skl2onnx==1.4.9\n",
      "sklearn-pandas==1.7.0\n",
      "slicer==0.0.7\n",
      "smart-open==1.9.0\n",
      "smmap==5.0.0\n",
      "sortedcontainers==2.4.0\n",
      "sqlparse==0.4.2\n",
      "statsmodels==0.11.1\n",
      "tabulate==0.8.10\n",
      "tblib==1.7.0\n",
      "termcolor==1.1.0\n",
      "toolz==0.12.0\n",
      "tornado @ file:///tmp/build/80754af9/tornado_1606942283357/work\n",
      "tqdm @ file:///opt/conda/conda-bld/tqdm_1650891076910/work\n",
      "typing_extensions @ file:///opt/conda/conda-bld/typing_extensions_1647553014482/work\n",
      "urllib3==1.26.9\n",
      "websocket-client==1.3.3\n",
      "Werkzeug==1.0.1\n",
      "wrapt==1.12.1\n",
      "xarray @ file:///opt/conda/conda-bld/xarray_1639166117697/work\n",
      "xgboost==1.3.3\n",
      "zict==2.2.0\n",
      "zipp==3.8.1\n",
      "\n",
      "2022-08-12T09:02:34,953118700+00:00 | gunicorn/run | \n",
      "2022-08-12T09:02:34,956769200+00:00 | gunicorn/run | ###############################################\n",
      "2022-08-12T09:02:34,958204500+00:00 | gunicorn/run | AzureML Inference Server\n",
      "2022-08-12T09:02:34,959581500+00:00 | gunicorn/run | ###############################################\n",
      "2022-08-12T09:02:34,965981500+00:00 | gunicorn/run | \n",
      "2022-08-12T09:02:34,967963500+00:00 | gunicorn/run | \n",
      "2022-08-12T09:02:34,971546700+00:00 | gunicorn/run | Starting HTTP server\n",
      "2022-08-12T09:02:34,976406500+00:00 | gunicorn/run | \n",
      "Starting gunicorn 20.1.0\n",
      "Listening at: http://127.0.0.1:31311 (79)\n",
      "Using worker: sync\n",
      "worker timeout is set to 300\n",
      "Booting worker with pid: 128\n",
      "SPARK_HOME not set. Skipping PySpark Initialization.\n",
      "Initializing logger\n",
      "2022-08-12 09:02:36,922 | root | INFO | Starting up app insights client\n",
      "DeprecationWarning: Explicitly using instrumentation key isdeprecated. Please use a connection string instead.\n",
      "DeprecationWarning: Explicitly using instrumentation key isdeprecated. Please use a connection string instead.\n",
      "DeprecationWarning: Explicitly using instrumentation key isdeprecated. Please use a connection string instead.\n",
      "logging socket was found. logging is available.\n",
      "logging socket was found. logging is available.\n",
      "2022-08-12 09:02:41,940 | root | INFO | Starting up request id generator\n",
      "2022-08-12 09:02:41,940 | root | INFO | Starting up app insight hooks\n",
      "2022-08-12 09:02:41,941 | root | INFO | Invoking user's init function\n",
      "2022-08-12 09:02:50,797 | root | INFO | Users's init has completed successfully\n",
      "2022-08-12 09:02:50,801 | root | INFO | Skipping middleware: dbg_model_info as it's not enabled.\n",
      "2022-08-12 09:02:50,801 | root | INFO | Skipping middleware: dbg_resource_usage as it's not enabled.\n",
      "Generating swagger file: /tmp/tmpkqk8or8k\n",
      "2022-08-12 09:02:50,807 | root | INFO | Scoring timeout is found from os.environ: 60000 ms\n",
      "2022-08-12 09:02:50,824 | root | INFO | 200\n",
      "127.0.0.1 - - [12/Aug/2022:09:02:50 +0000] \"GET /swagger.json HTTP/1.0\" 200 4049 \"-\" \"Go-http-client/1.1\"\n",
      "2022-08-12 09:02:52,771 | root | INFO | 200\n",
      "127.0.0.1 - - [12/Aug/2022:09:02:52 +0000] \"GET /swagger.json HTTP/1.0\" 200 4049 \"-\" \"Go-http-client/1.1\"\n",
      "2022-08-12 09:05:11,572 | root | INFO | Validation Request Content-Type\n",
      "2022-08-12 09:05:11,572 | root | INFO | Scoring Timer is set to 60.0 seconds\n",
      "2022-08-12 09:05:11,705 | root | INFO | 200\n",
      "127.0.0.1 - - [12/Aug/2022:09:05:11 +0000] \"POST /score HTTP/1.0\" 200 39 \"-\" \"python-requests/2.28.0\"\n",
      "2022-08-12 09:09:40,815 | root | INFO | 200\n",
      "127.0.0.1 - - [12/Aug/2022:09:09:40 +0000] \"GET /swagger.json HTTP/1.0\" 200 4049 \"-\" \"Go-http-client/1.1\"\n",
      "2022-08-12 09:09:47,138 | root | INFO | 200\n",
      "127.0.0.1 - - [12/Aug/2022:09:09:47 +0000] \"GET /swagger.json HTTP/1.0\" 200 4049 \"-\" \"Go-http-client/1.1\"\n",
      "2022-08-12 09:09:48,210 | root | INFO | 200\n",
      "127.0.0.1 - - [12/Aug/2022:09:09:48 +0000] \"GET /swagger.json HTTP/1.0\" 200 4049 \"-\" \"Go-http-client/1.1\"\n",
      "2022-08-12 09:09:48,629 | root | INFO | 200\n",
      "127.0.0.1 - - [12/Aug/2022:09:09:48 +0000] \"GET /swagger.json HTTP/1.0\" 200 4049 \"-\" \"Go-http-client/1.1\"\n",
      "2022-08-12 09:09:49,837 | root | INFO | 200\n",
      "127.0.0.1 - - [12/Aug/2022:09:09:49 +0000] \"GET /swagger.json HTTP/1.0\" 200 4049 \"-\" \"Go-http-client/1.1\"\n",
      "127.0.0.1 - - [12/Aug/2022:09:12:34 +0000] \"POST /HNAP1/ HTTP/1.0\" 404 232 \"-\" \"Mozila/5.0\"\n",
      "2022-08-12 09:38:48,611 | root | INFO | Validation Request Content-Type\n",
      "2022-08-12 09:38:48,612 | root | INFO | Scoring Timer is set to 60.0 seconds\n",
      "2022-08-12 09:38:48,727 | root | INFO | 200\n",
      "127.0.0.1 - - [12/Aug/2022:09:38:48 +0000] \"POST /score HTTP/1.0\" 200 39 \"-\" \"python-requests/2.28.0\"\n",
      "2022-08-12 09:39:24,340 | root | INFO | 200\n",
      "127.0.0.1 - - [12/Aug/2022:09:39:24 +0000] \"GET /swagger.json HTTP/1.0\" 200 4049 \"-\" \"Go-http-client/1.1\"\n",
      "2022-08-12 09:39:32,961 | root | INFO | 200\n",
      "127.0.0.1 - - [12/Aug/2022:09:39:32 +0000] \"GET /swagger.json HTTP/1.0\" 200 4049 \"-\" \"Go-http-client/1.1\"\n",
      "2022-08-12 09:41:02,168 | root | INFO | 200\n",
      "127.0.0.1 - - [12/Aug/2022:09:41:02 +0000] \"GET /swagger.json HTTP/1.0\" 200 4049 \"-\" \"Go-http-client/1.1\"\n",
      "2022-08-12 09:41:24,682 | root | INFO | Validation Request Content-Type\n",
      "2022-08-12 09:41:24,684 | root | INFO | Scoring Timer is set to 60.0 seconds\n",
      "2022-08-12 09:41:24,812 | root | INFO | 200\n",
      "127.0.0.1 - - [12/Aug/2022:09:41:24 +0000] \"POST /score HTTP/1.0\" 200 39 \"-\" \"python-requests/2.28.0\"\n",
      "\n"
     ]
    }
   ],
   "source": [
    "# Print logs for the Webservice\n",
    "logs = service.get_logs()\n",
    "for line in logs.split('\\n'):\n",
    "    print(line)"
   ]
  },
  {
   "cell_type": "code",
   "execution_count": null,
   "metadata": {},
   "outputs": [],
   "source": [
    "# Delete the Webservice and Compute Cluster\n",
    "service.delete()\n",
    "compute_target.delete()"
   ]
  },
  {
   "cell_type": "markdown",
   "metadata": {},
   "source": [
    "**Submission Checklist**\n",
    "- I have registered the model.\n",
    "- I have deployed the model with the best accuracy as a webservice.\n",
    "- I have tested the webservice by sending a request to the model endpoint.\n",
    "- I have deleted the webservice and shutdown all the computes that I have used.\n",
    "- I have taken a screenshot showing the model endpoint as active.\n",
    "- The project includes a file containing the environment details.\n"
   ]
  },
  {
   "cell_type": "markdown",
   "metadata": {},
   "source": []
  }
 ],
 "metadata": {
  "kernel_info": {
   "name": "python3-azureml"
  },
  "kernelspec": {
   "display_name": "Python 3.8 - AzureML",
   "language": "python",
   "name": "python38-azureml"
  },
  "language_info": {
   "codemirror_mode": {
    "name": "ipython",
    "version": 3
   },
   "file_extension": ".py",
   "mimetype": "text/x-python",
   "name": "python",
   "nbconvert_exporter": "python",
   "pygments_lexer": "ipython3",
   "version": "3.8.13"
  },
  "nteract": {
   "version": "nteract-front-end@1.0.0"
  }
 },
 "nbformat": 4,
 "nbformat_minor": 2
}
